{
 "cells": [
  {
   "cell_type": "code",
   "execution_count": 1,
   "metadata": {},
   "outputs": [],
   "source": [
    "import torch\n",
    "import torch.utils.data as data\n",
    "\n",
    "import numpy as np"
   ]
  },
  {
   "cell_type": "code",
   "execution_count": 2,
   "metadata": {},
   "outputs": [],
   "source": [
    "from torch import nn, optim as opts\n",
    "from plasma import blocks\n",
    "from plasma.training import Trainer, metrics, callbacks\n",
    "from tensorflow.keras import datasets as dts"
   ]
  },
  {
   "cell_type": "code",
   "execution_count": 3,
   "metadata": {},
   "outputs": [],
   "source": [
    "(x_train, y_train), (x_test, y_test) = dts.mnist.load_data()"
   ]
  },
  {
   "cell_type": "code",
   "execution_count": 4,
   "metadata": {},
   "outputs": [],
   "source": [
    "train = data.TensorDataset(torch.tensor(x_train[:, None, ...] / 127.5 - 1, dtype=torch.float), torch.tensor(y_train, dtype=torch.float))\n",
    "test = data.TensorDataset(torch.tensor(x_test[:, None, ...] / 127.5 - 1, dtype=torch.float), torch.tensor(y_test, dtype=torch.float)) "
   ]
  },
  {
   "cell_type": "code",
   "execution_count": 5,
   "metadata": {},
   "outputs": [
    {
     "data": {
      "text/plain": [
       "Sequential(\n",
       "  (0): ConvBlock(\n",
       "    (transformer): Conv2d(1, 64, kernel_size=(1, 1), stride=(1, 1), bias=False)\n",
       "    (normalizer): BatchNorm2d(64, eps=1e-05, momentum=0.1, affine=True, track_running_stats=True)\n",
       "    (activator): ReLU()\n",
       "  )\n",
       "  (1): ConvBlock(\n",
       "    (transformer): Conv2d(64, 128, kernel_size=(3, 3), stride=(2, 2), padding=(1, 1), bias=False)\n",
       "    (normalizer): BatchNorm2d(128, eps=1e-05, momentum=0.1, affine=True, track_running_stats=True)\n",
       "    (activator): ReLU()\n",
       "  )\n",
       "  (2): ConvBlock(\n",
       "    (transformer): Conv2d(128, 256, kernel_size=(3, 3), stride=(2, 2), padding=(1, 1), bias=False)\n",
       "    (normalizer): BatchNorm2d(256, eps=1e-05, momentum=0.1, affine=True, track_running_stats=True)\n",
       "    (activator): ReLU()\n",
       "  )\n",
       "  (3): GlobalAverage(axes=[2, 3], keepdims=False)\n",
       "  (4): Linear(in_features=256, out_features=10, bias=True)\n",
im       ")"
      ]
     },
     "execution_count": 5,
     "metadata": {},
     "output_type": "execute_result"
    }
   ],
   "source": [
    "model = nn.Sequential(*[\n",
    "    blocks.ConvBlock(1, 64, kernel_size=1, padding=0),\n",
    "    blocks.ConvBlock(64, 128, stride=2),\n",
    "    blocks.ConvBlock(128, 256, stride=2),\n",
    "    blocks.commons.GlobalAverage(),\n",
    "    nn.Linear(256, 10),\n",
    "    #nn.Softmax(dim=-1)\n",
    "])\n",
    "\n",
    "model.cuda(0)"
   ]
  },
  {
   "cell_type": "code",
   "execution_count": 6,
   "metadata": {},
   "outputs": [],
   "source": [
    "loss = nn.CrossEntropyLoss()"
   ]
  },
  {
   "cell_type": "code",
   "execution_count": 7,
   "metadata": {},
   "outputs": [],
   "source": [
    "#trainer = Trainer(model, opts.Adam(model.parameters(), lr=1e-3), loss, metrics=[metrics.accuracy])\n",
    "trainer = Trainer(model, opts.SGD(model.parameters(), lr=3.2), loss, metrics=[metrics.accuracy])"
   ]
  },
  {
   "cell_type": "code",
   "execution_count": 8,
   "metadata": {},
   "outputs": [],
   "source": [
    "cbs = [\n",
    "    callbacks.LrFinder(min_lr=1e-6, max_lr=20, epoch=5, iterations=len(train) // 32)\n",
    "    #callbacks.CLR(1e-5, 3.2, iterations=len(train) // 32, reduce_lr_each_cycle=True)\n",
    "    #callbacks.WarmRestart(1e-5, 1, factor=2)\n",
    "]"
   ]
  },
  {
   "cell_type": "code",
   "execution_count": 9,
   "metadata": {},
   "outputs": [
    {
     "name": "stdout",
     "output_type": "stream",
     "text": [
      "epoch: 1/5\n"
     ]
    },
    {
     "data": {
      "application/vnd.jupyter.widget-view+json": {
       "model_id": "21613f82e9554568958edaa3e9c685f9",
       "version_major": 2,
       "version_minor": 0
      },
      "text/plain": [
       "HBox(children=(IntProgress(value=0, description='train', max=1875, style=ProgressStyle(description_width='init…"
      ]
     },
     "metadata": {},
     "output_type": "display_data"
    },
    {
     "name": "stdout",
     "output_type": "stream",
     "text": [
      "\n",
      "epoch: 2/5\n"
     ]
    },
    {
     "data": {
      "application/vnd.jupyter.widget-view+json": {
       "model_id": "ce6413f4f8364bd2a47d8d1df8fdc777",
       "version_major": 2,
       "version_minor": 0
      },
      "text/plain": [
       "HBox(children=(IntProgress(value=0, description='train', max=1875, style=ProgressStyle(description_width='init…"
      ]
     },
     "metadata": {},
     "output_type": "display_data"
    },
    {
     "name": "stdout",
     "output_type": "stream",
     "text": [
      "\n",
      "epoch: 3/5\n"
     ]
    },
    {
     "data": {
      "application/vnd.jupyter.widget-view+json": {
       "model_id": "c6c8fffd51204df3bd64735045206500",
       "version_major": 2,
       "version_minor": 0
      },
      "text/plain": [
       "HBox(children=(IntProgress(value=0, description='train', max=1875, style=ProgressStyle(description_width='init…"
      ]
     },
     "metadata": {},
     "output_type": "display_data"
    },
    {
     "name": "stdout",
     "output_type": "stream",
     "text": [
      "\n",
      "epoch: 4/5\n"
     ]
    },
    {
     "data": {
      "application/vnd.jupyter.widget-view+json": {
       "model_id": "83a4d0682b4648538bc891a7ed644c48",
       "version_major": 2,
       "version_minor": 0
      },
      "text/plain": [
       "HBox(children=(IntProgress(value=0, description='train', max=1875, style=ProgressStyle(description_width='init…"
      ]
     },
     "metadata": {},
     "output_type": "display_data"
    },
    {
     "name": "stdout",
     "output_type": "stream",
     "text": [
      "\n",
      "epoch: 5/5\n"
     ]
    },
    {
     "data": {
      "application/vnd.jupyter.widget-view+json": {
       "model_id": "2053a4da700c447e9bf6cd015d63ac69",
       "version_major": 2,
       "version_minor": 0
      },
      "text/plain": [
       "HBox(children=(IntProgress(value=0, description='train', max=1875, style=ProgressStyle(description_width='init…"
      ]
     },
     "metadata": {},
     "output_type": "display_data"
    },
    {
     "name": "stdout",
     "output_type": "stream",
     "text": [
      "\n"
     ]
    },
    {
     "data": {
      "text/plain": [
       "<Figure size 640x480 with 1 Axes>"
      ]
     },
     "metadata": {},
     "output_type": "display_data"
    }
   ],
   "source": [
    "trainer.fit(train, None, epochs=5, callbacks=cbs)"
   ]
  },
  {
   "cell_type": "code",
   "execution_count": 10,
   "metadata": {},
   "outputs": [
    {
     "data": {
      "image/png": "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\n",
      "text/plain": [
       "<Figure size 432x288 with 1 Axes>"
      ]
     },
     "metadata": {
      "needs_background": "light"
     },
     "output_type": "display_data"
    }
   ],
   "source": [
    "cbs[0].plot_data()"
   ]
  },
  {
   "cell_type": "code",
   "execution_count": null,
   "metadata": {},
   "outputs": [],
   "source": []
  }
 ],
 "metadata": {
  "kernelspec": {
   "display_name": "Python 3",
   "language": "python",
   "name": "python3"
  },
  "language_info": {
   "codemirror_mode": {
    "name": "ipython",
    "version": 3
   },
   "file_extension": ".py",
   "mimetype": "text/x-python",
   "name": "python",
   "nbconvert_exporter": "python",
   "pygments_lexer": "ipython3",
   "version": "3.7.5"
  }
 },
 "nbformat": 4,
 "nbformat_minor": 4
}
