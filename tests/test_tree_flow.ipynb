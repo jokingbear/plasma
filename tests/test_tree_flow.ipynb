{
 "cells": [
  {
   "cell_type": "code",
   "execution_count": 1,
   "metadata": {},
   "outputs": [
    {
     "name": "stdout",
     "output_type": "stream",
     "text": [
      "/u02/thanhhm/research-idea\n"
     ]
    }
   ],
   "source": [
    "%cd ../"
   ]
  },
  {
   "cell_type": "code",
   "execution_count": 2,
   "metadata": {},
   "outputs": [
    {
     "name": "stderr",
     "output_type": "stream",
     "text": [
      "/u02/thanhhm/research-idea/.env/lib/python3.13/site-packages/tqdm/auto.py:21: TqdmWarning: IProgress not found. Please update jupyter and ipywidgets. See https://ipywidgets.readthedocs.io/en/stable/user_install.html\n",
      "  from .autonotebook import tqdm as notebook_tqdm\n"
     ]
    }
   ],
   "source": [
    "import time\n",
    "\n",
    "from plasma.parallel_processing import communicators, queues\n",
    "from plasma.parallel_processing.communicators.tree_flow import TreeFlow\n",
    "from plasma.functional import partials"
   ]
  },
  {
   "cell_type": "code",
   "execution_count": 3,
   "metadata": {},
   "outputs": [],
   "source": [
    "def compute(x):\n",
    "    time.sleep(2)\n",
    "    return x * 2\n",
    "\n",
    "def compute2(x):\n",
    "    time.sleep(2)\n",
    "    return x - 1"
   ]
  },
  {
   "cell_type": "code",
   "execution_count": 4,
   "metadata": {},
   "outputs": [
    {
     "data": {
      "text/plain": [
       "<function compute at 0x7fbe205332e0>\n",
       "\t|--<function compute2 at 0x7fbe20533380>\n",
       "\t\t|--print(step 2,*,**)\n",
       "\t|--print(step 1,*,**)"
      ]
     },
     "execution_count": 4,
     "metadata": {},
     "output_type": "execute_result"
    }
   ],
   "source": [
    "agg = communicators.Aggregator(total=10, process_base=False)\n",
    "class Flow(TreeFlow):\n",
    "\n",
    "    def __init__(self):\n",
    "        super().__init__()\n",
    "\n",
    "        self.register_chain(queues.ProcessQueue(5), None, compute)\n",
    "        self.register_chain(queues.ProcessQueue(5), compute, compute2)\n",
    "        self.register_chain(queues.TransferQueue(), compute, partials(print, 'step 1'))\n",
    "        self.register_chain(queues.TransferQueue(), compute2, partials(print, 'step 2'))\n",
    "\n",
    "flow = Flow()\n",
    "flow"
   ]
  },
  {
   "cell_type": "code",
   "execution_count": null,
   "metadata": {},
   "outputs": [
    {
     "name": "stdout",
     "output_type": "stream",
     "text": [
      "step 1 0\n",
      "step 1 2\n",
      "step 1 4\n",
      "step 1 6\n",
      "step 1 8\n",
      "step 1 10\n",
      "step 1 12\n",
      "step 1 14\n",
      "step 2 -1\n",
      "step 1 16\n",
      "step 1 18\n",
      "step 2 1\n",
      "step 2 5\n",
      "step 2 3\n",
      "step 2 7\n",
      "step 2 9\n",
      "step 2 11\n",
      "step 2 13\n",
      "step 2 15\n",
      "step 2 17\n"
     ]
    }
   ],
   "source": [
    "flow.run()"
   ]
  },
  {
   "cell_type": "code",
   "execution_count": 6,
   "metadata": {},
   "outputs": [],
   "source": [
    "for q, _ in flow.inputs():\n",
    "    for i in range(10):\n",
    "        q.put(i)"
   ]
  },
  {
   "cell_type": "code",
   "execution_count": null,
   "metadata": {},
   "outputs": [],
   "source": []
  }
 ],
 "metadata": {
  "kernelspec": {
   "display_name": "Python 3",
   "language": "python",
   "name": "python3"
  },
  "language_info": {
   "codemirror_mode": {
    "name": "ipython",
    "version": 3
   },
   "file_extension": ".py",
   "mimetype": "text/x-python",
   "name": "python",
   "nbconvert_exporter": "python",
   "pygments_lexer": "ipython3",
   "version": "3.13.1"
  }
 },
 "nbformat": 4,
 "nbformat_minor": 2
}
