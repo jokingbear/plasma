{
 "cells": [
  {
   "cell_type": "code",
   "execution_count": 1,
   "metadata": {},
   "outputs": [
    {
     "name": "stdout",
     "output_type": "stream",
     "text": [
      "/u02/thanhhm/research-idea\n"
     ]
    }
   ],
   "source": [
    "%cd ../"
   ]
  },
  {
   "cell_type": "code",
   "execution_count": 2,
   "metadata": {},
   "outputs": [
    {
     "name": "stderr",
     "output_type": "stream",
     "text": [
      "/u02/thanhhm/research-idea/.env/lib/python3.13/site-packages/tqdm/auto.py:21: TqdmWarning: IProgress not found. Please update jupyter and ipywidgets. See https://ipywidgets.readthedocs.io/en/stable/user_install.html\n",
      "  from .autonotebook import tqdm as notebook_tqdm\n"
     ]
    }
   ],
   "source": [
    "import time\n",
    "\n",
    "from plasma.parallel_processing import communicators, queues\n",
    "from plasma.parallel_processing.communicators import TreeFlow\n",
    "from plasma.functional import partials, AutoPipe"
   ]
  },
  {
   "cell_type": "code",
   "execution_count": 3,
   "metadata": {},
   "outputs": [],
   "source": [
    "def compute(x):\n",
    "    time.sleep(2)\n",
    "    return str(x)\n",
    "\n",
    "def compute2(x):\n",
    "    time.sleep(2)\n",
    "    return x + 'c'\n",
    "\n",
    "class ComputeClass(AutoPipe):\n",
    "\n",
    "    def __init__(self, hihi, haha):\n",
    "        super().__init__()\n",
    "    \n",
    "    def run(self, tmp):\n",
    "        return tmp + 'd'"
   ]
  },
  {
   "cell_type": "code",
   "execution_count": 4,
   "metadata": {},
   "outputs": [
    {
     "data": {
      "text/plain": [
       "*-[ThreadQueue(name=None, runner=1)]\n",
       "\n",
       "  |-(distributor:IteratorDistributor)\n",
       "\n",
       "    |-[ProcessQueue(name=None, runner=5)]\n",
       "\n",
       "      |-(compute:<function compute at 0x7fd8ac5d36a0>)\n",
       "\n",
       "        |-[ProcessQueue(name=None, runner=5)]\n",
       "\n",
       "          |-(compute2:<function compute2 at 0x7fd8ac5d3740>)\n",
       "\n",
       "            |-[TransferQueue(name=None, runner=1)]\n",
       "\n",
       "              |-(printer2:print(step 2,*,**))\n",
       "\n",
       "        |-[TransferQueue(name=None, runner=1)]\n",
       "\n",
       "          |-(printer1:print(step 1,*,**))\n",
       "\n",
       "        |-[ProcessQueue(name=None, runner=1)]\n",
       "\n",
       "          |-(compute3:ComputeClass)\n",
       "\n",
       "            |-[TransferQueue((name=None, runner=1)]-*\n",
       "\n",
       "            |-[ProcessQueue(name=None, runner=5)]\n",
       "\n",
       "              |-(compute2:<function compute2 at 0x7fd8ac5d3740>)..."
      ]
     },
     "execution_count": 4,
     "metadata": {},
     "output_type": "execute_result"
    }
   ],
   "source": [
    "out_queue= queues.TransferQueue()\n",
    "\n",
    "class Flow(TreeFlow):\n",
    "\n",
    "    def __init__(self):\n",
    "        super().__init__()\n",
    "\n",
    "        self.distributor = communicators.distributors.IteratorDistributor()\n",
    "        self.compute = compute\n",
    "        self.compute2 = compute2\n",
    "        self.compute3 = ComputeClass(1, 2)\n",
    "        self.printer1 = partials(print, 'step 1')\n",
    "        self.printer2 = partials(print, 'step 2')\n",
    "\n",
    "        self.chain(\n",
    "            (None, 'distributor', queues.ThreadQueue()),\n",
    "            ('distributor', 'compute', queues.ProcessQueue(5)),\n",
    "            ('compute', 'compute2', queues.ProcessQueue(5)),\n",
    "            ('compute', 'printer1', queues.TransferQueue()),\n",
    "            ('compute2', 'printer2', queues.TransferQueue()),\n",
    "            ('compute', 'compute3', queues.ProcessQueue()),\n",
    "            ('compute3', None, out_queue),\n",
    "            ('compute3', 'compute2'),\n",
    "        )\n",
    "\n",
    "flow = Flow()\n",
    "flow"
   ]
  },
  {
   "cell_type": "code",
   "execution_count": 5,
   "metadata": {},
   "outputs": [
    {
     "name": "stdout",
     "output_type": "stream",
     "text": [
      "step 1 0\n",
      "step 1 1\n",
      "step 1 0\n",
      "step 1 1\n",
      "step 1 2\n",
      "step 1 2\n",
      "step 1 3\n",
      "step 2 0c\n",
      "step 1 3\n",
      "step 1 4\n",
      "step 1 4\n",
      "step 2 1c\n",
      "step 2 0c\n",
      "step 2 1c\n",
      "step 2 2c\n",
      "step 1step 2 0dc\n",
      " 5\n",
      "step 1 5\n",
      "step 2 1dc\n",
      "step 1 6\n",
      "step 1 6\n",
      "step 1 7\n",
      "step 2 0dc\n",
      "step 2 1dc\n",
      "step 2 2dc\n",
      "step 1step 2 2c\n",
      " 7\n",
      "step 1 8\n",
      "step 2 2dc\n",
      "step 1 8\n",
      "step 1 9\n",
      "step 2 3c\n",
      "step 1 9\n",
      "step 2 3dc\n",
      "step 2 3dc\n",
      "step 2 3c\n",
      "step 2 4c\n",
      "step 2 4dc\n",
      "step 2 4c\n",
      "step 2 4dc\n",
      "step 2 5c\n",
      "step 2 5c\n",
      "step 2 6c\n",
      "step 2 5dc\n",
      "step 2 5dc\n",
      "step 2 6dc\n",
      "step 2 6c\n",
      "step 2 6dc\n",
      "step 2 7c\n",
      "step 2 7dc\n",
      "step 2 8c\n",
      "step 2 7c\n",
      "step 2 7dc\n",
      "step 2 8dc\n",
      "step 2 8c\n",
      "step 2 9c\n",
      "step 2 8dc\n",
      "step 2 9dc\n",
      "step 2 9c\n",
      "step 2 9dc\n"
     ]
    }
   ],
   "source": [
    "with flow:\n",
    "   for q in flow.inputs.values():\n",
    "      for i in range(10):\n",
    "         q.put([i] * 2)"
   ]
  },
  {
   "cell_type": "code",
   "execution_count": 6,
   "metadata": {},
   "outputs": [
    {
     "data": {
      "text/plain": [
       "*-[ThreadQueue(name=Identity, runner=1)]\n",
       "\n",
       "  |-(distributor:IteratorDistributor)\n",
       "\n",
       "    |-[ProcessQueue(name=compute, runner=5)]\n",
       "\n",
       "      |-(compute:<function compute at 0x7fd8ac5d36a0>)\n",
       "\n",
       "        |-[ProcessQueue(name=compute2, runner=5)]\n",
       "\n",
       "          |-(compute2:<function compute2 at 0x7fd8ac5d3740>)\n",
       "\n",
       "            |-[TransferQueue(name=partials, runner=1)]\n",
       "\n",
       "              |-(printer2:print(step 2,*,**))\n",
       "\n",
       "        |-[TransferQueue(name=partials, runner=1)]\n",
       "\n",
       "          |-(printer1:print(step 1,*,**))\n",
       "\n",
       "        |-[ProcessQueue(name=ComputeClass, runner=1)]\n",
       "\n",
       "          |-(compute3:ComputeClass)\n",
       "\n",
       "            |-[TransferQueue((name=None, runner=1)]-*\n",
       "\n",
       "            |-[ProcessQueue(name=compute2, runner=5)]\n",
       "\n",
       "              |-(compute2:<function compute2 at 0x7fd8ac5d3740>)..."
      ]
     },
     "execution_count": 6,
     "metadata": {},
     "output_type": "execute_result"
    }
   ],
   "source": [
    "flow"
   ]
  },
  {
   "cell_type": "code",
   "execution_count": null,
   "metadata": {},
   "outputs": [],
   "source": []
  }
 ],
 "metadata": {
  "kernelspec": {
   "display_name": "Python 3",
   "language": "python",
   "name": "python3"
  },
  "language_info": {
   "codemirror_mode": {
    "name": "ipython",
    "version": 3
   },
   "file_extension": ".py",
   "mimetype": "text/x-python",
   "name": "python",
   "nbconvert_exporter": "python",
   "pygments_lexer": "ipython3",
   "version": "3.13.1"
  }
 },
 "nbformat": 4,
 "nbformat_minor": 2
}
