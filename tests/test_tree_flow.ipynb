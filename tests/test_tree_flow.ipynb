{
 "cells": [
  {
   "cell_type": "code",
   "execution_count": 1,
   "metadata": {},
   "outputs": [
    {
     "name": "stdout",
     "output_type": "stream",
     "text": [
      "/u02/thanhhm/research-idea\n"
     ]
    }
   ],
   "source": [
    "%cd ../"
   ]
  },
  {
   "cell_type": "code",
   "execution_count": 2,
   "metadata": {},
   "outputs": [
    {
     "name": "stderr",
     "output_type": "stream",
     "text": [
      "/u02/thanhhm/research-idea/.env/lib/python3.13/site-packages/tqdm/auto.py:21: TqdmWarning: IProgress not found. Please update jupyter and ipywidgets. See https://ipywidgets.readthedocs.io/en/stable/user_install.html\n",
      "  from .autonotebook import tqdm as notebook_tqdm\n"
     ]
    }
   ],
   "source": [
    "import time\n",
    "\n",
    "from plasma.parallel_processing import communicators, queues\n",
    "from plasma.parallel_processing.communicators.tree_flow import TreeFlow\n",
    "from plasma.functional import partials, AutoPipe"
   ]
  },
  {
   "cell_type": "code",
   "execution_count": 3,
   "metadata": {},
   "outputs": [],
   "source": [
    "def compute(x):\n",
    "    time.sleep(2)\n",
    "    return [x * 2] * 2\n",
    "\n",
    "def compute2(x):\n",
    "    time.sleep(2)\n",
    "    return x - 1\n",
    "\n",
    "class ComputeClass(AutoPipe):\n",
    "\n",
    "    def __init__(self, hihi, haha):\n",
    "        super().__init__()\n",
    "    \n",
    "    def run(self, *inputs, **kwargs):\n",
    "        return queues.Signal.IGNORE"
   ]
  },
  {
   "cell_type": "code",
   "execution_count": 4,
   "metadata": {},
   "outputs": [
    {
     "data": {
      "text/plain": [
       "[ProcessQueue(runner=1)]\n",
       "\n",
       "  |-(compute:<function compute at 0x7fc64327f7e0>)-Yield\n",
       "\n",
       "    |-[ProcessQueue(runner=1)]\n",
       "\n",
       "      |-(compute2:<function compute2 at 0x7fc64327fba0>)\n",
       "\n",
       "        |-[TransferQueue(runner=1)]\n",
       "\n",
       "          |-(printer2:print(step 2,*,**))\n",
       "\n",
       "      |-[TransferQueue(runner=1)]\n",
       "\n",
       "        |-(printer1:print(step 1,*,**))\n",
       "\n",
       "        |-[ProcessQueue(runner=1)]\n",
       "\n",
       "          |-(compute3:ComputeClass)\n",
       "\n",
       "            |-[ThreadQueue(runner=1)]"
      ]
     },
     "execution_count": 4,
     "metadata": {},
     "output_type": "execute_result"
    }
   ],
   "source": [
    "class Flow(TreeFlow):\n",
    "\n",
    "    def __init__(self):\n",
    "        super().__init__()\n",
    "\n",
    "        self.compute = communicators.processor.Yield(compute)\n",
    "        self.compute2 = compute2\n",
    "        self.compute3 = ComputeClass(1, 2)\n",
    "        self.printer1 = partials(print, 'step 1')\n",
    "        self.printer2 = partials(print, 'step 2')\n",
    "\n",
    "        self.register_chains(\n",
    "            (queues.ProcessQueue(5), None, 'compute'),\n",
    "            (queues.ProcessQueue(5), 'compute', 'compute2'),\n",
    "            (queues.TransferQueue(), 'compute', 'printer1'),\n",
    "            (queues.TransferQueue(), 'compute2', 'printer2'),\n",
    "            (queues.ProcessQueue(), 'compute', 'compute3'),\n",
    "            (queues.ThreadQueue(), 'compute3', None),\n",
    "        )\n",
    "\n",
    "flow = Flow()\n",
    "flow.run()"
   ]
  },
  {
   "cell_type": "code",
   "execution_count": null,
   "metadata": {},
   "outputs": [],
   "source": [
    "for q in flow.inputs.values():\n",
    "   for i in range(10):\n",
    "        q.put(i)"
   ]
  },
  {
   "cell_type": "code",
   "execution_count": null,
   "metadata": {},
   "outputs": [],
   "source": [
    "flow.inputs"
   ]
  },
  {
   "cell_type": "code",
   "execution_count": null,
   "metadata": {},
   "outputs": [],
   "source": [
    "flow.outputs"
   ]
  },
  {
   "cell_type": "code",
   "execution_count": null,
   "metadata": {},
   "outputs": [],
   "source": []
  }
 ],
 "metadata": {
  "kernelspec": {
   "display_name": "Python 3",
   "language": "python",
   "name": "python3"
  },
  "language_info": {
   "codemirror_mode": {
    "name": "ipython",
    "version": 3
   },
   "file_extension": ".py",
   "mimetype": "text/x-python",
   "name": "python",
   "nbconvert_exporter": "python",
   "pygments_lexer": "ipython3",
   "version": "3.13.1"
  }
 },
 "nbformat": 4,
 "nbformat_minor": 2
}
