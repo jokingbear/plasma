{
 "cells": [
  {
   "cell_type": "code",
   "execution_count": 1,
   "metadata": {},
   "outputs": [
    {
     "name": "stdout",
     "output_type": "stream",
     "text": [
      "/u02/thanhhm/research-idea\n"
     ]
    }
   ],
   "source": [
    "%cd ../"
   ]
  },
  {
   "cell_type": "code",
   "execution_count": 2,
   "metadata": {},
   "outputs": [
    {
     "name": "stderr",
     "output_type": "stream",
     "text": [
      "/u02/thanhhm/research-idea/.env/lib/python3.13/site-packages/tqdm/auto.py:21: TqdmWarning: IProgress not found. Please update jupyter and ipywidgets. See https://ipywidgets.readthedocs.io/en/stable/user_install.html\n",
      "  from .autonotebook import tqdm as notebook_tqdm\n"
     ]
    }
   ],
   "source": [
    "import plasma.search_engines as ses\n",
    "import pandas as pd\n",
    "import plasma.logging as plogging\n",
    "\n",
    "from scipy.stats import hmean"
   ]
  },
  {
   "cell_type": "code",
   "execution_count": 3,
   "metadata": {},
   "outputs": [],
   "source": [
    "df = pd.read_pickle('/u02/duy/workspace/xproject_as/databases/dav_supplement_db.pkl')\n",
    "engine = ses.GraphMatcher(df['product_name'], top_k=5)"
   ]
  },
  {
   "cell_type": "code",
   "execution_count": 4,
   "metadata": {},
   "outputs": [
    {
     "data": {
      "text/html": [
       "<div>\n",
       "<style scoped>\n",
       "    .dataframe tbody tr th:only-of-type {\n",
       "        vertical-align: middle;\n",
       "    }\n",
       "\n",
       "    .dataframe tbody tr th {\n",
       "        vertical-align: top;\n",
       "    }\n",
       "\n",
       "    .dataframe thead th {\n",
       "        text-align: right;\n",
       "    }\n",
       "</style>\n",
       "<table border=\"1\" class=\"dataframe\">\n",
       "  <thead>\n",
       "    <tr style=\"text-align: right;\">\n",
       "      <th></th>\n",
       "      <th>product_name</th>\n",
       "      <th>license_number</th>\n",
       "    </tr>\n",
       "  </thead>\n",
       "  <tbody>\n",
       "    <tr>\n",
       "      <th>0</th>\n",
       "      <td>Brain KBG</td>\n",
       "      <td>118</td>\n",
       "    </tr>\n",
       "    <tr>\n",
       "      <th>1</th>\n",
       "      <td>SUN COOL</td>\n",
       "      <td>147</td>\n",
       "    </tr>\n",
       "    <tr>\n",
       "      <th>2</th>\n",
       "      <td>Thymo Topone</td>\n",
       "      <td>150</td>\n",
       "    </tr>\n",
       "    <tr>\n",
       "      <th>3</th>\n",
       "      <td>Calci Nano Gold Topone</td>\n",
       "      <td>151</td>\n",
       "    </tr>\n",
       "    <tr>\n",
       "      <th>4</th>\n",
       "      <td>Salvia Topone</td>\n",
       "      <td>152</td>\n",
       "    </tr>\n",
       "    <tr>\n",
       "      <th>...</th>\n",
       "      <td>...</td>\n",
       "      <td>...</td>\n",
       "    </tr>\n",
       "    <tr>\n",
       "      <th>35528</th>\n",
       "      <td>Thực phẩm bảo vệ sức khỏe LIGARMIN Plus</td>\n",
       "      <td>28042018115450/0801092764-DKCB</td>\n",
       "    </tr>\n",
       "    <tr>\n",
       "      <th>35529</th>\n",
       "      <td>Thực phẩm bảo vệ sức khỏe EUCATOL FORTE</td>\n",
       "      <td>28042018094204/3700843113-DKCB</td>\n",
       "    </tr>\n",
       "    <tr>\n",
       "      <th>35530</th>\n",
       "      <td>Thực phẩm bảo vệ sức khỏe Tọa Cốt Nguyên Trang</td>\n",
       "      <td>28042018090429/0314873220-DKCB</td>\n",
       "    </tr>\n",
       "    <tr>\n",
       "      <th>35531</th>\n",
       "      <td>Thực phẩm bảo vệ sức khỏe Viên Bột Sâm Wisconsin</td>\n",
       "      <td>28042018114428/0305398057-DKCB</td>\n",
       "    </tr>\n",
       "    <tr>\n",
       "      <th>35532</th>\n",
       "      <td>Thực phẩm bảo vệ sức khỏe IDC HEPAGIN</td>\n",
       "      <td>28042018083215/0106671819-DKCB</td>\n",
       "    </tr>\n",
       "  </tbody>\n",
       "</table>\n",
       "<p>35533 rows × 2 columns</p>\n",
       "</div>"
      ],
      "text/plain": [
       "                                           product_name  \\\n",
       "0                                             Brain KBG   \n",
       "1                                              SUN COOL   \n",
       "2                                          Thymo Topone   \n",
       "3                                Calci Nano Gold Topone   \n",
       "4                                         Salvia Topone   \n",
       "...                                                 ...   \n",
       "35528           Thực phẩm bảo vệ sức khỏe LIGARMIN Plus   \n",
       "35529           Thực phẩm bảo vệ sức khỏe EUCATOL FORTE   \n",
       "35530    Thực phẩm bảo vệ sức khỏe Tọa Cốt Nguyên Trang   \n",
       "35531  Thực phẩm bảo vệ sức khỏe Viên Bột Sâm Wisconsin   \n",
       "35532             Thực phẩm bảo vệ sức khỏe IDC HEPAGIN   \n",
       "\n",
       "                       license_number  \n",
       "0                                 118  \n",
       "1                                 147  \n",
       "2                                 150  \n",
       "3                                 151  \n",
       "4                                 152  \n",
       "...                               ...  \n",
       "35528  28042018115450/0801092764-DKCB  \n",
       "35529  28042018094204/3700843113-DKCB  \n",
       "35530  28042018090429/0314873220-DKCB  \n",
       "35531  28042018114428/0305398057-DKCB  \n",
       "35532  28042018083215/0106671819-DKCB  \n",
       "\n",
       "[35533 rows x 2 columns]"
      ]
     },
     "execution_count": 4,
     "metadata": {},
     "output_type": "execute_result"
    }
   ],
   "source": [
    "df"
   ]
  },
  {
   "cell_type": "code",
   "execution_count": 5,
   "metadata": {},
   "outputs": [],
   "source": [
    "#query = 'hehe'\n",
    "query = 'Brain KBG'"
   ]
  },
  {
   "cell_type": "code",
   "execution_count": 6,
   "metadata": {},
   "outputs": [
    {
     "data": {
      "text/html": [
       "<div>\n",
       "<style scoped>\n",
       "    .dataframe tbody tr th:only-of-type {\n",
       "        vertical-align: middle;\n",
       "    }\n",
       "\n",
       "    .dataframe tbody tr th {\n",
       "        vertical-align: top;\n",
       "    }\n",
       "\n",
       "    .dataframe thead th {\n",
       "        text-align: right;\n",
       "    }\n",
       "</style>\n",
       "<table border=\"1\" class=\"dataframe\">\n",
       "  <thead>\n",
       "    <tr style=\"text-align: right;\">\n",
       "      <th></th>\n",
       "      <th></th>\n",
       "      <th>data_index</th>\n",
       "      <th>original</th>\n",
       "      <th>substring_matching_score</th>\n",
       "      <th>matched_len</th>\n",
       "      <th>coverage_score</th>\n",
       "    </tr>\n",
       "    <tr>\n",
       "      <th>query_start_index</th>\n",
       "      <th>query_end_index</th>\n",
       "      <th></th>\n",
       "      <th></th>\n",
       "      <th></th>\n",
       "      <th></th>\n",
       "      <th></th>\n",
       "    </tr>\n",
       "  </thead>\n",
       "  <tbody>\n",
       "    <tr>\n",
       "      <th>0</th>\n",
       "      <th>9</th>\n",
       "      <td>0</td>\n",
       "      <td>Brain KBG</td>\n",
       "      <td>1.0</td>\n",
       "      <td>2</td>\n",
       "      <td>1.0</td>\n",
       "    </tr>\n",
       "  </tbody>\n",
       "</table>\n",
       "</div>"
      ],
      "text/plain": [
       "                                   data_index   original  \\\n",
       "query_start_index query_end_index                          \n",
       "0                 9                         0  Brain KBG   \n",
       "\n",
       "                                   substring_matching_score  matched_len  \\\n",
       "query_start_index query_end_index                                          \n",
       "0                 9                                     1.0            2   \n",
       "\n",
       "                                   coverage_score  \n",
       "query_start_index query_end_index                  \n",
       "0                 9                           1.0  "
      ]
     },
     "execution_count": 6,
     "metadata": {},
     "output_type": "execute_result"
    }
   ],
   "source": [
    "results = engine.run(query)\n",
    "results"
   ]
  },
  {
   "cell_type": "code",
   "execution_count": 9,
   "metadata": {},
   "outputs": [],
   "source": [
    "for temp, row in results.iterrows():\n",
    "    break"
   ]
  },
  {
   "cell_type": "code",
   "execution_count": 10,
   "metadata": {},
   "outputs": [
    {
     "data": {
      "text/plain": [
       "data_index                          0\n",
       "original                    Brain KBG\n",
       "substring_matching_score          1.0\n",
       "matched_len                         2\n",
       "coverage_score                    1.0\n",
       "Name: (0, 9), dtype: object"
      ]
     },
     "execution_count": 10,
     "metadata": {},
     "output_type": "execute_result"
    }
   ],
   "source": [
    "row"
   ]
  },
  {
   "cell_type": "code",
   "execution_count": null,
   "metadata": {},
   "outputs": [],
   "source": []
  }
 ],
 "metadata": {
  "kernelspec": {
   "display_name": "Python 3",
   "language": "python",
   "name": "python3"
  },
  "language_info": {
   "codemirror_mode": {
    "name": "ipython",
    "version": 3
   },
   "file_extension": ".py",
   "mimetype": "text/x-python",
   "name": "python",
   "nbconvert_exporter": "python",
   "pygments_lexer": "ipython3",
   "version": "3.13.1"
  }
 },
 "nbformat": 4,
 "nbformat_minor": 2
}
