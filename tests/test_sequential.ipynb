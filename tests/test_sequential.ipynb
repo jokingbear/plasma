{
 "cells": [
  {
   "cell_type": "code",
   "execution_count": null,
   "metadata": {},
   "outputs": [],
   "source": [
    "%cd ../"
   ]
  },
  {
   "cell_type": "code",
   "execution_count": null,
   "metadata": {},
   "outputs": [],
   "source": [
    "import plasma.parallel_processing as pp\n",
    "import time"
   ]
  },
  {
   "cell_type": "code",
   "execution_count": null,
   "metadata": {},
   "outputs": [],
   "source": [
    "def compute(data):\n",
    "    time.sleep(1)\n",
    "    return data * 2\n",
    "\n",
    "def print_pass(data):\n",
    "    print(f'{data / 2**5}')\n",
    "    raise Exception('hhehe')\n",
    "    return data\n",
    "\n",
    "def handle_ex(block, data, ex):\n",
    "    print(block, data, ex)"
   ]
  },
  {
   "cell_type": "code",
   "execution_count": null,
   "metadata": {},
   "outputs": [],
   "source": [
    "outputs = pp.queues.ThreadQueue()\n",
    "class Outer(pp.communicators.Sequential):\n",
    "\n",
    "    def __init__(self):\n",
    "        super().__init__()\n",
    "\n",
    "        self.compute2 = compute\n",
    "        self.printer = print_pass\n",
    "        #self.aggregator = pp.communicators.Aggregator(20)\n",
    "\n",
    "        self.registerIOs(\n",
    "            compute2=pp.queues.ProcessQueue(2),\n",
    "            printer=pp.queues.TransferQueue('named'),\n",
    "            #aggregator=pp.queues.ThreadQueue(),\n",
    "            outputs=outputs\n",
    "        )\n",
    "        \n",
    "        #self.on_exception(handle_ex)\n",
    "\n",
    "caller = Outer()\n",
    "caller"
   ]
  },
  {
   "cell_type": "code",
   "execution_count": null,
   "metadata": {},
   "outputs": [],
   "source": [
    "with caller:\n",
    "    for i in range(20):\n",
    "        caller.put(i)\n",
    "    \n",
    "    #print(caller.aggregator.wait())"
   ]
  },
  {
   "cell_type": "code",
   "execution_count": null,
   "metadata": {},
   "outputs": [],
   "source": []
  }
 ],
 "metadata": {
  "kernelspec": {
   "display_name": "Python 3",
   "language": "python",
   "name": "python3"
  },
  "language_info": {
   "codemirror_mode": {
    "name": "ipython",
    "version": 3
   },
   "file_extension": ".py",
   "mimetype": "text/x-python",
   "name": "python",
   "nbconvert_exporter": "python",
   "pygments_lexer": "ipython3",
   "version": "3.13.1"
  }
 },
 "nbformat": 4,
 "nbformat_minor": 2
}
