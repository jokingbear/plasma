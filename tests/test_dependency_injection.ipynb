{
 "cells": [
  {
   "cell_type": "code",
   "execution_count": 1,
   "metadata": {},
   "outputs": [
    {
     "name": "stdout",
     "output_type": "stream",
     "text": [
      "/u02/thanhhm/research-idea\n"
     ]
    }
   ],
   "source": [
    "%cd ../"
   ]
  },
  {
   "cell_type": "code",
   "execution_count": 2,
   "metadata": {},
   "outputs": [],
   "source": [
    "import plasma.meta as meta\n",
    "import plasma.functional as F"
   ]
  },
  {
   "cell_type": "code",
   "execution_count": 3,
   "metadata": {},
   "outputs": [],
   "source": [
    "factory = meta.ObjectFactory()\n",
    "injector = meta.DependencyInjector(factory)"
   ]
  },
  {
   "cell_type": "code",
   "execution_count": 4,
   "metadata": {},
   "outputs": [
    {
     "name": "stdout",
     "output_type": "stream",
     "text": [
      "registered huhu: <class '__main__.HUHU'>\n"
     ]
    }
   ],
   "source": [
    "@factory.register('huhu')\n",
    "class HUHU(F.AutoPipe):\n",
    "\n",
    "    def __init__(self, name, age):\n",
    "        super().__init__()\n",
    "        self.name = name\n",
    "        self.age = age"
   ]
  },
  {
   "cell_type": "code",
   "execution_count": 5,
   "metadata": {},
   "outputs": [
    {
     "name": "stdout",
     "output_type": "stream",
     "text": [
      "registered hehe: <class '__main__.HEHE'>\n",
      "registered hihi: <class '__main__.HEHE'>\n"
     ]
    }
   ],
   "source": [
    "@factory.register('hehe', 'hihi')\n",
    "class HEHE(F.AutoPipe):\n",
    "\n",
    "    def __init__(self, huhu) -> None:\n",
    "        super().__init__()\n",
    "        self.huhu = huhu"
   ]
  },
  {
   "cell_type": "code",
   "execution_count": 6,
   "metadata": {},
   "outputs": [
    {
     "name": "stdout",
     "output_type": "stream",
     "text": [
      "registered haha: <class '__main__.HAHA'>\n"
     ]
    }
   ],
   "source": [
    "@factory.register('haha')\n",
    "class HAHA(F.AutoPipe):\n",
    "\n",
    "    def __init__(self, hehe, huhu) -> None:\n",
    "        super().__init__()\n",
    "        self.hehe = hehe\n",
    "        self.huhu = huhu"
   ]
  },
  {
   "cell_type": "code",
   "execution_count": 7,
   "metadata": {},
   "outputs": [
    {
     "data": {
      "text/plain": [
       "{'huhu': HUHU(\n",
       " \tname='a',\n",
       " \tage='loli',\n",
       " ),\n",
       " 'hehe': HEHE(\n",
       " \thuhu=HUHU(\n",
       " \t\tname='a',\n",
       " \t\tage='loli',\n",
       " \t),\n",
       " ),\n",
       " 'hihi': HEHE(\n",
       " \thuhu=HUHU(\n",
       " \t\tname='a',\n",
       " \t\tage='loli',\n",
       " \t),\n",
       " ),\n",
       " 'haha': HAHA(\n",
       " \thehe=HEHE(\n",
       " \t\thuhu=HUHU(\n",
       " \t\t\tname='a',\n",
       " \t\t\tage='loli',\n",
       " \t\t),\n",
       " \t),\n",
       " \thuhu=HUHU(\n",
       " \t\tname='a',\n",
       " \t\tage='loli',\n",
       " \t),\n",
       " )}"
      ]
     },
     "execution_count": 7,
     "metadata": {},
     "output_type": "execute_result"
    }
   ],
   "source": [
    "objs = injector.run({'name': 'a', 'age': 'loli'})\n",
    "objs"
   ]
  },
  {
   "cell_type": "code",
   "execution_count": null,
   "metadata": {},
   "outputs": [],
   "source": []
  }
 ],
 "metadata": {
  "kernelspec": {
   "display_name": "Python 3",
   "language": "python",
   "name": "python3"
  },
  "language_info": {
   "codemirror_mode": {
    "name": "ipython",
    "version": 3
   },
   "file_extension": ".py",
   "mimetype": "text/x-python",
   "name": "python",
   "nbconvert_exporter": "python",
   "pygments_lexer": "ipython3",
   "version": "3.12.2"
  }
 },
 "nbformat": 4,
 "nbformat_minor": 2
}
