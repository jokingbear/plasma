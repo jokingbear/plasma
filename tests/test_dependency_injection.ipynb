{
 "cells": [
  {
   "cell_type": "code",
   "execution_count": 10,
   "metadata": {},
   "outputs": [
    {
     "name": "stdout",
     "output_type": "stream",
     "text": [
      "/u02/thanhhm\n"
     ]
    }
   ],
   "source": [
    "%cd ../"
   ]
  },
  {
   "cell_type": "code",
   "execution_count": 11,
   "metadata": {},
   "outputs": [],
   "source": [
    "import plasma.meta as meta\n",
    "import plasma.functional as F"
   ]
  },
  {
   "cell_type": "code",
   "execution_count": 12,
   "metadata": {},
   "outputs": [],
   "source": [
    "class HUHU(F.AutoPipe):\n",
    "\n",
    "    def __init__(self, name, age, test=5):\n",
    "        super().__init__()\n",
    "        self.name = name\n",
    "        self.age = age\n",
    "        self.test = test"
   ]
  },
  {
   "cell_type": "code",
   "execution_count": 13,
   "metadata": {},
   "outputs": [],
   "source": [
    "class HEHE(F.AutoPipe):\n",
    "\n",
    "    def __init__(self, huhu) -> None:\n",
    "        super().__init__()\n",
    "        self.huhu = huhu"
   ]
  },
  {
   "cell_type": "code",
   "execution_count": 14,
   "metadata": {},
   "outputs": [],
   "source": [
    "class HAHA(F.AutoPipe):\n",
    "\n",
    "    def __init__(self, hehe, huhu) -> None:\n",
    "        super().__init__()\n",
    "        self.hehe = hehe\n",
    "        self.huhu = huhu"
   ]
  },
  {
   "cell_type": "code",
   "execution_count": 15,
   "metadata": {},
   "outputs": [
    {
     "data": {
      "text/plain": [
       "hihi\n",
       "   |--huhu\n",
       "      |--name\n",
       "      |--age\n",
       "      |--test=<class 'int'>\n",
       "----------------------------------------------------------------------------------------------------\n",
       "haha\n",
       "   |--hehe\n",
       "      |--huhu\n",
       "         |--name\n",
       "         |--age\n",
       "         |--test=<class 'int'>\n",
       "   |--huhu\n",
       "      |--name\n",
       "      |--age\n",
       "      |--test=<class 'int'>\n",
       "----------------------------------------------------------------------------------------------------\n",
       "new_huhu\n",
       "   |--name\n",
       "   |--age\n",
       "   |--test=<class 'int'>\n",
       "----------------------------------------------------------------------------------------------------"
      ]
     },
     "execution_count": 15,
     "metadata": {},
     "output_type": "execute_result"
    }
   ],
   "source": [
    "injector = meta.DependencyInjector(stateful=True)\n",
    "injector\\\n",
    "    .add_dependency('huhu', HUHU)\\\n",
    "    .add_dependency('hehe', HEHE)\\\n",
    "    .add_dependency('hihi', HEHE)\\\n",
    "    .add_dependency('haha', HAHA)\\\n",
    "    .duplicate('huhu', 'new_huhu')"
   ]
  },
  {
   "cell_type": "code",
   "execution_count": 16,
   "metadata": {},
   "outputs": [
    {
     "data": {
      "text/plain": [
       "HAHA(\n",
       "  hehe=HEHE(\n",
       "    huhu=8,\n",
       "  ),\n",
       "  huhu=8,\n",
       ")"
      ]
     },
     "execution_count": 16,
     "metadata": {},
     "output_type": "execute_result"
    }
   ],
   "source": [
    "objs = injector.run('haha', huhu=8)['haha']\n",
    "objs"
   ]
  },
  {
   "cell_type": "code",
   "execution_count": 17,
   "metadata": {},
   "outputs": [
    {
     "data": {
      "text/plain": [
       "HAHA(\n",
       "  hehe=HEHE(\n",
       "    huhu=8,\n",
       "  ),\n",
       "  huhu=8,\n",
       ")"
      ]
     },
     "execution_count": 17,
     "metadata": {},
     "output_type": "execute_result"
    }
   ],
   "source": [
    "injector.run('haha')['haha']"
   ]
  },
  {
   "cell_type": "code",
   "execution_count": null,
   "metadata": {},
   "outputs": [],
   "source": []
  }
 ],
 "metadata": {
  "kernelspec": {
   "display_name": "Python 3",
   "language": "python",
   "name": "python3"
  },
  "language_info": {
   "codemirror_mode": {
    "name": "ipython",
    "version": 3
   },
   "file_extension": ".py",
   "mimetype": "text/x-python",
   "name": "python",
   "nbconvert_exporter": "python",
   "pygments_lexer": "ipython3",
   "version": "3.13.1"
  }
 },
 "nbformat": 4,
 "nbformat_minor": 2
}
