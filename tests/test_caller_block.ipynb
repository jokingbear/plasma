{
 "cells": [
  {
   "cell_type": "code",
   "execution_count": 1,
   "metadata": {},
   "outputs": [
    {
     "name": "stdout",
     "output_type": "stream",
     "text": [
      "/u02/thanhhm/research-idea\n"
     ]
    }
   ],
   "source": [
    "%cd ../"
   ]
  },
  {
   "cell_type": "code",
   "execution_count": 2,
   "metadata": {},
   "outputs": [],
   "source": [
    "import plasma.parallel_processing as pp\n",
    "import time"
   ]
  },
  {
   "cell_type": "code",
   "execution_count": 3,
   "metadata": {},
   "outputs": [],
   "source": [
    "def compute(data):\n",
    "    time.sleep(1)\n",
    "    return data * 2\n",
    "\n",
    "def print_pass(data):\n",
    "    print(f'{data / 2**5}')\n",
    "    return data"
   ]
  },
  {
   "cell_type": "code",
   "execution_count": 4,
   "metadata": {},
   "outputs": [
    {
     "data": {
      "text/plain": [
       "compute1-<class '__main__.Inner'>\n",
       "\tcompute1-<function compute at 0x7f53d6ca5f80>\n",
       "\tcompute2-<function compute at 0x7f53d6ca5f80>\n",
       "compute2-<function compute at 0x7f53d6ca5f80>\n",
       "compute3-<class '__main__.Inner'>\n",
       "\tcompute1-<function compute at 0x7f53d6ca5f80>\n",
       "\tcompute2-<function compute at 0x7f53d6ca5f80>\n",
       "printer-<function print_pass at 0x7f53d6ca6700>\n",
       "aggregator-<class 'plasma.parallel_processing.communicators.aggregator.Aggregator'>"
      ]
     },
     "execution_count": 4,
     "metadata": {},
     "output_type": "execute_result"
    }
   ],
   "source": [
    "class Outer(pp.communicators.Flow):\n",
    "\n",
    "    def __init__(self):\n",
    "        super().__init__()\n",
    "        manager = pp.mp.Manager()\n",
    "\n",
    "        self.compute1 = Inner()\n",
    "        self.compute2 = compute\n",
    "        self.compute3 = Inner()\n",
    "        self.printer = print_pass\n",
    "        self.aggregator = pp.communicators.Aggregator(20, 0.5, manager)\n",
    "\n",
    "        self.registerIOs(\n",
    "            compute1={\n",
    "                'compute1': pp.queues.ProcessQueue(2),\n",
    "                'compute2': pp.queues.ProcessQueue(2),\n",
    "            },\n",
    "            compute2=pp.queues.ProcessQueue(2),\n",
    "            compute3={\n",
    "                'compute1': pp.queues.ProcessQueue(2),\n",
    "                'compute2': pp.queues.ProcessQueue(2),\n",
    "            },\n",
    "            printer=pp.queues.ProcessQueue(),\n",
    "            aggregator=pp.queues.ProcessQueue(),\n",
    "        )\n",
    "\n",
    "\n",
    "class Inner(pp.communicators.Flow):\n",
    "\n",
    "    def __init__(self):\n",
    "        super().__init__()\n",
    "\n",
    "        self.compute1 = compute\n",
    "        self.compute2 = compute\n",
    "\n",
    "caller = Outer()\n",
    "caller"
   ]
  },
  {
   "cell_type": "code",
   "execution_count": 7,
   "metadata": {},
   "outputs": [
    {
     "data": {
      "application/vnd.jupyter.widget-view+json": {
       "model_id": "a7b7283502ae4021a9ea1d5dc3cfbb17",
       "version_major": 2,
       "version_minor": 0
      },
      "text/plain": [
       "  0%|          | 0/20 [00:00<?, ?it/s]"
      ]
     },
     "metadata": {},
     "output_type": "display_data"
    },
    {
     "name": "stdout",
     "output_type": "stream",
     "text": [
      "0.0\n",
      "1.0\n",
      "2.0\n",
      "3.0\n",
      "4.0\n",
      "5.0\n",
      "6.0\n",
      "7.0\n",
      "8.0\n",
      "9.0\n",
      "10.0\n",
      "11.0\n",
      "12.0\n",
      "13.0\n",
      "14.0\n",
      "15.0\n",
      "16.0\n",
      "17.0\n",
      "18.0\n",
      "19.0\n",
      "[0, 32, 64, 96, 128, 160, 192, 224, 256, 288, 320, 352, 384, 416, 448, 480, 512, 544, 576, 608]\n"
     ]
    }
   ],
   "source": [
    "with caller:\n",
    "    for i in range(20):\n",
    "        caller.put(i)\n",
    "    \n",
    "    caller.aggregator.wait()\n",
    "    print(caller.aggregator.results)"
   ]
  },
  {
   "cell_type": "code",
   "execution_count": 4,
   "metadata": {},
   "outputs": [
    {
     "name": "stdout",
     "output_type": "stream",
     "text": [
      "hehe\n"
     ]
    }
   ],
   "source": [
    "e = None\n",
    "try:\n",
    "    raise Exception('hehe')\n",
    "except Exception as ex:\n",
    "    e = ex\n",
    "\n",
    "print(e)"
   ]
  }
 ],
 "metadata": {
  "kernelspec": {
   "display_name": "Python 3",
   "language": "python",
   "name": "python3"
  },
  "language_info": {
   "codemirror_mode": {
    "name": "ipython",
    "version": 3
   },
   "file_extension": ".py",
   "mimetype": "text/x-python",
   "name": "python",
   "nbconvert_exporter": "python",
   "pygments_lexer": "ipython3",
   "version": "3.13.1"
  }
 },
 "nbformat": 4,
 "nbformat_minor": 2
}
