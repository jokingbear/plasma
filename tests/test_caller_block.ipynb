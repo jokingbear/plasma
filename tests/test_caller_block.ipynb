{
 "cells": [
  {
   "cell_type": "code",
   "execution_count": 1,
   "metadata": {},
   "outputs": [
    {
     "name": "stdout",
     "output_type": "stream",
     "text": [
      "/u02/thanhhm/research-idea\n"
     ]
    }
   ],
   "source": [
    "%cd ../"
   ]
  },
  {
   "cell_type": "code",
   "execution_count": 2,
   "metadata": {},
   "outputs": [
    {
     "name": "stderr",
     "output_type": "stream",
     "text": [
      "/u02/thanhhm/research-idea/.env/lib/python3.13/site-packages/tqdm/auto.py:21: TqdmWarning: IProgress not found. Please update jupyter and ipywidgets. See https://ipywidgets.readthedocs.io/en/stable/user_install.html\n",
      "  from .autonotebook import tqdm as notebook_tqdm\n"
     ]
    }
   ],
   "source": [
    "import plasma.parallel_processing as pp\n",
    "import time"
   ]
  },
  {
   "cell_type": "code",
   "execution_count": 3,
   "metadata": {},
   "outputs": [],
   "source": [
    "def compute(data):\n",
    "    time.sleep(1)\n",
    "    return data * 2\n",
    "\n",
    "def print_pass(data):\n",
    "    print(f'{data / 2**5}')\n",
    "    return data"
   ]
  },
  {
   "cell_type": "code",
   "execution_count": 4,
   "metadata": {},
   "outputs": [
    {
     "name": "stderr",
     "output_type": "stream",
     "text": [
      "/u02/thanhhm/research-idea/plasma/parallel_processing/communicators/sequential.py:52: UserWarning: this class is deprecated, use Sequential instead\n",
      "  warn('this class is deprecated, use Sequential instead')\n"
     ]
    },
    {
     "data": {
      "text/plain": [
       "*-[ProcessQueue(name=None, runner=2)]\n",
       "\n",
       "  |-(compute2:<function compute at 0x7f318c125800>)\n",
       "\n",
       "    |-[ProcessQueue(name=None, runner=1)]\n",
       "\n",
       "      |-(printer:<function print_pass at 0x7f318c173920>)\n",
       "\n",
       "        |-[TransferQueue(name=None, runner=1)]\n",
       "\n",
       "          |-(aggregator:Aggregator)\n",
       "\n",
       "            |-[ThreadQueue((name=None, runner=1)]-*"
      ]
     },
     "execution_count": 4,
     "metadata": {},
     "output_type": "execute_result"
    }
   ],
   "source": [
    "outputs = pp.queues.ThreadQueue()\n",
    "class Outer(pp.communicators.Flow):\n",
    "\n",
    "    def __init__(self):\n",
    "        super().__init__()\n",
    "\n",
    "        self.compute2 = compute\n",
    "        self.printer = print_pass\n",
    "        self.aggregator = pp.communicators.Aggregator(20)\n",
    "\n",
    "        self.registerIOs(\n",
    "            compute2=pp.queues.ProcessQueue(2),\n",
    "            printer=pp.queues.ProcessQueue(),\n",
    "            aggregator=pp.queues.TransferQueue(),\n",
    "            outputs=outputs\n",
    "        )\n",
    "\n",
    "caller = Outer()\n",
    "caller"
   ]
  },
  {
   "cell_type": "code",
   "execution_count": 5,
   "metadata": {},
   "outputs": [
    {
     "data": {
      "text/plain": [
       "*-[ProcessQueue(name=compute2, runner=2)]\n",
       "\n",
       "  |-(compute2:<function compute at 0x7f318c125800>)\n",
       "\n",
       "    |-[ProcessQueue(name=printer, runner=1)]\n",
       "\n",
       "      |-(printer:<function print_pass at 0x7f318c173920>)\n",
       "\n",
       "        |-[TransferQueue(name=aggregator, runner=1)]\n",
       "\n",
       "          |-(aggregator:Aggregator)\n",
       "\n",
       "            |-[ThreadQueue((name=None, runner=1)]-*"
      ]
     },
     "execution_count": 5,
     "metadata": {},
     "output_type": "execute_result"
    }
   ],
   "source": [
    "caller.run()"
   ]
  },
  {
   "cell_type": "code",
   "execution_count": null,
   "metadata": {},
   "outputs": [],
   "source": [
    "with caller:\n",
    "    for i in range(20):\n",
    "        caller.put(i)\n",
    "    \n",
    "    print(caller.aggregator.wait())"
   ]
  },
  {
   "cell_type": "code",
   "execution_count": null,
   "metadata": {},
   "outputs": [],
   "source": [
    "caller.print = print"
   ]
  },
  {
   "cell_type": "code",
   "execution_count": null,
   "metadata": {},
   "outputs": [],
   "source": [
    "caller.registerIOs(print=pp.queues.ThreadQueue(), outputs=pp.queues.ThreadQueue())"
   ]
  },
  {
   "cell_type": "code",
   "execution_count": null,
   "metadata": {},
   "outputs": [],
   "source": []
  }
 ],
 "metadata": {
  "kernelspec": {
   "display_name": "Python 3",
   "language": "python",
   "name": "python3"
  },
  "language_info": {
   "codemirror_mode": {
    "name": "ipython",
    "version": 3
   },
   "file_extension": ".py",
   "mimetype": "text/x-python",
   "name": "python",
   "nbconvert_exporter": "python",
   "pygments_lexer": "ipython3",
   "version": "3.13.1"
  }
 },
 "nbformat": 4,
 "nbformat_minor": 2
}
