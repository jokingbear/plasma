{
 "cells": [
  {
   "cell_type": "code",
   "execution_count": null,
   "metadata": {},
   "outputs": [],
   "source": [
    "%cd ../"
   ]
  },
  {
   "cell_type": "code",
   "execution_count": null,
   "metadata": {},
   "outputs": [],
   "source": [
    "import plasma.parallel_processing as pp\n",
    "import time"
   ]
  },
  {
   "cell_type": "code",
   "execution_count": null,
   "metadata": {},
   "outputs": [],
   "source": [
    "def compute(data):\n",
    "    time.sleep(1)\n",
    "    return data * 2\n",
    "\n",
    "def print_pass(data):\n",
    "    print(f'{data / 2**5}')\n",
    "    return data"
   ]
  },
  {
   "cell_type": "code",
   "execution_count": null,
   "metadata": {},
   "outputs": [],
   "source": [
    "class Outer(pp.communicators.Flow):\n",
    "\n",
    "    def __init__(self):\n",
    "        super().__init__()\n",
    "        manager = pp.mp.Manager()\n",
    "\n",
    "        self.compute1 = Inner()\n",
    "        self.compute2 = compute\n",
    "        self.compute3 = Inner()\n",
    "        self.printer = print_pass\n",
    "        self.aggregator = pp.communicators.Aggregator(20, 0.5, manager)\n",
    "\n",
    "        self.registerIOs(\n",
    "            compute1={\n",
    "                'compute1': pp.queues.ProcessQueue(2),\n",
    "                'compute2': pp.queues.ProcessQueue(2),\n",
    "            },\n",
    "            compute2=pp.queues.ProcessQueue(2),\n",
    "            compute3={\n",
    "                'compute1': pp.queues.ProcessQueue(2),\n",
    "                'compute2': pp.queues.ProcessQueue(2),\n",
    "            },\n",
    "            printer=pp.queues.ProcessQueue(),\n",
    "            aggregator=pp.queues.ProcessQueue(),\n",
    "        )\n",
    "\n",
    "\n",
    "class Inner(pp.communicators.Flow):\n",
    "\n",
    "    def __init__(self):\n",
    "        super().__init__()\n",
    "\n",
    "        self.compute1 = compute\n",
    "        self.compute2 = compute\n",
    "\n",
    "caller = Outer()\n",
    "caller"
   ]
  },
  {
   "cell_type": "code",
   "execution_count": null,
   "metadata": {},
   "outputs": [],
   "source": [
    "with caller:\n",
    "    for i in range(20):\n",
    "        caller.put(i)\n",
    "    \n",
    "    print(caller.aggregator.wait())"
   ]
  },
  {
   "cell_type": "code",
   "execution_count": null,
   "metadata": {},
   "outputs": [],
   "source": []
  }
 ],
 "metadata": {
  "kernelspec": {
   "display_name": "Python 3",
   "language": "python",
   "name": "python3"
  },
  "language_info": {
   "codemirror_mode": {
    "name": "ipython",
    "version": 3
   },
   "file_extension": ".py",
   "mimetype": "text/x-python",
   "name": "python",
   "nbconvert_exporter": "python",
   "pygments_lexer": "ipython3",
   "version": "3.13.1"
  }
 },
 "nbformat": 4,
 "nbformat_minor": 2
}
