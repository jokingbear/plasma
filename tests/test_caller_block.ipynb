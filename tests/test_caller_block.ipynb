{
 "cells": [
  {
   "cell_type": "code",
   "execution_count": 1,
   "metadata": {},
   "outputs": [
    {
     "name": "stdout",
     "output_type": "stream",
     "text": [
      "/u02/thanhhm/research-idea\n"
     ]
    }
   ],
   "source": [
    "%cd ../"
   ]
  },
  {
   "cell_type": "code",
   "execution_count": 2,
   "metadata": {},
   "outputs": [],
   "source": [
    "import plasma.parallel_processing as pp\n",
    "import time\n",
    "\n",
    "from plasma.parallel_processing import queues"
   ]
  },
  {
   "cell_type": "code",
   "execution_count": 3,
   "metadata": {},
   "outputs": [
    {
     "data": {
      "text/plain": [
       "Block(\n",
       "\tinputs=ThreadQueue(\n",
       "\t\tpersistent=2,\n",
       "\t\tn=1,\n",
       "\t),\n",
       "\toutputs=ThreadQueue(\n",
       "\t\tpersistent=False,\n",
       "\t\tn=1,\n",
       "\t),\n",
       ")"
      ]
     },
     "execution_count": 3,
     "metadata": {},
     "output_type": "execute_result"
    }
   ],
   "source": [
    "class Block(pp.communicators.BlockPrototype):\n",
    "\n",
    "    def __init__(self):\n",
    "        inputs = queues.ThreadQueue(2)\n",
    "        outputs = queues.ThreadQueue()\n",
    "        super().__init__(inputs, outputs)\n",
    "    \n",
    "    def on_received(self, data):\n",
    "        time.sleep(0.5)\n",
    "        return f'{data:05d}'\n",
    "    \n",
    "block = Block()\n",
    "block.run()\n",
    "block"
   ]
  },
  {
   "cell_type": "code",
   "execution_count": null,
   "metadata": {},
   "outputs": [],
   "source": [
    "class Caller(pp.communicators.CallerPrototype):\n",
    "\n",
    "    def __init__(self):\n",
    "        super().__init__(block.inputs, block.outputs)\n",
    "    \n",
    "    def on_received(self, data):\n",
    "        print(data)\n",
    "\n",
    "caller = Caller()\n",
    "caller.run()\n",
    "caller"
   ]
  },
  {
   "cell_type": "code",
   "execution_count": null,
   "metadata": {},
   "outputs": [],
   "source": []
  }
 ],
 "metadata": {
  "kernelspec": {
   "display_name": "Python 3",
   "language": "python",
   "name": "python3"
  },
  "language_info": {
   "codemirror_mode": {
    "name": "ipython",
    "version": 3
   },
   "file_extension": ".py",
   "mimetype": "text/x-python",
   "name": "python",
   "nbconvert_exporter": "python",
   "pygments_lexer": "ipython3",
   "version": "3.12.2"
  }
 },
 "nbformat": 4,
 "nbformat_minor": 2
}
