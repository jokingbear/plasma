{
 "cells": [
  {
   "cell_type": "code",
   "execution_count": 1,
   "metadata": {},
   "outputs": [
    {
     "name": "stdout",
     "output_type": "stream",
     "text": [
      "/u02/thanhhm/research-idea\n"
     ]
    }
   ],
   "source": [
    "%cd ../"
   ]
  },
  {
   "cell_type": "code",
   "execution_count": 2,
   "metadata": {},
   "outputs": [],
   "source": [
    "import plasma.parallel_processing as pp\n",
    "import time"
   ]
  },
  {
   "cell_type": "code",
   "execution_count": 3,
   "metadata": {},
   "outputs": [],
   "source": [
    "def compute(data):\n",
    "    time.sleep(1)\n",
    "    return f'{data:05d}'\n",
    "\n",
    "def print_pass(data):\n",
    "    print(data)\n",
    "    return data"
   ]
  },
  {
   "cell_type": "code",
   "execution_count": 4,
   "metadata": {},
   "outputs": [
    {
     "data": {
      "text/plain": [
       "computation-<function compute at 0x7f342c6f7ce0>\n",
       "printer-<function print_pass at 0x7f342c6f7d80>\n",
       "aggregator-<class 'plasma.parallel_processing.communicators.aggregator.Aggregator'>"
      ]
     },
     "execution_count": 4,
     "metadata": {},
     "output_type": "execute_result"
    }
   ],
   "source": [
    "class Caller(pp.communicators.Flow):\n",
    "\n",
    "    def __init__(self):\n",
    "        super().__init__()\n",
    "        manager = pp.mp.Manager()\n",
    "\n",
    "        self.computation = compute\n",
    "        self.printer = print_pass\n",
    "        self.aggregator = pp.communicators.Aggregator(20, 0.5, manager)\n",
    "        self.registerIOs(computation=pp.queues.ProcessQueue(4), printer=pp.queues.ProcessQueue(), aggregator=pp.queues.ProcessQueue())\n",
    "\n",
    "caller = Caller()\n",
    "caller"
   ]
  },
  {
   "cell_type": "code",
   "execution_count": 5,
   "metadata": {},
   "outputs": [],
   "source": [
    "caller.run()"
   ]
  },
  {
   "cell_type": "code",
   "execution_count": 6,
   "metadata": {},
   "outputs": [],
   "source": [
    "for i in range(20):\n",
    "    caller.put(i)"
   ]
  },
  {
   "cell_type": "code",
   "execution_count": 7,
   "metadata": {},
   "outputs": [
    {
     "data": {
      "application/vnd.jupyter.widget-view+json": {
       "model_id": "a11689dd0f204bd18998da825fd7b256",
       "version_major": 2,
       "version_minor": 0
      },
      "text/plain": [
       "  0%|          | 0/20 [00:00<?, ?it/s]"
      ]
     },
     "metadata": {},
     "output_type": "display_data"
    },
    {
     "name": "stdout",
     "output_type": "stream",
     "text": [
      "00000\n",
      "00003\n",
      "00001\n",
      "00002\n",
      "00004\n",
      "00005\n",
      "00006\n",
      "00007\n",
      "00009\n",
      "00008\n",
      "00010\n",
      "00011\n",
      "00012\n",
      "00013\n",
      "00014\n",
      "00015\n",
      "00016\n",
      "00017\n",
      "00018\n",
      "00019\n"
     ]
    }
   ],
   "source": [
    "caller.aggregator.wait()"
   ]
  },
  {
   "cell_type": "code",
   "execution_count": 8,
   "metadata": {},
   "outputs": [
    {
     "data": {
      "text/plain": [
       "['00000',\n",
       " '00003',\n",
       " '00001',\n",
       " '00002',\n",
       " '00004',\n",
       " '00005',\n",
       " '00006',\n",
       " '00007',\n",
       " '00009',\n",
       " '00008',\n",
       " '00010',\n",
       " '00011',\n",
       " '00012',\n",
       " '00013',\n",
       " '00014',\n",
       " '00015',\n",
       " '00016',\n",
       " '00017',\n",
       " '00018',\n",
       " '00019']"
      ]
     },
     "execution_count": 8,
     "metadata": {},
     "output_type": "execute_result"
    }
   ],
   "source": [
    "caller.aggregator.results"
   ]
  },
  {
   "cell_type": "code",
   "execution_count": 9,
   "metadata": {},
   "outputs": [],
   "source": [
    "caller.release()"
   ]
  },
  {
   "cell_type": "code",
   "execution_count": 10,
   "metadata": {},
   "outputs": [
    {
     "data": {
      "text/plain": [
       "Aggregator(\n",
       "\tfinished=0,\n",
       "\ttotal=20,\n",
       "\tsleep=0.5,\n",
       "\tignore_none=True,\n",
       ")"
      ]
     },
     "execution_count": 10,
     "metadata": {},
     "output_type": "execute_result"
    }
   ],
   "source": [
    "caller.aggregator"
   ]
  },
  {
   "cell_type": "code",
   "execution_count": null,
   "metadata": {},
   "outputs": [],
   "source": []
  }
 ],
 "metadata": {
  "kernelspec": {
   "display_name": "Python 3",
   "language": "python",
   "name": "python3"
  },
  "language_info": {
   "codemirror_mode": {
    "name": "ipython",
    "version": 3
   },
   "file_extension": ".py",
   "mimetype": "text/x-python",
   "name": "python",
   "nbconvert_exporter": "python",
   "pygments_lexer": "ipython3",
   "version": "3.12.2"
  }
 },
 "nbformat": 4,
 "nbformat_minor": 2
}
