{
 "cells": [
  {
   "cell_type": "code",
   "execution_count": 1,
   "metadata": {},
   "outputs": [
    {
     "name": "stdout",
     "output_type": "stream",
     "text": [
      "/u02/thanhhm/research-idea\n"
     ]
    }
   ],
   "source": [
    "%cd ../"
   ]
  },
  {
   "cell_type": "code",
   "execution_count": 2,
   "metadata": {},
   "outputs": [],
   "source": [
    "import plasma.parallel_processing as pp\n",
    "import time\n",
    "\n",
    "from plasma.parallel_processing import queues"
   ]
  },
  {
   "cell_type": "code",
   "execution_count": 3,
   "metadata": {},
   "outputs": [],
   "source": [
    "class Block(pp.communicators.BlockPrototype):\n",
    "    \n",
    "    def on_received(self, data):\n",
    "        time.sleep(0.5)\n",
    "        return f'{data:05d}'"
   ]
  },
  {
   "cell_type": "code",
   "execution_count": 4,
   "metadata": {},
   "outputs": [
    {
     "data": {
      "text/plain": [
       "Caller(\n",
       "\tblock=Block(),\n",
       "\tarray=<ListProxy object, typeid 'list' at 0x7fdfdf591070>,\n",
       ")"
      ]
     },
     "execution_count": 4,
     "metadata": {},
     "output_type": "execute_result"
    }
   ],
   "source": [
    "class Caller(pp.communicators.CallerPrototype):\n",
    "\n",
    "    def __init__(self):\n",
    "        super().__init__()\n",
    "        self.block = Block()\n",
    "        manager = pp.mp.Manager()\n",
    "        self.array = manager.list()\n",
    "        self.register_inout(queues.ProcessQueue(), block=queues.ProcessQueue(n=4))\n",
    "    \n",
    "    def on_received(self, data):\n",
    "        self.array.append(int(data))\n",
    "        print(data)\n",
    "\n",
    "caller = Caller()\n",
    "caller.run()\n",
    "caller"
   ]
  },
  {
   "cell_type": "code",
   "execution_count": 5,
   "metadata": {},
   "outputs": [],
   "source": [
    "for i in range(20):\n",
    "    caller.put(i)"
   ]
  },
  {
   "cell_type": "code",
   "execution_count": 6,
   "metadata": {},
   "outputs": [
    {
     "name": "stdout",
     "output_type": "stream",
     "text": [
      "00001\n",
      "00000\n",
      "00002\n",
      "00003\n",
      "00004\n",
      "00005\n",
      "00006\n",
      "00007\n",
      "00008\n",
      "00009\n",
      "00010\n",
      "00011\n",
      "00012\n",
      "00013\n",
      "00014\n",
      "00015\n",
      "00017\n",
      "00016\n",
      "00018\n",
      "00019\n"
     ]
    }
   ],
   "source": [
    "caller.release()"
   ]
  },
  {
   "cell_type": "code",
   "execution_count": 7,
   "metadata": {},
   "outputs": [
    {
     "data": {
      "text/plain": [
       "[1, 0, 2, 3, 4, 5, 6, 7, 8, 9, 10, 11, 12, 13, 14, 15, 17, 16, 18, 19]"
      ]
     },
     "execution_count": 7,
     "metadata": {},
     "output_type": "execute_result"
    }
   ],
   "source": [
    "list(caller.array)"
   ]
  },
  {
   "cell_type": "code",
   "execution_count": null,
   "metadata": {},
   "outputs": [],
   "source": []
  }
 ],
 "metadata": {
  "kernelspec": {
   "display_name": "Python 3",
   "language": "python",
   "name": "python3"
  },
  "language_info": {
   "codemirror_mode": {
    "name": "ipython",
    "version": 3
   },
   "file_extension": ".py",
   "mimetype": "text/x-python",
   "name": "python",
   "nbconvert_exporter": "python",
   "pygments_lexer": "ipython3",
   "version": "3.12.2"
  }
 },
 "nbformat": 4,
 "nbformat_minor": 2
}
