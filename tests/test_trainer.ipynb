{
 "cells": [
  {
   "cell_type": "code",
   "execution_count": 1,
   "metadata": {},
   "outputs": [
    {
     "name": "stdout",
     "output_type": "stream",
     "text": [
      "/u02/thanhhm/research-idea\n"
     ]
    }
   ],
   "source": [
    "%cd ../"
   ]
  },
  {
   "cell_type": "code",
   "execution_count": 2,
   "metadata": {},
   "outputs": [
    {
     "name": "stderr",
     "output_type": "stream",
     "text": [
      "/u02/thanhhm/research-idea/.env/lib/python3.13/site-packages/tqdm/auto.py:21: TqdmWarning: IProgress not found. Please update jupyter and ipywidgets. See https://ipywidgets.readthedocs.io/en/stable/user_install.html\n",
      "  from .autonotebook import tqdm as notebook_tqdm\n"
     ]
    }
   ],
   "source": [
    "import plasma.torch as ptorch\n",
    "import torch.optim as opts\n",
    "import numpy as np\n",
    "import plasma.torch.training as training\n",
    "\n",
    "from torch.utils.data import DataLoader"
   ]
  },
  {
   "cell_type": "code",
   "execution_count": 3,
   "metadata": {},
   "outputs": [
    {
     "name": "stderr",
     "output_type": "stream",
     "text": [
      "/u02/thanhhm/research-idea/.env/lib/python3.13/site-packages/torch/amp/autocast_mode.py:266: UserWarning: User provided device_type of 'cuda', but CUDA is not available. Disabling\n",
      "  warnings.warn(\n"
     ]
    }
   ],
   "source": [
    "class TestTrainer(ptorch.training.Trainer):\n",
    "\n",
    "    def __init__(self):\n",
    "        super().__init__()\n",
    "\n",
    "        self.max_epoch = 2\n",
    "\n",
    "        model = ptorch.nn.Linear(1, 1)\n",
    "        self.model = model\n",
    "        self.optimizer = opts.SGD(model.parameters())\n",
    "        self.scheduler = None\n",
    "    \n",
    "    def init_train_loader(self) -> DataLoader:\n",
    "        ds = ptorch.data.AdhocData([1.0]*10, lambda x: x)\n",
    "        return ds.get_torch_loader(batch_size=1, workers=0)\n",
    "    \n",
    "    @training.wrappers.Tensorboard('test')\n",
    "    @ptorch.torch.autocast('cuda', dtype=ptorch.torch.bfloat16)\n",
    "    def forward(self, i, inputs):\n",
    "        self.model.zero_grad()\n",
    "        y = self.model(inputs[np.newaxis].float())\n",
    "\n",
    "        return (y - inputs).mean()\n",
    "    \n",
    "    @training.wrappers.GradientClipping()\n",
    "    def backward(self, i, inputs, objective_val):\n",
    "        objective_val.backward()\n",
    "        self.optimizer.step()\n"
   ]
  },
  {
   "cell_type": "code",
   "execution_count": 4,
   "metadata": {},
   "outputs": [],
   "source": [
    "trainer = TestTrainer()"
   ]
  },
  {
   "cell_type": "code",
   "execution_count": 5,
   "metadata": {},
   "outputs": [
    {
     "name": "stderr",
     "output_type": "stream",
     "text": [
      "100%|██████████| 10/10 [00:00<00:00, 581.69it/s]\n",
      "100%|██████████| 10/10 [00:00<00:00, 3938.31it/s]\n",
      "epoch: 100%|██████████| 2/2 [00:00<00:00, 91.23it/s]\n"
     ]
    }
   ],
   "source": [
    "trainer.run()"
   ]
  },
  {
   "cell_type": "code",
   "execution_count": null,
   "metadata": {},
   "outputs": [],
   "source": [
    "import inspect"
   ]
  },
  {
   "cell_type": "code",
   "execution_count": null,
   "metadata": {},
   "outputs": [],
   "source": [
    "inspect.getfullargspec(trainer.forward)"
   ]
  },
  {
   "cell_type": "code",
   "execution_count": null,
   "metadata": {},
   "outputs": [],
   "source": []
  }
 ],
 "metadata": {
  "kernelspec": {
   "display_name": "Python 3",
   "language": "python",
   "name": "python3"
  },
  "language_info": {
   "codemirror_mode": {
    "name": "ipython",
    "version": 3
   },
   "file_extension": ".py",
   "mimetype": "text/x-python",
   "name": "python",
   "nbconvert_exporter": "python",
   "pygments_lexer": "ipython3",
   "version": "3.13.1"
  }
 },
 "nbformat": 4,
 "nbformat_minor": 2
}
