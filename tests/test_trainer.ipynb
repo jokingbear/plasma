{
 "cells": [
  {
   "cell_type": "code",
   "execution_count": 1,
   "metadata": {},
   "outputs": [
    {
     "name": "stdout",
     "output_type": "stream",
     "text": [
      "/u02/thanhhm/research-idea\n"
     ]
    }
   ],
   "source": [
    "%cd ../"
   ]
  },
  {
   "cell_type": "code",
   "execution_count": 2,
   "metadata": {},
   "outputs": [],
   "source": [
    "import plasma.torch as ptorch\n",
    "import torch.optim as opts\n",
    "import numpy as np\n",
    "import plasma.torch.training as training\n",
    "import plasma.logging as plog\n",
    "\n",
    "from torch import Tensor\n",
    "from torch.utils.data import DataLoader\n",
    "from plasma.torch.training.prototypes.trainer import TrainerState"
   ]
  },
  {
   "cell_type": "code",
   "execution_count": 3,
   "metadata": {},
   "outputs": [],
   "source": [
    "@training.wrappers.NanChecker()\n",
    "@training.wrappers.Tensorboard('test')\n",
    "@training.wrappers.GradientClipping()\n",
    "@training.wrappers.AMP()\n",
    "class TestTrainer(ptorch.training.BaseTrainer):\n",
    "\n",
    "    def __init__(self):\n",
    "        super().__init__()\n",
    "\n",
    "        self.max_epoch = 2\n",
    "\n",
    "    def init_state(self) -> TrainerState:\n",
    "        model = ptorch.nn.Linear(1, 1)\n",
    "\n",
    "        return TrainerState(\n",
    "            epoch=-1,\n",
    "            model=model,\n",
    "            optimizer=opts.SGD(model.parameters()),\n",
    "            scheduler=None,\n",
    "        )\n",
    "    \n",
    "    def init_train_loader(self) -> DataLoader:\n",
    "        ds = ptorch.data.AdhocData([1.0]*10, lambda x: x)\n",
    "        return ds.get_torch_loader(batch_size=1, workers=0)\n",
    "    \n",
    "    def forward(self, state: TrainerState, i: int, inputs):\n",
    "        model = state.model\n",
    "        model.zero_grad()\n",
    "\n",
    "        y = model(inputs[np.newaxis].float())\n",
    "\n",
    "        return (y - inputs).mean()\n",
    "    \n",
    "    def backward(self, state: TrainerState, bjective_val: Tensor):\n",
    "        bjective_val.backward()\n",
    "        state.optimizer.step()"
   ]
  },
  {
   "cell_type": "code",
   "execution_count": 4,
   "metadata": {},
   "outputs": [],
   "source": [
    "trainer = TestTrainer()"
   ]
  },
  {
   "cell_type": "code",
   "execution_count": null,
   "metadata": {},
   "outputs": [],
   "source": [
    "trainer.run()"
   ]
  },
  {
   "cell_type": "code",
   "execution_count": null,
   "metadata": {},
   "outputs": [],
   "source": []
  }
 ],
 "metadata": {
  "kernelspec": {
   "display_name": "Python 3",
   "language": "python",
   "name": "python3"
  },
  "language_info": {
   "codemirror_mode": {
    "name": "ipython",
    "version": 3
   },
   "file_extension": ".py",
   "mimetype": "text/x-python",
   "name": "python",
   "nbconvert_exporter": "python",
   "pygments_lexer": "ipython3",
   "version": "3.12.2"
  }
 },
 "nbformat": 4,
 "nbformat_minor": 2
}
