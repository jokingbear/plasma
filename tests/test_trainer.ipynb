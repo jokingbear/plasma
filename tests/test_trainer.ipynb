{
 "cells": [
  {
   "cell_type": "code",
   "execution_count": 1,
   "metadata": {},
   "outputs": [
    {
     "name": "stdout",
     "output_type": "stream",
     "text": [
      "/u02/thanhhm/research-idea\n"
     ]
    }
   ],
   "source": [
    "%cd ../"
   ]
  },
  {
   "cell_type": "code",
   "execution_count": 2,
   "metadata": {},
   "outputs": [],
   "source": [
    "import plasma.torch as ptorch\n",
    "import torch.optim as opts\n",
    "import numpy as np\n",
    "import plasma.torch.training as training\n",
    "\n",
    "from torch.utils.data import DataLoader"
   ]
  },
  {
   "cell_type": "code",
   "execution_count": 3,
   "metadata": {},
   "outputs": [],
   "source": [
    "@training.wrappers.NanChecker()\n",
    "@training.wrappers.Tensorboard('test')\n",
    "@training.wrappers.GradientClipping()\n",
    "@training.wrappers.AMP()\n",
    "class TestTrainer(ptorch.training.BaseTrainer):\n",
    "\n",
    "    def __init__(self):\n",
    "        super().__init__()\n",
    "\n",
    "        self.max_epoch = 2\n",
    "\n",
    "        model = ptorch.nn.Linear(1, 1)\n",
    "        self.model = model\n",
    "        self.optimizer = opts.SGD(model.parameters())\n",
    "        self.scheduler = None\n",
    "    \n",
    "    def init_train_loader(self) -> DataLoader:\n",
    "        ds = ptorch.data.AdhocData([1.0]*10, lambda x: x)\n",
    "        return ds.get_torch_loader(batch_size=1, workers=0)\n",
    "    \n",
    "    def forward(self, i, inputs):\n",
    "        self.model.zero_grad()\n",
    "        y = self.model(inputs[np.newaxis].float())\n",
    "\n",
    "        return (y - inputs).mean()\n",
    "    \n",
    "    def backward(self, bjective_val):\n",
    "        bjective_val.backward()\n",
    "        self.optimizer.step()\n",
    "    \n",
    "    def finalize_iteration(self):\n",
    "        if self.scheduler is not None:\n",
    "            self.scheduler.step()"
   ]
  },
  {
   "cell_type": "code",
   "execution_count": 4,
   "metadata": {},
   "outputs": [],
   "source": [
    "trainer = TestTrainer()"
   ]
  },
  {
   "cell_type": "code",
   "execution_count": 5,
   "metadata": {},
   "outputs": [
    {
     "data": {
      "application/vnd.jupyter.widget-view+json": {
       "model_id": "30cf43b5c653498eb05dbcb6bb024b5b",
       "version_major": 2,
       "version_minor": 0
      },
      "text/plain": [
       "epoch:   0%|          | 0/2 [00:00<?, ?it/s]"
      ]
     },
     "metadata": {},
     "output_type": "display_data"
    },
    {
     "data": {
      "application/vnd.jupyter.widget-view+json": {
       "model_id": "fa148e09542a444493fb5798fb8af256",
       "version_major": 2,
       "version_minor": 0
      },
      "text/plain": [
       "  0%|          | 0/10 [00:00<?, ?it/s]"
      ]
     },
     "metadata": {},
     "output_type": "display_data"
    },
    {
     "data": {
      "application/vnd.jupyter.widget-view+json": {
       "model_id": "0a7e9a5146244884aa32b8cd4d6e61dd",
       "version_major": 2,
       "version_minor": 0
      },
      "text/plain": [
       "  0%|          | 0/10 [00:00<?, ?it/s]"
      ]
     },
     "metadata": {},
     "output_type": "display_data"
    }
   ],
   "source": [
    "trainer.run()"
   ]
  }
 ],
 "metadata": {
  "kernelspec": {
   "display_name": "Python 3",
   "language": "python",
   "name": "python3"
  },
  "language_info": {
   "codemirror_mode": {
    "name": "ipython",
    "version": 3
   },
   "file_extension": ".py",
   "mimetype": "text/x-python",
   "name": "python",
   "nbconvert_exporter": "python",
   "pygments_lexer": "ipython3",
   "version": "3.13.1"
  }
 },
 "nbformat": 4,
 "nbformat_minor": 2
}
