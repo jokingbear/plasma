{
 "cells": [
  {
   "cell_type": "code",
   "execution_count": 1,
   "metadata": {},
   "outputs": [
    {
     "name": "stdout",
     "output_type": "stream",
     "text": [
      "/u02/thanh/workplace/plasma\n"
     ]
    }
   ],
   "source": [
    "%cd ../"
   ]
  },
  {
   "cell_type": "code",
   "execution_count": 2,
   "metadata": {},
   "outputs": [
    {
     "name": "stderr",
     "output_type": "stream",
     "text": [
      "/u02/thanh/workplace/plasma/.env/RnD/lib/python3.13/site-packages/tqdm/auto.py:21: TqdmWarning: IProgress not found. Please update jupyter and ipywidgets. See https://ipywidgets.readthedocs.io/en/stable/user_install.html\n",
      "  from .autonotebook import tqdm as notebook_tqdm\n"
     ]
    }
   ],
   "source": [
    "import time\n",
    "\n",
    "import plasma.parallel_processing.communicators as ppc\n",
    "import plasma.parallel_processing.queues as ppq\n",
    "from plasma.functional import partials, AutoPipe, LambdaPipe"
   ]
  },
  {
   "cell_type": "code",
   "execution_count": 3,
   "metadata": {},
   "outputs": [],
   "source": [
    "def compute(x):\n",
    "    time.sleep(0.5)\n",
    "    return f'compute: {x}'\n",
    "\n",
    "def compute2(x):\n",
    "    time.sleep(0.5)\n",
    "    return f'compute2: {x + 'c'}'\n",
    "\n",
    "class ComputeClass(AutoPipe):\n",
    "\n",
    "    def __init__(self, hihi, haha):\n",
    "        super().__init__()\n",
    "    \n",
    "    def run(self, tmp):\n",
    "        return 'ComputeClass: ' + tmp + 'd'"
   ]
  },
  {
   "cell_type": "code",
   "execution_count": 4,
   "metadata": {},
   "outputs": [
    {
     "data": {
      "text/plain": [
       "[ThreadQueue(name=None, runner=1, id=133618889030160)]\n",
       "\n",
       "  |->(IteratorDistributor, id=133618889029488)\n",
       "\n",
       "    |->[ProcessQueue(name=None, runner=5, id=133618889030496)]\n",
       "\n",
       "      |->(<function compute at 0x79869258cb80>, id=133618887871360)\n",
       "\n",
       "        |->[TransferQueue(name=None, runner=1, id=133618887649680)]\n",
       "\n",
       "          |->(<built-in function print>, id=133625118581808)\n",
       "\n",
       "        |->[TransferQueue(name=None, runner=1, id=133625070618336)]\n",
       "\n",
       "        |->[ProcessQueue(name=None, runner=5, id=133618887651280)]\n",
       "\n",
       "          |->(<function compute2 at 0x79869258cc20>, id=133618887871520)\n",
       "\n",
       "            |->[TransferQueue(name=None, runner=1, id=133618887649680)]\n",
       "\n",
       "              |->(<built-in function print>, id=133625118581808)...\n",
       "\n",
       "            |->[TransferQueue(name=None, runner=1, id=133625070618336)]\n",
       "\n",
       "            |->[ProcessQueue(name=None, runner=1, id=133618887651600)]\n",
       "\n",
       "              |->(ComputeClass, id=133618889029824)\n",
       "\n",
       "                |->[TransferQueue(name=None, runner=1, id=133618887649680)]\n",
       "\n",
       "                  |->(<built-in function print>, id=133625118581808)...\n",
       "\n",
       "                |->[TransferQueue(name=None, runner=1, id=133625070618336)]"
      ]
     },
     "execution_count": 4,
     "metadata": {},
     "output_type": "execute_result"
    }
   ],
   "source": [
    "out_queue= ppq.TransferQueue().register_callback(print)\n",
    "\n",
    "class Flow(ppc.AsyncFlow):\n",
    "\n",
    "    def __init__(self):\n",
    "        super().__init__()\n",
    "\n",
    "        distributor = ppc.distributors.IteratorDistributor()\n",
    "        compute3 = ComputeClass(1, 2)\n",
    "        self.chain(\n",
    "            (ppq.ThreadQueue(), distributor),\n",
    "            (distributor, compute, ppq.ProcessQueue(5)),\n",
    "                (compute, print, ppq.TransferQueue()),\n",
    "                (compute, out_queue),\n",
    "                (compute, compute2, ppq.ProcessQueue(5)),\n",
    "                    (compute2, print),\n",
    "                    (compute2, out_queue),\n",
    "                    (compute2, compute3, ppq.ProcessQueue()),\n",
    "                        (compute3, print),\n",
    "                        (compute3, out_queue)\n",
    "        )\n",
    "\n",
    "flow = Flow()\n",
    "flow"
   ]
  },
  {
   "cell_type": "code",
   "execution_count": 5,
   "metadata": {},
   "outputs": [
    {
     "name": "stdout",
     "output_type": "stream",
     "text": [
      "compute: 0\n",
      "compute: 0\n",
      "compute: 1\n",
      "compute: 2\n",
      "compute: 1\n",
      "compute: 2\n",
      "compute: 3\n",
      "compute: 3\n",
      "compute2: compute: 0c\n",
      "compute: 4\n",
      "compute2: compute: 1c\n",
      "compute: 4\n",
      "compute2: compute: 2c\n",
      "compute2: compute: 1c\n",
      "compute2: compute: 0c\n",
      "ComputeClass: compute2: compute: 0cd\n",
      "ComputeClass: compute2: compute: 1cd\n",
      "ComputeClass: compute2: compute: 2cd\n",
      "ComputeClass: compute2: compute: 1cd\n",
      "ComputeClass: compute2: compute: 0cd\n",
      "compute: 5\n",
      "compute: 5\n",
      "compute: 6\n",
      "compute2: compute: 2c\n",
      "ComputeClass: compute2: compute: 2cd\n",
      "compute: 6\n",
      "compute2: compute: 3c\n",
      "compute2: compute: 3c\n",
      "compute: 7\n",
      "ComputeClass: compute2: compute: 3cd\n",
      "ComputeClass: compute2: compute: 3cd\n",
      "compute2: compute: 4c\n",
      "ComputeClass: compute2: compute: 4cd\n",
      "compute2: compute: 4c\n",
      "ComputeClass: compute2: compute: 4cd\n",
      "compute: 8\n",
      "compute: 7\n",
      "compute: 8\n",
      "compute2: compute: 5c\n",
      "ComputeClass: compute2: compute: 5cd\n",
      "compute2: compute: 5c\n",
      "ComputeClass: compute2: compute: 5cd\n",
      "compute: 9\n",
      "compute: 9\n",
      "ComputeClass: compute2: compute: 6cd\n",
      "compute2: compute: 6c\n",
      "compute2: compute: 6c\n",
      "compute2: compute: 7c\n",
      "ComputeClass: compute2: compute: 6cd\n",
      "ComputeClass: compute2: compute: 7cd\n"
     ]
    }
   ],
   "source": [
    "with flow:\n",
    "   for i in range(10):\n",
    "      flow.put([i] * 2)"
   ]
  },
  {
   "cell_type": "code",
   "execution_count": 6,
   "metadata": {},
   "outputs": [
    {
     "name": "stdout",
     "output_type": "stream",
     "text": [
      "compute: 0\n",
      "compute: 0\n",
      "compute: 1\n",
      "compute: 2\n",
      "compute: 1\n",
      "compute: 2\n",
      "compute: 3\n",
      "compute: 3\n",
      "compute2: compute: 0c\n",
      "compute2: compute: 1c\n",
      "compute: 4\n",
      "compute: 4\n",
      "compute2: compute: 2c\n",
      "compute2: compute: 1c\n",
      "compute2: compute: 0c\n",
      "ComputeClass: compute2: compute: 0cd\n",
      "ComputeClass: compute2: compute: 1cd\n",
      "ComputeClass: compute2: compute: 2cd\n",
      "ComputeClass: compute2: compute: 1cd\n",
      "ComputeClass: compute2: compute: 0cd\n",
      "compute: 5\n",
      "compute: 5\n",
      "compute: 6\n",
      "compute2: compute: 2c\n",
      "ComputeClass: compute2: compute: 2cd\n",
      "compute: 6\n",
      "compute: 7\n",
      "compute2: compute: 3c\n",
      "compute2: compute: 3c\n",
      "ComputeClass: compute2: compute: 3cd\n",
      "ComputeClass: compute2: compute: 3cd\n",
      "compute2: compute: 4c\n",
      "ComputeClass: compute2: compute: 4cd\n",
      "compute2: compute: 4c\n",
      "ComputeClass: compute2: compute: 4cd\n",
      "compute: 7\n",
      "compute: 8\n",
      "compute: 8\n",
      "compute2: compute: 5c\n",
      "ComputeClass: compute2: compute: 5cd\n",
      "compute: 9\n",
      "compute: 9\n",
      "ComputeClass: compute2: compute: 5cd\n",
      "compute2: compute: 5c\n",
      "compute2: compute: 6c\n",
      "ComputeClass: compute2: compute: 6cd\n",
      "compute2: compute: 6c\n",
      "compute2: compute: 7c\n",
      "ComputeClass: compute2: compute: 6cd\n",
      "ComputeClass: compute2: compute: 7cd\n",
      "compute2: compute: 7c\n",
      "ComputeClass: compute2: compute: 7cd\n",
      "compute2: compute: 8c\n",
      "compute2: compute: 8c\n",
      "ComputeClass: compute2: compute: 8cd\n",
      "ComputeClass: compute2: compute: 8cd\n",
      "compute2: compute: 9c\n",
      "ComputeClass: compute2: compute: 9cd\n",
      "ComputeClass: compute2: compute: 9cd\n",
      "compute2: compute: 9c\n"
     ]
    },
    {
     "data": {
      "text/plain": [
       "TransferQueue(\n",
       "  name=None,\n",
       "  num_runner=1,\n",
       ")"
      ]
     },
     "execution_count": 6,
     "metadata": {},
     "output_type": "execute_result"
    }
   ],
   "source": [
    "out_queue.run()"
   ]
  },
  {
   "cell_type": "code",
   "execution_count": 7,
   "metadata": {},
   "outputs": [],
   "source": [
    "out_queue.release()"
   ]
  },
  {
   "cell_type": "code",
   "execution_count": null,
   "metadata": {},
   "outputs": [],
   "source": []
  }
 ],
 "metadata": {
  "kernelspec": {
   "display_name": "Python 3",
   "language": "python",
   "name": "python3"
  },
  "language_info": {
   "codemirror_mode": {
    "name": "ipython",
    "version": 3
   },
   "file_extension": ".py",
   "mimetype": "text/x-python",
   "name": "python",
   "nbconvert_exporter": "python",
   "pygments_lexer": "ipython3",
   "version": "3.13.5"
  }
 },
 "nbformat": 4,
 "nbformat_minor": 2
}
