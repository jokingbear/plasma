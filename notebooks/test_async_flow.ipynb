{
 "cells": [
  {
   "cell_type": "code",
   "execution_count": null,
   "metadata": {},
   "outputs": [],
   "source": [
    "%cd ../"
   ]
  },
  {
   "cell_type": "code",
   "execution_count": null,
   "metadata": {},
   "outputs": [],
   "source": [
    "import time\n",
    "\n",
    "import plasma.parallel_processing.communicators as ppc\n",
    "import plasma.parallel_processing.queues as ppq\n",
    "from plasma.functional import partials, AutoPipe, LambdaPipe"
   ]
  },
  {
   "cell_type": "code",
   "execution_count": null,
   "metadata": {},
   "outputs": [],
   "source": [
    "def compute(x):\n",
    "    time.sleep(0.5)\n",
    "    return f'compute: {x}'\n",
    "\n",
    "def compute2(x):\n",
    "    time.sleep(0.5)\n",
    "    return f'compute2: {x + 'c'}'\n",
    "\n",
    "class ComputeClass(AutoPipe):\n",
    "\n",
    "    def __init__(self, hihi, haha):\n",
    "        super().__init__()\n",
    "    \n",
    "    def run(self, tmp):\n",
    "        return 'ComputeClass: ' + tmp + 'd'"
   ]
  },
  {
   "cell_type": "code",
   "execution_count": null,
   "metadata": {},
   "outputs": [],
   "source": [
    "def input_handler(i):\n",
    "    return [i] * 2"
   ]
  },
  {
   "cell_type": "code",
   "execution_count": null,
   "metadata": {},
   "outputs": [],
   "source": [
    "out_queue= ppq.ThreadQueue().register_callback(print)\n",
    "temp = partials(print, 'test')\n",
    "\n",
    "class Flow(ppc.AsyncFlow):\n",
    "\n",
    "    def __init__(self):\n",
    "        super().__init__()\n",
    "\n",
    "        distributor = ppc.distributors.IteratorDistributor()\n",
    "        compute3 = ComputeClass(1, 2)\n",
    "        self.chain(\n",
    "            (ppq.ThreadQueue(), input_handler, distributor),\n",
    "            (input_handler, compute, ppq.PseudoQueue()),\n",
    "                (compute, print, ppq.PseudoQueue()),\n",
    "                (compute, out_queue),\n",
    "                (compute, compute2, ppq.PseudoQueue()),\n",
    "                    (compute2, print),\n",
    "                    (compute2, out_queue),\n",
    "                    (compute2, compute3, ppq.PseudoQueue()),\n",
    "                        (compute3, print),\n",
    "                        (compute3, out_queue)\n",
    "        )\n",
    "\n",
    "flow = Flow()\n",
    "flow"
   ]
  },
  {
   "cell_type": "code",
   "execution_count": null,
   "metadata": {},
   "outputs": [],
   "source": [
    "with flow:\n",
    "   for i in range(10):\n",
    "      flow.put(i)"
   ]
  },
  {
   "cell_type": "code",
   "execution_count": null,
   "metadata": {},
   "outputs": [],
   "source": [
    "flow.alive()"
   ]
  },
  {
   "cell_type": "code",
   "execution_count": null,
   "metadata": {},
   "outputs": [],
   "source": [
    "out_queue.run()"
   ]
  },
  {
   "cell_type": "code",
   "execution_count": null,
   "metadata": {},
   "outputs": [],
   "source": [
    "out_queue.release()"
   ]
  },
  {
   "cell_type": "code",
   "execution_count": null,
   "metadata": {},
   "outputs": [],
   "source": []
  }
 ],
 "metadata": {
  "kernelspec": {
   "display_name": "Python 3",
   "language": "python",
   "name": "python3"
  },
  "language_info": {
   "codemirror_mode": {
    "name": "ipython",
    "version": 3
   },
   "file_extension": ".py",
   "mimetype": "text/x-python",
   "name": "python",
   "nbconvert_exporter": "python",
   "pygments_lexer": "ipython3",
   "version": "3.13.5"
  }
 },
 "nbformat": 4,
 "nbformat_minor": 2
}
