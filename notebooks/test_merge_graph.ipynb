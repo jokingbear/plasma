{
 "cells": [
  {
   "cell_type": "code",
   "execution_count": 1,
   "id": "2c47912c",
   "metadata": {},
   "outputs": [
    {
     "name": "stdout",
     "output_type": "stream",
     "text": [
      "/u02/thanh/workplace/plasma\n"
     ]
    }
   ],
   "source": [
    "%cd .."
   ]
  },
  {
   "cell_type": "code",
   "execution_count": 2,
   "id": "ab928f25",
   "metadata": {},
   "outputs": [
    {
     "name": "stderr",
     "output_type": "stream",
     "text": [
      "/u02/thanh/workplace/plasma/.env/RnD/lib/python3.13/site-packages/tqdm/auto.py:21: TqdmWarning: IProgress not found. Please update jupyter and ipywidgets. See https://ipywidgets.readthedocs.io/en/stable/user_install.html\n",
      "  from .autonotebook import tqdm as notebook_tqdm\n"
     ]
    }
   ],
   "source": [
    "import plasma.parallel_processing.communicators as ppc\n",
    "import plasma.functional as F\n",
    "import plasma.parallel_processing.queues as ppq"
   ]
  },
  {
   "cell_type": "code",
   "execution_count": 3,
   "id": "99637919",
   "metadata": {},
   "outputs": [
    {
     "data": {
      "text/plain": [
       "[ThreadQueue(name=None, runner=1, id=128386145625696)]\n",
       "\n",
       "  |->(<function flow1 at 0x74c43a892f20>, id=128386144481056)\n",
       "\n",
       "    |->[ThreadQueue(name=None, runner=1, id=128386144243856)]\n",
       "\n",
       "      |->(<built-in function print>, id=128392376214576)"
      ]
     },
     "execution_count": 3,
     "metadata": {},
     "output_type": "execute_result"
    }
   ],
   "source": [
    "graph1 = ppc.AsyncFlow()\n",
    "\n",
    "def flow1(x): return f'flow 1 {x}'\n",
    "graph1.chain(\n",
    "    (ppq.ThreadQueue(), flow1),\n",
    "        (flow1, print, ppq.ThreadQueue())\n",
    ")"
   ]
  },
  {
   "cell_type": "code",
   "execution_count": 4,
   "id": "c2fd9c0d",
   "metadata": {},
   "outputs": [
    {
     "data": {
      "text/plain": [
       "[ThreadQueue(name=None, runner=1, id=128386144246096)]\n",
       "\n",
       "  |->(<function flow2 at 0x74c5a83e4fe0>, id=128392280035296)\n",
       "\n",
       "    |->[ThreadQueue(name=None, runner=1, id=128392327987888)]\n",
       "\n",
       "      |->(<built-in function print>, id=128392376214576)"
      ]
     },
     "execution_count": 4,
     "metadata": {},
     "output_type": "execute_result"
    }
   ],
   "source": [
    "graph2 = ppc.AsyncFlow()\n",
    "def flow2(x): return f'flow 2 {x}'\n",
    "graph2.chain(\n",
    "    (ppq.ThreadQueue(), flow2),\n",
    "        (flow2, print, ppq.ThreadQueue())\n",
    ")\n",
    "graph2"
   ]
  },
  {
   "cell_type": "code",
   "execution_count": 5,
   "id": "cf85fbaa",
   "metadata": {},
   "outputs": [
    {
     "data": {
      "text/plain": [
       "[ThreadQueue(name=None, runner=1, id=128392279554080)]\n",
       "\n",
       "  |->(<function flow_main at 0x74c43a8b0b80>, id=128386144603008)\n",
       "\n",
       "    |->[ThreadQueue(name=None, runner=1, id=128386145625696)]\n",
       "\n",
       "      |->(<function flow1 at 0x74c43a892f20>, id=128386144481056)\n",
       "\n",
       "        |->[ThreadQueue(name=None, runner=1, id=128392327987888)]\n",
       "\n",
       "          |->(<built-in function print>, id=128392376214576)\n",
       "\n",
       "    |->[ThreadQueue(name=None, runner=1, id=128386144246096)]\n",
       "\n",
       "      |->(<function flow2 at 0x74c5a83e4fe0>, id=128392280035296)\n",
       "\n",
       "        |->[ThreadQueue(name=None, runner=1, id=128392327987888)]\n",
       "\n",
       "          |->(<built-in function print>, id=128392376214576)..."
      ]
     },
     "execution_count": 5,
     "metadata": {},
     "output_type": "execute_result"
    }
   ],
   "source": [
    "graph = ppc.AsyncFlow()\n",
    "def flow_main(x): return f'input {x}'\n",
    "graph.chain(\n",
    "    (ppq.ThreadQueue(), flow_main),\n",
    "        (flow_main, graph1),\n",
    "        (flow_main, graph2)\n",
    ")"
   ]
  },
  {
   "cell_type": "code",
   "execution_count": null,
   "id": "24e505c0",
   "metadata": {},
   "outputs": [
    {
     "data": {
      "text/plain": [
       "[ThreadQueue(name=None, runner=1, id=128392279554080)]\n",
       "\n",
       "  |->(<function flow_main at 0x74c43a8b0b80>, id=128386144603008)\n",
       "\n",
       "    |->[ThreadQueue(name=None, runner=1, id=128386145625696)]\n",
       "\n",
       "      |->(<function flow1 at 0x74c43a892f20>, id=128386144481056)\n",
       "\n",
       "        |->[ThreadQueue(name=None, runner=1, id=128392327987888)]\n",
       "\n",
       "          |->(<built-in function print>, id=128392376214576)\n",
       "\n",
       "    |->[ThreadQueue(name=None, runner=1, id=128386144246096)]\n",
       "\n",
       "      |->(<function flow2 at 0x74c5a83e4fe0>, id=128392280035296)\n",
       "\n",
       "        |->[ThreadQueue(name=None, runner=1, id=128392327987888)]\n",
       "\n",
       "          |->(<built-in function print>, id=128392376214576)..."
      ]
     },
     "execution_count": 6,
     "metadata": {},
     "output_type": "execute_result"
    },
    {
     "name": "stdout",
     "output_type": "stream",
     "text": [
      "flow 2 input 8\n",
      "flow 1 input 8\n"
     ]
    }
   ],
   "source": [
    "graph.run()"
   ]
  },
  {
   "cell_type": "code",
   "execution_count": 7,
   "id": "868859c6",
   "metadata": {},
   "outputs": [],
   "source": [
    "graph.put(8)"
   ]
  },
  {
   "cell_type": "code",
   "execution_count": null,
   "id": "510f2c1b",
   "metadata": {},
   "outputs": [],
   "source": []
  }
 ],
 "metadata": {
  "kernelspec": {
   "display_name": "Python 3",
   "language": "python",
   "name": "python3"
  },
  "language_info": {
   "codemirror_mode": {
    "name": "ipython",
    "version": 3
   },
   "file_extension": ".py",
   "mimetype": "text/x-python",
   "name": "python",
   "nbconvert_exporter": "python",
   "pygments_lexer": "ipython3",
   "version": "3.13.5"
  }
 },
 "nbformat": 4,
 "nbformat_minor": 5
}
