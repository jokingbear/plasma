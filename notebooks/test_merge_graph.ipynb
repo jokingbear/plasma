{
 "cells": [
  {
   "cell_type": "code",
   "execution_count": 1,
   "id": "2c47912c",
   "metadata": {},
   "outputs": [
    {
     "name": "stdout",
     "output_type": "stream",
     "text": [
      "/u02/thanh/workplace/plasma\n"
     ]
    }
   ],
   "source": [
    "%cd .."
   ]
  },
  {
   "cell_type": "code",
   "execution_count": 2,
   "id": "ab928f25",
   "metadata": {},
   "outputs": [
    {
     "name": "stderr",
     "output_type": "stream",
     "text": [
      "/u02/thanh/workplace/plasma/.env/RnD/lib/python3.13/site-packages/tqdm/auto.py:21: TqdmWarning: IProgress not found. Please update jupyter and ipywidgets. See https://ipywidgets.readthedocs.io/en/stable/user_install.html\n",
      "  from .autonotebook import tqdm as notebook_tqdm\n"
     ]
    }
   ],
   "source": [
    "import plasma.parallel_processing.communicators as ppc\n",
    "import plasma.functional as F\n",
    "import plasma.parallel_processing.queues as ppq"
   ]
  },
  {
   "cell_type": "code",
   "execution_count": 3,
   "id": "99637919",
   "metadata": {},
   "outputs": [
    {
     "data": {
      "text/plain": [
       "[ThreadQueue(name=None, runner=1, id=138225237255776)]\n",
       "\n",
       "  |->(<function flow1 at 0x7db71218ade0>, id=138225236094432)\n",
       "\n",
       "    |->[ThreadQueue(name=None, runner=1, id=138225235824784)]\n",
       "\n",
       "      |->(<built-in function print>, id=138231466812464)"
      ]
     },
     "execution_count": 3,
     "metadata": {},
     "output_type": "execute_result"
    }
   ],
   "source": [
    "graph1 = ppc.AsyncFlow()\n",
    "\n",
    "def flow1(x): return f'flow 1 {x}'\n",
    "graph1.chain(\n",
    "    (ppq.ThreadQueue(), flow1),\n",
    "        (flow1, print, ppq.ThreadQueue())\n",
    ")"
   ]
  },
  {
   "cell_type": "code",
   "execution_count": 4,
   "id": "c2fd9c0d",
   "metadata": {},
   "outputs": [
    {
     "data": {
      "text/plain": [
       "[ThreadQueue(name=None, runner=1, id=138225235827024)]\n",
       "\n",
       "  |->(<function flow2 at 0x7db871c04360>, id=138231135880032)\n",
       "\n",
       "    |->[ThreadQueue(name=None, runner=1, id=138231418897072)]\n",
       "\n",
       "      |->(<built-in function print>, id=138231466812464)"
      ]
     },
     "execution_count": 4,
     "metadata": {},
     "output_type": "execute_result"
    }
   ],
   "source": [
    "graph2 = ppc.AsyncFlow()\n",
    "def flow2(x): return f'flow 2 {x}'\n",
    "graph2.chain(\n",
    "    (ppq.ThreadQueue(), flow2),\n",
    "        (flow2, print, ppq.ThreadQueue())\n",
    ")\n",
    "graph2"
   ]
  },
  {
   "cell_type": "code",
   "execution_count": 5,
   "id": "cf85fbaa",
   "metadata": {},
   "outputs": [
    {
     "data": {
      "text/plain": [
       "[ThreadQueue(name=None, runner=1, id=138231135402016)]\n",
       "\n",
       "  |->(<function flow_main at 0x7db871c051c0>, id=138231135883712)\n",
       "\n",
       "    |->[ThreadQueue(name=None, runner=1, id=138225237255776)]\n",
       "\n",
       "      |->(<function flow1 at 0x7db71218ade0>, id=138225236094432)\n",
       "\n",
       "        |->[ThreadQueue(name=None, runner=1, id=138231418897072)]\n",
       "\n",
       "          |->(<built-in function print>, id=138231466812464)\n",
       "\n",
       "    |->[ThreadQueue(name=None, runner=1, id=138225235827024)]\n",
       "\n",
       "      |->(<function flow2 at 0x7db871c04360>, id=138231135880032)\n",
       "\n",
       "        |->[ThreadQueue(name=None, runner=1, id=138231418897072)]\n",
       "\n",
       "          |->(<built-in function print>, id=138231466812464)..."
      ]
     },
     "execution_count": 5,
     "metadata": {},
     "output_type": "execute_result"
    }
   ],
   "source": [
    "graph = ppc.AsyncFlow()\n",
    "def flow_main(x): return f'input {x}'\n",
    "graph.chain(\n",
    "    (ppq.ThreadQueue(), flow_main),\n",
    "        (flow_main, graph1),\n",
    "        (flow_main, graph2)\n",
    ")"
   ]
  },
  {
   "cell_type": "code",
   "execution_count": 6,
   "id": "24e505c0",
   "metadata": {},
   "outputs": [
    {
     "data": {
      "text/plain": [
       "[ThreadQueue(name=None, runner=1, id=138231135402016)]\n",
       "\n",
       "  |->(<function flow_main at 0x7db871c051c0>, id=138231135883712)\n",
       "\n",
       "    |->[ThreadQueue(name=None, runner=1, id=138225237255776)]\n",
       "\n",
       "      |->(<function flow1 at 0x7db71218ade0>, id=138225236094432)\n",
       "\n",
       "        |->[ThreadQueue(name=None, runner=1, id=138231418897072)]\n",
       "\n",
       "          |->(<built-in function print>, id=138231466812464)\n",
       "\n",
       "    |->[ThreadQueue(name=None, runner=1, id=138225235827024)]\n",
       "\n",
       "      |->(<function flow2 at 0x7db871c04360>, id=138231135880032)\n",
       "\n",
       "        |->[ThreadQueue(name=None, runner=1, id=138231418897072)]\n",
       "\n",
       "          |->(<built-in function print>, id=138231466812464)..."
      ]
     },
     "execution_count": 6,
     "metadata": {},
     "output_type": "execute_result"
    },
    {
     "name": "stdout",
     "output_type": "stream",
     "text": [
      "flow 2 input 8\n",
      "flow 1 input 8\n"
     ]
    }
   ],
   "source": [
    "graph.run()"
   ]
  },
  {
   "cell_type": "code",
   "execution_count": 7,
   "id": "868859c6",
   "metadata": {},
   "outputs": [],
   "source": [
    "graph.put(8)"
   ]
  },
  {
   "cell_type": "code",
   "execution_count": null,
   "id": "510f2c1b",
   "metadata": {},
   "outputs": [],
   "source": []
  }
 ],
 "metadata": {
  "kernelspec": {
   "display_name": "Python 3",
   "language": "python",
   "name": "python3"
  },
  "language_info": {
   "codemirror_mode": {
    "name": "ipython",
    "version": 3
   },
   "file_extension": ".py",
   "mimetype": "text/x-python",
   "name": "python",
   "nbconvert_exporter": "python",
   "pygments_lexer": "ipython3",
   "version": "3.13.5"
  }
 },
 "nbformat": 4,
 "nbformat_minor": 5
}
