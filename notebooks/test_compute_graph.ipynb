{
 "cells": [
  {
   "cell_type": "code",
   "execution_count": null,
   "id": "0fb4ebe5",
   "metadata": {},
   "outputs": [],
   "source": [
    "%cd ../"
   ]
  },
  {
   "cell_type": "code",
   "execution_count": null,
   "id": "c93446bf",
   "metadata": {},
   "outputs": [],
   "source": [
    "import plasma.parallel_processing.communicators.compute_graph as cg\n",
    "import plasma.parallel_processing.queues as ppq\n",
    "import plasma.parallel_processing.communicators as ppc"
   ]
  },
  {
   "cell_type": "code",
   "execution_count": null,
   "id": "9d51386a",
   "metadata": {},
   "outputs": [],
   "source": [
    "graph = cg.Graph()"
   ]
  },
  {
   "cell_type": "code",
   "execution_count": null,
   "id": "26e52808",
   "metadata": {},
   "outputs": [],
   "source": [
    "class Robin(ppc.distributors.Distributor):\n",
    "    \n",
    "    def run(self, data, *queues, **named_queues):\n",
    "        queues[data % 2].put(data)"
   ]
  },
  {
   "cell_type": "code",
   "execution_count": null,
   "id": "2023c2c3",
   "metadata": {},
   "outputs": [],
   "source": [
    "def plus(x):\n",
    "    return x + 5\n",
    "\n",
    "def mul(x):\n",
    "    return x * 2"
   ]
  },
  {
   "cell_type": "code",
   "execution_count": null,
   "id": "e01ed783",
   "metadata": {},
   "outputs": [],
   "source": [
    "aggregator = ppc.Aggregator(1)\n",
    "out_queue = ppq.ThreadQueue()\n",
    "distributor = Robin()\n",
    "\n",
    "graph.chain(\n",
    "    (ppq.ThreadQueue(), distributor),\n",
    "        (distributor, mul, ppq.ThreadQueue()),\n",
    "            (mul, print, ppq.ThreadQueue()),\n",
    "        (distributor, plus, ppq.ThreadQueue()),\n",
    "            (plus, print, ppq.ThreadQueue())\n",
    ")"
   ]
  },
  {
   "cell_type": "code",
   "execution_count": null,
   "id": "6cb402bc",
   "metadata": {},
   "outputs": [],
   "source": []
  }
 ],
 "metadata": {
  "kernelspec": {
   "display_name": "Python 3",
   "language": "python",
   "name": "python3"
  },
  "language_info": {
   "codemirror_mode": {
    "name": "ipython",
    "version": 3
   },
   "file_extension": ".py",
   "mimetype": "text/x-python",
   "name": "python",
   "nbconvert_exporter": "python",
   "pygments_lexer": "ipython3",
   "version": "3.13.5"
  }
 },
 "nbformat": 4,
 "nbformat_minor": 5
}
