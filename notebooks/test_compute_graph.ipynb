{
 "cells": [
  {
   "cell_type": "code",
   "execution_count": 1,
   "id": "0fb4ebe5",
   "metadata": {},
   "outputs": [
    {
     "name": "stdout",
     "output_type": "stream",
     "text": [
      "/u02/thanh/workplace/plasma\n"
     ]
    }
   ],
   "source": [
    "%cd ../"
   ]
  },
  {
   "cell_type": "code",
   "execution_count": 2,
   "id": "c93446bf",
   "metadata": {},
   "outputs": [
    {
     "name": "stderr",
     "output_type": "stream",
     "text": [
      "/u02/thanh/workplace/plasma/.env/RnD/lib/python3.13/site-packages/tqdm/auto.py:21: TqdmWarning: IProgress not found. Please update jupyter and ipywidgets. See https://ipywidgets.readthedocs.io/en/stable/user_install.html\n",
      "  from .autonotebook import tqdm as notebook_tqdm\n"
     ]
    }
   ],
   "source": [
    "import plasma.parallel_processing.communicators.compute_graph as cg\n",
    "import plasma.parallel_processing.queues as ppq\n",
    "import plasma.parallel_processing.communicators as ppc"
   ]
  },
  {
   "cell_type": "code",
   "execution_count": 3,
   "id": "9d51386a",
   "metadata": {},
   "outputs": [],
   "source": [
    "graph = cg.Graph()"
   ]
  },
  {
   "cell_type": "code",
   "execution_count": 4,
   "id": "26e52808",
   "metadata": {},
   "outputs": [],
   "source": [
    "class Robin(ppc.distributors.Distributor):\n",
    "    \n",
    "    def run(self, data, *queues, **named_queues):\n",
    "        queues[data % 2].put(data)"
   ]
  },
  {
   "cell_type": "code",
   "execution_count": 5,
   "id": "2023c2c3",
   "metadata": {},
   "outputs": [],
   "source": [
    "def plus(x):\n",
    "    return x + 5\n",
    "\n",
    "def mul(x):\n",
    "    return x * 2"
   ]
  },
  {
   "cell_type": "code",
   "execution_count": 6,
   "id": "e01ed783",
   "metadata": {},
   "outputs": [
    {
     "data": {
      "text/plain": [
       "[ThreadQueue(name=None, runner=1, id=134810938050512)]\n",
       "\n",
       "  |->(Robin, id=134804754933680)\n",
       "\n",
       "    |->[ThreadQueue(name=None, runner=1, id=134804753502352)]\n",
       "\n",
       "      |->(<function mul at 0x7a9c1c390cc0>, id=134810906987712)\n",
       "\n",
       "        |->[ThreadQueue(name=None, runner=1, id=134810301951888)]\n",
       "\n",
       "          |->(<built-in function print>, id=134810988766256)\n",
       "\n",
       "    |->[ThreadQueue(name=None, runner=1, id=134810906506992)]\n",
       "\n",
       "      |->(<function plus at 0x7a9c1c391080>, id=134810906988672)\n",
       "\n",
       "        |->[ThreadQueue(name=None, runner=1, id=134810301951888)]\n",
       "\n",
       "          |->(<built-in function print>, id=134810988766256)..."
      ]
     },
     "execution_count": 6,
     "metadata": {},
     "output_type": "execute_result"
    }
   ],
   "source": [
    "aggregator = ppc.Aggregator(1)\n",
    "out_queue = ppq.ThreadQueue()\n",
    "distributor = Robin()\n",
    "\n",
    "graph.chain(\n",
    "    (ppq.ThreadQueue(), distributor),\n",
    "        (distributor, mul, ppq.ThreadQueue()),\n",
    "            (mul, print, ppq.ThreadQueue()),\n",
    "        (distributor, plus, ppq.ThreadQueue()),\n",
    "            (plus, print, ppq.ThreadQueue())\n",
    ")"
   ]
  },
  {
   "cell_type": "code",
   "execution_count": null,
   "id": "6cb402bc",
   "metadata": {},
   "outputs": [],
   "source": []
  }
 ],
 "metadata": {
  "kernelspec": {
   "display_name": "Python 3",
   "language": "python",
   "name": "python3"
  },
  "language_info": {
   "codemirror_mode": {
    "name": "ipython",
    "version": 3
   },
   "file_extension": ".py",
   "mimetype": "text/x-python",
   "name": "python",
   "nbconvert_exporter": "python",
   "pygments_lexer": "ipython3",
   "version": "3.13.5"
  }
 },
 "nbformat": 4,
 "nbformat_minor": 5
}
