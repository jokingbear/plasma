{
 "cells": [
  {
   "cell_type": "code",
   "execution_count": 1,
   "id": "0fb4ebe5",
   "metadata": {},
   "outputs": [
    {
     "name": "stdout",
     "output_type": "stream",
     "text": [
      "/u02/thanh/workplace/plasma\n"
     ]
    }
   ],
   "source": [
    "%cd ../"
   ]
  },
  {
   "cell_type": "code",
   "execution_count": 2,
   "id": "c93446bf",
   "metadata": {},
   "outputs": [
    {
     "name": "stderr",
     "output_type": "stream",
     "text": [
      "/u02/thanh/workplace/plasma/.env/RnD/lib/python3.13/site-packages/tqdm/auto.py:21: TqdmWarning: IProgress not found. Please update jupyter and ipywidgets. See https://ipywidgets.readthedocs.io/en/stable/user_install.html\n",
      "  from .autonotebook import tqdm as notebook_tqdm\n"
     ]
    }
   ],
   "source": [
    "import plasma.parallel_processing.communicators.compute_graph as cg\n",
    "import plasma.parallel_processing.queues as ppq"
   ]
  },
  {
   "cell_type": "code",
   "execution_count": 3,
   "id": "9d51386a",
   "metadata": {},
   "outputs": [],
   "source": [
    "graph = cg.ComputeGraph()"
   ]
  },
  {
   "cell_type": "code",
   "execution_count": 4,
   "id": "2023c2c3",
   "metadata": {},
   "outputs": [],
   "source": [
    "def plus(x):\n",
    "    return x + 5\n",
    "\n",
    "def mul(x):\n",
    "    return x * 2"
   ]
  },
  {
   "cell_type": "code",
   "execution_count": 5,
   "id": "e01ed783",
   "metadata": {},
   "outputs": [
    {
     "data": {
      "text/plain": [
       "[ThreadQueue(name=None, runner=1)]\n",
       "  |->(<function plus at 0x7409d95a8680>)-UniformDistributor\n",
       "    |->[ThreadQueue(name=None, runner=1)]\n",
       "      |->(<function mul at 0x7409d95a8fe0>)-UniformDistributor\n",
       "        |->[ThreadQueue(name=None, runner=1)]\n",
       "          |->(<built-in function print>)-UniformDistributor"
      ]
     },
     "execution_count": 5,
     "metadata": {},
     "output_type": "execute_result"
    }
   ],
   "source": [
    "graph.chain(\n",
    "    (ppq.ThreadQueue(), plus),\n",
    "    (plus, mul, ppq.ThreadQueue()),\n",
    "    (mul, ppq.ThreadQueue(), print)\n",
    ")"
   ]
  },
  {
   "cell_type": "code",
   "execution_count": null,
   "id": "7f0aa048",
   "metadata": {},
   "outputs": [],
   "source": []
  }
 ],
 "metadata": {
  "kernelspec": {
   "display_name": "Python 3",
   "language": "python",
   "name": "python3"
  },
  "language_info": {
   "codemirror_mode": {
    "name": "ipython",
    "version": 3
   },
   "file_extension": ".py",
   "mimetype": "text/x-python",
   "name": "python",
   "nbconvert_exporter": "python",
   "pygments_lexer": "ipython3",
   "version": "3.13.5"
  }
 },
 "nbformat": 4,
 "nbformat_minor": 5
}
