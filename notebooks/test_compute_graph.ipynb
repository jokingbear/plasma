{
 "cells": [
  {
   "cell_type": "code",
   "execution_count": 1,
   "id": "0fb4ebe5",
   "metadata": {},
   "outputs": [
    {
     "name": "stdout",
     "output_type": "stream",
     "text": [
      "/u02/thanh/workplace/plasma\n"
     ]
    }
   ],
   "source": [
    "%cd ../"
   ]
  },
  {
   "cell_type": "code",
   "execution_count": 2,
   "id": "c93446bf",
   "metadata": {},
   "outputs": [
    {
     "name": "stderr",
     "output_type": "stream",
     "text": [
      "/u02/thanh/workplace/plasma/.env/RnD/lib/python3.13/site-packages/tqdm/auto.py:21: TqdmWarning: IProgress not found. Please update jupyter and ipywidgets. See https://ipywidgets.readthedocs.io/en/stable/user_install.html\n",
      "  from .autonotebook import tqdm as notebook_tqdm\n"
     ]
    }
   ],
   "source": [
    "import plasma.parallel_processing.communicators.compute_graph as cg\n",
    "import plasma.parallel_processing.queues as ppq\n",
    "import plasma.parallel_processing.communicators as ppc"
   ]
  },
  {
   "cell_type": "code",
   "execution_count": 3,
   "id": "9d51386a",
   "metadata": {},
   "outputs": [],
   "source": [
    "graph = cg.Graph()"
   ]
  },
  {
   "cell_type": "code",
   "execution_count": 4,
   "id": "2023c2c3",
   "metadata": {},
   "outputs": [],
   "source": [
    "def plus(x):\n",
    "    return x + 5\n",
    "\n",
    "def mul(x):\n",
    "    return x * 2"
   ]
  },
  {
   "cell_type": "code",
   "execution_count": 5,
   "id": "e01ed783",
   "metadata": {},
   "outputs": [
    {
     "data": {
      "text/plain": [
       "[ThreadQueue(name=None, runner=1)]\n",
       "\n",
       "  |->(<function plus at 0x73b9effa8c20>, id=127242432318496)\n",
       "\n",
       "    |->[ThreadQueue(name=None, runner=1)]\n",
       "\n",
       "      |->(<function mul at 0x73b9effa8fe0>, id=127242432319456)-IteratorDistributor\n",
       "\n",
       "        |->[ThreadQueue(name=None, runner=1)]\n",
       "\n",
       "          |->(Aggregator, id=127236801471424)\n",
       "\n",
       "            |->[ThreadQueue(name=None, runner=1)]\n",
       "\n",
       "    |->[ThreadQueue(name=None, runner=1)]\n",
       "\n",
       "      |->(<built-in function print>, id=127243032060976)\n",
       "\n",
       "        |->[ThreadQueue(name=None, runner=1)]\n",
       "\n",
       "          |->(Aggregator, id=127236801471424)..."
      ]
     },
     "execution_count": 5,
     "metadata": {},
     "output_type": "execute_result"
    }
   ],
   "source": [
    "aggregator = ppc.Aggregator(1)\n",
    "out_queue = ppq.ThreadQueue()\n",
    "\n",
    "graph.chain(\n",
    "    (ppq.ThreadQueue(), plus),\n",
    "    (plus, mul, ppq.ThreadQueue(), ppc.distributors.IteratorDistributor()),\n",
    "        (mul, ppq.ThreadQueue(), aggregator),\n",
    "        (aggregator, out_queue),\n",
    "        \n",
    "    (plus, print, ppq.ThreadQueue()),\n",
    "    (print, aggregator)\n",
    ")"
   ]
  },
  {
   "cell_type": "code",
   "execution_count": null,
   "id": "f2ab1db3",
   "metadata": {},
   "outputs": [],
   "source": []
  }
 ],
 "metadata": {
  "kernelspec": {
   "display_name": "Python 3",
   "language": "python",
   "name": "python3"
  },
  "language_info": {
   "codemirror_mode": {
    "name": "ipython",
    "version": 3
   },
   "file_extension": ".py",
   "mimetype": "text/x-python",
   "name": "python",
   "nbconvert_exporter": "python",
   "pygments_lexer": "ipython3",
   "version": "3.13.5"
  }
 },
 "nbformat": 4,
 "nbformat_minor": 5
}
