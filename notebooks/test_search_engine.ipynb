{
 "cells": [
  {
   "cell_type": "code",
   "execution_count": 1,
   "metadata": {},
   "outputs": [
    {
     "name": "stdout",
     "output_type": "stream",
     "text": [
      "/u02/thanhhm/research-idea\n"
     ]
    }
   ],
   "source": [
    "%cd ../"
   ]
  },
  {
   "cell_type": "code",
   "execution_count": 2,
   "metadata": {},
   "outputs": [
    {
     "name": "stderr",
     "output_type": "stream",
     "text": [
      "/u02/thanhhm/research-idea/.env/lib/python3.13/site-packages/tqdm/auto.py:21: TqdmWarning: IProgress not found. Please update jupyter and ipywidgets. See https://ipywidgets.readthedocs.io/en/stable/user_install.html\n",
      "  from .autonotebook import tqdm as notebook_tqdm\n"
     ]
    }
   ],
   "source": [
    "import plasma.search_engines as ses\n",
    "import pandas as pd\n",
    "import plasma.logging as plogging\n",
    "import numpy as np\n",
    "\n",
    "from plasma.search_engines.graph_indexer import GraphIndexer"
   ]
  },
  {
   "cell_type": "code",
   "execution_count": 3,
   "metadata": {},
   "outputs": [],
   "source": [
    "df = pd.read_pickle('/u02/duy/workspace/xproject_as/databases/dav_supplement_db.pkl')"
   ]
  },
  {
   "cell_type": "code",
   "execution_count": 4,
   "metadata": {},
   "outputs": [],
   "source": [
    "#query = 'hehe'\n",
    "query = 'Calci Nano' + '. Calcium'"
   ]
  },
  {
   "cell_type": "code",
   "execution_count": 5,
   "metadata": {},
   "outputs": [],
   "source": [
    "new_engine = GraphIndexer(df['product_name'])"
   ]
  },
  {
   "cell_type": "code",
   "execution_count": 6,
   "metadata": {},
   "outputs": [
    {
     "name": "stdout",
     "output_type": "stream",
     "text": [
      "0:00:01.461261\n"
     ]
    },
    {
     "data": {
      "text/html": [
       "<div>\n",
       "<style scoped>\n",
       "    .dataframe tbody tr th:only-of-type {\n",
       "        vertical-align: middle;\n",
       "    }\n",
       "\n",
       "    .dataframe tbody tr th {\n",
       "        vertical-align: top;\n",
       "    }\n",
       "\n",
       "    .dataframe thead th {\n",
       "        text-align: right;\n",
       "    }\n",
       "</style>\n",
       "<table border=\"1\" class=\"dataframe\">\n",
       "  <thead>\n",
       "    <tr style=\"text-align: right;\">\n",
       "      <th></th>\n",
       "      <th></th>\n",
       "      <th>data_index</th>\n",
       "      <th>original</th>\n",
       "      <th>substring_matching_score</th>\n",
       "      <th>coverage_score</th>\n",
       "      <th>matched_len</th>\n",
       "    </tr>\n",
       "    <tr>\n",
       "      <th>query_start_idx</th>\n",
       "      <th>query_end_idx</th>\n",
       "      <th></th>\n",
       "      <th></th>\n",
       "      <th></th>\n",
       "      <th></th>\n",
       "      <th></th>\n",
       "    </tr>\n",
       "  </thead>\n",
       "  <tbody>\n",
       "    <tr>\n",
       "      <th rowspan=\"5\" valign=\"top\">0</th>\n",
       "      <th>10</th>\n",
       "      <td>1053</td>\n",
       "      <td>CALCI NANO</td>\n",
       "      <td>1.0</td>\n",
       "      <td>1.000000</td>\n",
       "      <td>2</td>\n",
       "    </tr>\n",
       "    <tr>\n",
       "      <th>10</th>\n",
       "      <td>1441</td>\n",
       "      <td>Calci Nano</td>\n",
       "      <td>1.0</td>\n",
       "      <td>1.000000</td>\n",
       "      <td>2</td>\n",
       "    </tr>\n",
       "    <tr>\n",
       "      <th>10</th>\n",
       "      <td>5582</td>\n",
       "      <td>CALCI NANO+++</td>\n",
       "      <td>1.0</td>\n",
       "      <td>1.000000</td>\n",
       "      <td>2</td>\n",
       "    </tr>\n",
       "    <tr>\n",
       "      <th>10</th>\n",
       "      <td>1870</td>\n",
       "      <td>Calci Nano MK7</td>\n",
       "      <td>1.0</td>\n",
       "      <td>0.666667</td>\n",
       "      <td>2</td>\n",
       "    </tr>\n",
       "    <tr>\n",
       "      <th>10</th>\n",
       "      <td>3658</td>\n",
       "      <td>CALCI NANO MK7</td>\n",
       "      <td>1.0</td>\n",
       "      <td>0.666667</td>\n",
       "      <td>2</td>\n",
       "    </tr>\n",
       "    <tr>\n",
       "      <th rowspan=\"5\" valign=\"top\">12</th>\n",
       "      <th>19</th>\n",
       "      <td>459</td>\n",
       "      <td>OSCAKIDS CALCIUM</td>\n",
       "      <td>1.0</td>\n",
       "      <td>0.500000</td>\n",
       "      <td>1</td>\n",
       "    </tr>\n",
       "    <tr>\n",
       "      <th>19</th>\n",
       "      <td>455</td>\n",
       "      <td>BABYGROW CALCIUM</td>\n",
       "      <td>1.0</td>\n",
       "      <td>0.500000</td>\n",
       "      <td>1</td>\n",
       "    </tr>\n",
       "    <tr>\n",
       "      <th>19</th>\n",
       "      <td>4856</td>\n",
       "      <td>Calcium Forte</td>\n",
       "      <td>1.0</td>\n",
       "      <td>0.500000</td>\n",
       "      <td>1</td>\n",
       "    </tr>\n",
       "    <tr>\n",
       "      <th>19</th>\n",
       "      <td>29746</td>\n",
       "      <td>CALCIUM FORTE</td>\n",
       "      <td>1.0</td>\n",
       "      <td>0.500000</td>\n",
       "      <td>1</td>\n",
       "    </tr>\n",
       "    <tr>\n",
       "      <th>19</th>\n",
       "      <td>5569</td>\n",
       "      <td>Calcium - D</td>\n",
       "      <td>1.0</td>\n",
       "      <td>0.500000</td>\n",
       "      <td>1</td>\n",
       "    </tr>\n",
       "  </tbody>\n",
       "</table>\n",
       "</div>"
      ],
      "text/plain": [
       "                               data_index          original  \\\n",
       "query_start_idx query_end_idx                                 \n",
       "0               10                   1053        CALCI NANO   \n",
       "                10                   1441        Calci Nano   \n",
       "                10                   5582     CALCI NANO+++   \n",
       "                10                   1870    Calci Nano MK7   \n",
       "                10                   3658    CALCI NANO MK7   \n",
       "12              19                    459  OSCAKIDS CALCIUM   \n",
       "                19                    455  BABYGROW CALCIUM   \n",
       "                19                   4856     Calcium Forte   \n",
       "                19                  29746     CALCIUM FORTE   \n",
       "                19                   5569       Calcium - D   \n",
       "\n",
       "                               substring_matching_score  coverage_score  \\\n",
       "query_start_idx query_end_idx                                             \n",
       "0               10                                  1.0        1.000000   \n",
       "                10                                  1.0        1.000000   \n",
       "                10                                  1.0        1.000000   \n",
       "                10                                  1.0        0.666667   \n",
       "                10                                  1.0        0.666667   \n",
       "12              19                                  1.0        0.500000   \n",
       "                19                                  1.0        0.500000   \n",
       "                19                                  1.0        0.500000   \n",
       "                19                                  1.0        0.500000   \n",
       "                19                                  1.0        0.500000   \n",
       "\n",
       "                               matched_len  \n",
       "query_start_idx query_end_idx               \n",
       "0               10                       2  \n",
       "                10                       2  \n",
       "                10                       2  \n",
       "                10                       2  \n",
       "                10                       2  \n",
       "12              19                       1  \n",
       "                19                       1  \n",
       "                19                       1  \n",
       "                19                       1  \n",
       "                19                       1  "
      ]
     },
     "execution_count": 6,
     "metadata": {},
     "output_type": "execute_result"
    }
   ],
   "source": [
    "with plogging.Timer(log_func=None) as timer:\n",
    "    results = new_engine.run(query)\n",
    "results"
   ]
  },
  {
   "cell_type": "code",
   "execution_count": null,
   "metadata": {},
   "outputs": [],
   "source": []
  }
 ],
 "metadata": {
  "kernelspec": {
   "display_name": "Python 3",
   "language": "python",
   "name": "python3"
  },
  "language_info": {
   "codemirror_mode": {
    "name": "ipython",
    "version": 3
   },
   "file_extension": ".py",
   "mimetype": "text/x-python",
   "name": "python",
   "nbconvert_exporter": "python",
   "pygments_lexer": "ipython3",
   "version": "3.13.1"
  }
 },
 "nbformat": 4,
 "nbformat_minor": 2
}
