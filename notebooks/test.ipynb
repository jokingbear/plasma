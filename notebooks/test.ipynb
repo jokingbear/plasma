{
 "cells": [
  {
   "cell_type": "code",
   "execution_count": 1,
   "metadata": {},
   "outputs": [
    {
     "name": "stdout",
     "output_type": "stream",
     "text": [
      "inputs {'args': (5,), 'kwargs': {}}\n",
      "outputs 10\n"
     ]
    },
    {
     "data": {
      "text/plain": [
       "10"
      ]
     },
     "execution_count": 1,
     "metadata": {},
     "output_type": "execute_result"
    }
   ],
   "source": [
    "import plasma.functional as F\n",
    "\n",
    "\n",
    "class A(F.AutoPipe):\n",
    "\n",
    "    def run(self, x):\n",
    "        return x + 5\n",
    "    \n",
    "\n",
    "def logger(inputs, outputs):\n",
    "    print('inputs', inputs)\n",
    "    print('outputs', outputs)\n",
    "\n",
    "a = A()\n",
    "\n",
    "a.add_logger(logger)\n",
    "\n",
    "a.run(5)"
   ]
  },
  {
   "cell_type": "code",
   "execution_count": null,
   "metadata": {},
   "outputs": [],
   "source": []
  }
 ],
 "metadata": {
  "kernelspec": {
   "display_name": "Python 3",
   "language": "python",
   "name": "python3"
  },
  "language_info": {
   "codemirror_mode": {
    "name": "ipython",
    "version": 3
   },
   "file_extension": ".py",
   "mimetype": "text/x-python",
   "name": "python",
   "nbconvert_exporter": "python",
   "pygments_lexer": "ipython3",
   "version": "3.12.2"
  }
 },
 "nbformat": 4,
 "nbformat_minor": 2
}
