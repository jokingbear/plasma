{
 "cells": [
  {
   "cell_type": "code",
   "execution_count": 1,
   "metadata": {},
   "outputs": [
    {
     "name": "stdout",
     "output_type": "stream",
     "text": [
      "/u02/thanhhm/research-idea\n"
     ]
    }
   ],
   "source": [
    "%cd ../"
   ]
  },
  {
   "cell_type": "code",
   "execution_count": 2,
   "metadata": {},
   "outputs": [
    {
     "name": "stderr",
     "output_type": "stream",
     "text": [
      "/u02/thanhhm/research-idea/.env/lib/python3.13/site-packages/tqdm/auto.py:21: TqdmWarning: IProgress not found. Please update jupyter and ipywidgets. See https://ipywidgets.readthedocs.io/en/stable/user_install.html\n",
      "  from .autonotebook import tqdm as notebook_tqdm\n"
     ]
    }
   ],
   "source": [
    "import plasma.parallel_processing as pp\n",
    "import time"
   ]
  },
  {
   "cell_type": "code",
   "execution_count": 3,
   "metadata": {},
   "outputs": [],
   "source": [
    "def compute(data):\n",
    "    time.sleep(1)\n",
    "    return data * 2\n",
    "\n",
    "def print_pass(data):\n",
    "    print(f'{data / 2**5}')\n",
    "    raise Exception('hhehe')\n",
    "    return data\n",
    "\n",
    "def handle_ex(block, data, ex):\n",
    "    print(block, data, ex)"
   ]
  },
  {
   "cell_type": "code",
   "execution_count": 4,
   "metadata": {},
   "outputs": [
    {
     "data": {
      "text/plain": [
       "*-[ProcessQueue(name=None, runner=2)]\n",
       "\n",
       "   |--(compute2:<function compute at 0x7f7ba470c360>)\n",
       "\n",
       "      |--[TransferQueue(name=named, runner=1)]\n",
       "\n",
       "         |--(printer:<function print_pass at 0x7f7ba470c400>)\n",
       "\n",
       "            |--[ThreadQueue((name=None, runner=1)]-*"
      ]
     },
     "execution_count": 4,
     "metadata": {},
     "output_type": "execute_result"
    }
   ],
   "source": [
    "outputs = pp.queues.ThreadQueue()\n",
    "class Outer(pp.communicators.Sequential):\n",
    "\n",
    "    def __init__(self):\n",
    "        super().__init__()\n",
    "\n",
    "        self.compute2 = compute\n",
    "        self.printer = print_pass\n",
    "        #self.aggregator = pp.communicators.Aggregator(20)\n",
    "\n",
    "        self.registerIOs(\n",
    "            compute2=pp.queues.ProcessQueue(2),\n",
    "            printer=pp.queues.TransferQueue('named'),\n",
    "            #aggregator=pp.queues.ThreadQueue(),\n",
    "            outputs=outputs\n",
    "        )\n",
    "        \n",
    "        #self.on_exception(handle_ex)\n",
    "\n",
    "caller = Outer()\n",
    "caller"
   ]
  },
  {
   "cell_type": "code",
   "execution_count": 5,
   "metadata": {},
   "outputs": [
    {
     "name": "stdout",
     "output_type": "stream",
     "text": [
      "is alive True\n",
      "is alive True\n",
      "is alive True\n",
      "is alive True\n",
      "is alive True\n",
      "is alive True\n",
      "is alive True\n",
      "is alive True\n",
      "is alive True\n",
      "is alive True\n",
      "is alive True\n",
      "is alive True\n",
      "is alive True\n",
      "is alive True\n",
      "is alive True\n",
      "is alive True\n",
      "is alive True\n",
      "is alive True\n",
      "is alive True\n",
      "is alive True\n"
     ]
    },
    {
     "name": "stderr",
     "output_type": "stream",
     "text": [
      "Exception in thread Thread-4:\n",
      "Traceback (most recent call last):\n",
      "  File \u001b[35m\"/u02/thanhhm/research-idea/.env/lib/python3.13/threading.py\"\u001b[0m, line \u001b[35m1041\u001b[0m, in \u001b[35m_bootstrap_inner\u001b[0m\n",
      "    \u001b[31mself.run\u001b[0m\u001b[1;31m()\u001b[0m\n",
      "    \u001b[31m~~~~~~~~\u001b[0m\u001b[1;31m^^\u001b[0m\n",
      "  File \u001b[35m\"/u02/thanhhm/research-idea/.env/lib/python3.13/site-packages/ipykernel/ipkernel.py\"\u001b[0m, line \u001b[35m766\u001b[0m, in \u001b[35mrun_closure\u001b[0m\n",
      "    \u001b[31m_threading_Thread_run\u001b[0m\u001b[1;31m(self)\u001b[0m\n",
      "    \u001b[31m~~~~~~~~~~~~~~~~~~~~~\u001b[0m\u001b[1;31m^^^^^^\u001b[0m\n",
      "  File \u001b[35m\"/u02/thanhhm/research-idea/.env/lib/python3.13/threading.py\"\u001b[0m, line \u001b[35m992\u001b[0m, in \u001b[35mrun\u001b[0m\n",
      "    \u001b[31mself._target\u001b[0m\u001b[1;31m(*self._args, **self._kwargs)\u001b[0m\n",
      "    \u001b[31m~~~~~~~~~~~~\u001b[0m\u001b[1;31m^^^^^^^^^^^^^^^^^^^^^^^^^^^^^\u001b[0m\n",
      "  File \u001b[35m\"/u02/thanhhm/research-idea/plasma/functional/utils.py\"\u001b[0m, line \u001b[35m42\u001b[0m, in \u001b[35m__call__\u001b[0m\n",
      "    return \u001b[31mself.func\u001b[0m\u001b[1;31m(*self.args, *new_args, **self.kwargs, **new_kwargs)\u001b[0m\n",
      "           \u001b[31m~~~~~~~~~\u001b[0m\u001b[1;31m^^^^^^^^^^^^^^^^^^^^^^^^^^^^^^^^^^^^^^^^^^^^^^^^^^^^\u001b[0m\n",
      "  File \u001b[35m\"/u02/thanhhm/research-idea/plasma/parallel_processing/queues/utils.py\"\u001b[0m, line \u001b[35m18\u001b[0m, in \u001b[35minternal_run\u001b[0m\n",
      "    \u001b[31mexception_handler\u001b[0m\u001b[1;31m(data, e)\u001b[0m\n",
      "    \u001b[31m~~~~~~~~~~~~~~~~~\u001b[0m\u001b[1;31m^^^^^^^^^\u001b[0m\n",
      "  File \u001b[35m\"/u02/thanhhm/research-idea/plasma/functional/pipes/pipe.py\"\u001b[0m, line \u001b[35m22\u001b[0m, in \u001b[35m__call__\u001b[0m\n",
      "    return \u001b[31mself.run\u001b[0m\u001b[1;31m(*args, **kwargs)\u001b[0m\n",
      "           \u001b[31m~~~~~~~~\u001b[0m\u001b[1;31m^^^^^^^^^^^^^^^^^\u001b[0m\n",
      "  File \u001b[35m\"/u02/thanhhm/research-idea/plasma/parallel_processing/queues/handler.py\"\u001b[0m, line \u001b[35m7\u001b[0m, in \u001b[35mrun\u001b[0m\n",
      "    raise e\n",
      "  File \u001b[35m\"/u02/thanhhm/research-idea/plasma/parallel_processing/queues/utils.py\"\u001b[0m, line \u001b[35m16\u001b[0m, in \u001b[35minternal_run\u001b[0m\n",
      "    \u001b[31mprocessor\u001b[0m\u001b[1;31m(data)\u001b[0m\n",
      "    \u001b[31m~~~~~~~~~\u001b[0m\u001b[1;31m^^^^^^\u001b[0m\n",
      "  File \u001b[35m\"/u02/thanhhm/research-idea/plasma/functional/pipes/pipe.py\"\u001b[0m, line \u001b[35m22\u001b[0m, in \u001b[35m__call__\u001b[0m\n",
      "    return \u001b[31mself.run\u001b[0m\u001b[1;31m(*args, **kwargs)\u001b[0m\n",
      "           \u001b[31m~~~~~~~~\u001b[0m\u001b[1;31m^^^^^^^^^^^^^^^^^\u001b[0m\n",
      "  File \u001b[35m\"/u02/thanhhm/research-idea/plasma/functional/pipes/sequential_pipe.py\"\u001b[0m, line \u001b[35m21\u001b[0m, in \u001b[35mrun\u001b[0m\n",
      "    inputs = p(inputs)\n",
      "  File \u001b[35m\"/tmp/ipykernel_2036670/2923904895.py\"\u001b[0m, line \u001b[35m7\u001b[0m, in \u001b[35mprint_pass\u001b[0m\n",
      "    raise Exception('hhehe')\n",
      "\u001b[1;35mException\u001b[0m: \u001b[35mhhehe\u001b[0m\n"
     ]
    },
    {
     "name": "stdout",
     "output_type": "stream",
     "text": [
      "0.0\n"
     ]
    },
    {
     "name": "stderr",
     "output_type": "stream",
     "text": [
      "Process Process-2:\n",
      "Process Process-1:\n",
      "Traceback (most recent call last):\n",
      "Traceback (most recent call last):\n",
      "  File \"/u02/thanhhm/research-idea/.env/lib/python3.13/multiprocessing/process.py\", line 313, in _bootstrap\n",
      "    self.run()\n",
      "    ~~~~~~~~^^\n",
      "  File \"/u02/thanhhm/research-idea/.env/lib/python3.13/multiprocessing/process.py\", line 313, in _bootstrap\n",
      "    self.run()\n",
      "    ~~~~~~~~^^\n",
      "  File \"/u02/thanhhm/research-idea/.env/lib/python3.13/multiprocessing/process.py\", line 108, in run\n",
      "    self._target(*self._args, **self._kwargs)\n",
      "    ~~~~~~~~~~~~^^^^^^^^^^^^^^^^^^^^^^^^^^^^^\n",
      "  File \"/u02/thanhhm/research-idea/.env/lib/python3.13/multiprocessing/process.py\", line 108, in run\n",
      "    self._target(*self._args, **self._kwargs)\n",
      "    ~~~~~~~~~~~~^^^^^^^^^^^^^^^^^^^^^^^^^^^^^\n",
      "  File \"/u02/thanhhm/research-idea/plasma/parallel_processing/queues/utils.py\", line 16, in internal_run\n",
      "    processor(data)\n",
      "    ~~~~~~~~~^^^^^^\n",
      "  File \"/u02/thanhhm/research-idea/plasma/parallel_processing/queues/utils.py\", line 16, in internal_run\n",
      "    processor(data)\n",
      "    ~~~~~~~~~^^^^^^\n",
      "  File \"/u02/thanhhm/research-idea/plasma/functional/pipes/pipe.py\", line 22, in __call__\n",
      "    return self.run(*args, **kwargs)\n",
      "           ~~~~~~~~^^^^^^^^^^^^^^^^^\n",
      "  File \"/u02/thanhhm/research-idea/plasma/functional/pipes/pipe.py\", line 22, in __call__\n",
      "    return self.run(*args, **kwargs)\n",
      "           ~~~~~~~~^^^^^^^^^^^^^^^^^\n",
      "  File \"/u02/thanhhm/research-idea/plasma/functional/pipes/sequential_pipe.py\", line 21, in run\n",
      "    inputs = p(inputs)\n",
      "  File \"/u02/thanhhm/research-idea/plasma/functional/pipes/sequential_pipe.py\", line 21, in run\n",
      "    inputs = p(inputs)\n",
      "  File \"/tmp/ipykernel_2036670/2923904895.py\", line 2, in compute\n",
      "    time.sleep(1)\n",
      "    ~~~~~~~~~~^^^\n",
      "  File \"/tmp/ipykernel_2036670/2923904895.py\", line 2, in compute\n",
      "    time.sleep(1)\n",
      "    ~~~~~~~~~~^^^\n",
      "KeyboardInterrupt\n",
      "KeyboardInterrupt\n"
     ]
    },
    {
     "ename": "KeyboardInterrupt",
     "evalue": "",
     "output_type": "error",
     "traceback": [
      "\u001b[0;31m---------------------------------------------------------------------------\u001b[0m",
      "\u001b[0;31mKeyboardInterrupt\u001b[0m                         Traceback (most recent call last)",
      "Cell \u001b[0;32mIn[5], line 1\u001b[0m\n\u001b[0;32m----> 1\u001b[0m \u001b[38;5;28;01mwith\u001b[39;00m caller:\n\u001b[1;32m      2\u001b[0m     \u001b[38;5;28;01mfor\u001b[39;00m i \u001b[38;5;129;01min\u001b[39;00m \u001b[38;5;28mrange\u001b[39m(\u001b[38;5;241m20\u001b[39m):\n\u001b[1;32m      3\u001b[0m         caller\u001b[38;5;241m.\u001b[39mput(i)\n",
      "File \u001b[0;32m/u02/thanhhm/research-idea/plasma/parallel_processing/communicators/tree.py:129\u001b[0m, in \u001b[0;36mTreeFlow.__exit__\u001b[0;34m(self, *_)\u001b[0m\n\u001b[1;32m    128\u001b[0m \u001b[38;5;28;01mdef\u001b[39;00m \u001b[38;5;21m__exit__\u001b[39m(\u001b[38;5;28mself\u001b[39m, \u001b[38;5;241m*\u001b[39m_):\n\u001b[0;32m--> 129\u001b[0m     \u001b[38;5;28;43mself\u001b[39;49m\u001b[38;5;241;43m.\u001b[39;49m\u001b[43mrelease\u001b[49m\u001b[43m(\u001b[49m\u001b[43m)\u001b[49m\n",
      "File \u001b[0;32m/u02/thanhhm/research-idea/plasma/parallel_processing/communicators/tree.py:126\u001b[0m, in \u001b[0;36mTreeFlow.release\u001b[0;34m(self)\u001b[0m\n\u001b[1;32m    124\u001b[0m \u001b[38;5;28;01mif\u001b[39;00m b \u001b[38;5;129;01mis\u001b[39;00m \u001b[38;5;129;01mnot\u001b[39;00m ProxyIO:\n\u001b[1;32m    125\u001b[0m     queue:Queue \u001b[38;5;241m=\u001b[39m attrs[\u001b[38;5;124m'\u001b[39m\u001b[38;5;124mqueue\u001b[39m\u001b[38;5;124m'\u001b[39m]\n\u001b[0;32m--> 126\u001b[0m     \u001b[43mqueue\u001b[49m\u001b[38;5;241;43m.\u001b[39;49m\u001b[43mrelease\u001b[49m\u001b[43m(\u001b[49m\u001b[43m)\u001b[49m\n",
      "File \u001b[0;32m/u02/thanhhm/research-idea/plasma/parallel_processing/queues/process.py:28\u001b[0m, in \u001b[0;36mProcessQueue.release\u001b[0;34m(self)\u001b[0m\n\u001b[1;32m     27\u001b[0m \u001b[38;5;28;01mdef\u001b[39;00m \u001b[38;5;21mrelease\u001b[39m(\u001b[38;5;28mself\u001b[39m):\n\u001b[0;32m---> 28\u001b[0m     \u001b[38;5;28;43mself\u001b[39;49m\u001b[38;5;241;43m.\u001b[39;49m\u001b[43m_queue\u001b[49m\u001b[38;5;241;43m.\u001b[39;49m\u001b[43mjoin\u001b[49m\u001b[43m(\u001b[49m\u001b[43m)\u001b[49m\n\u001b[1;32m     29\u001b[0m     \u001b[38;5;28;01mif\u001b[39;00m \u001b[38;5;28mself\u001b[39m\u001b[38;5;241m.\u001b[39m_state \u001b[38;5;129;01mis\u001b[39;00m \u001b[38;5;129;01mnot\u001b[39;00m \u001b[38;5;28;01mNone\u001b[39;00m:\n\u001b[1;32m     30\u001b[0m         \u001b[38;5;28;01mfor\u001b[39;00m _ \u001b[38;5;129;01min\u001b[39;00m \u001b[38;5;28mself\u001b[39m\u001b[38;5;241m.\u001b[39m_state:\n",
      "File \u001b[0;32m/u02/thanhhm/research-idea/.env/lib/python3.13/multiprocessing/queues.py:351\u001b[0m, in \u001b[0;36mJoinableQueue.join\u001b[0;34m(self)\u001b[0m\n\u001b[1;32m    349\u001b[0m \u001b[38;5;28;01mwith\u001b[39;00m \u001b[38;5;28mself\u001b[39m\u001b[38;5;241m.\u001b[39m_cond:\n\u001b[1;32m    350\u001b[0m     \u001b[38;5;28;01mif\u001b[39;00m \u001b[38;5;129;01mnot\u001b[39;00m \u001b[38;5;28mself\u001b[39m\u001b[38;5;241m.\u001b[39m_unfinished_tasks\u001b[38;5;241m.\u001b[39m_semlock\u001b[38;5;241m.\u001b[39m_is_zero():\n\u001b[0;32m--> 351\u001b[0m         \u001b[38;5;28;43mself\u001b[39;49m\u001b[38;5;241;43m.\u001b[39;49m\u001b[43m_cond\u001b[49m\u001b[38;5;241;43m.\u001b[39;49m\u001b[43mwait\u001b[49m\u001b[43m(\u001b[49m\u001b[43m)\u001b[49m\n",
      "File \u001b[0;32m/u02/thanhhm/research-idea/.env/lib/python3.13/multiprocessing/synchronize.py:268\u001b[0m, in \u001b[0;36mCondition.wait\u001b[0;34m(self, timeout)\u001b[0m\n\u001b[1;32m    264\u001b[0m     \u001b[38;5;28mself\u001b[39m\u001b[38;5;241m.\u001b[39m_lock\u001b[38;5;241m.\u001b[39mrelease()\n\u001b[1;32m    266\u001b[0m \u001b[38;5;28;01mtry\u001b[39;00m:\n\u001b[1;32m    267\u001b[0m     \u001b[38;5;66;03m# wait for notification or timeout\u001b[39;00m\n\u001b[0;32m--> 268\u001b[0m     \u001b[38;5;28;01mreturn\u001b[39;00m \u001b[38;5;28;43mself\u001b[39;49m\u001b[38;5;241;43m.\u001b[39;49m\u001b[43m_wait_semaphore\u001b[49m\u001b[38;5;241;43m.\u001b[39;49m\u001b[43macquire\u001b[49m\u001b[43m(\u001b[49m\u001b[38;5;28;43;01mTrue\u001b[39;49;00m\u001b[43m,\u001b[49m\u001b[43m \u001b[49m\u001b[43mtimeout\u001b[49m\u001b[43m)\u001b[49m\n\u001b[1;32m    269\u001b[0m \u001b[38;5;28;01mfinally\u001b[39;00m:\n\u001b[1;32m    270\u001b[0m     \u001b[38;5;66;03m# indicate that this thread has woken\u001b[39;00m\n\u001b[1;32m    271\u001b[0m     \u001b[38;5;28mself\u001b[39m\u001b[38;5;241m.\u001b[39m_woken_count\u001b[38;5;241m.\u001b[39mrelease()\n",
      "\u001b[0;31mKeyboardInterrupt\u001b[0m: "
     ]
    }
   ],
   "source": [
    "with caller:\n",
    "    for i in range(20):\n",
    "        caller.put(i)\n",
    "        print('is alive', caller.is_alive())\n",
    "    \n",
    "    #print(caller.aggregator.wait())"
   ]
  },
  {
   "cell_type": "code",
   "execution_count": null,
   "metadata": {},
   "outputs": [],
   "source": []
  }
 ],
 "metadata": {
  "kernelspec": {
   "display_name": "Python 3",
   "language": "python",
   "name": "python3"
  },
  "language_info": {
   "codemirror_mode": {
    "name": "ipython",
    "version": 3
   },
   "file_extension": ".py",
   "mimetype": "text/x-python",
   "name": "python",
   "nbconvert_exporter": "python",
   "pygments_lexer": "ipython3",
   "version": "3.13.1"
  }
 },
 "nbformat": 4,
 "nbformat_minor": 2
}
