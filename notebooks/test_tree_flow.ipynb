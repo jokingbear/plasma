{
 "cells": [
  {
   "cell_type": "code",
   "execution_count": null,
   "metadata": {},
   "outputs": [],
   "source": [
    "%cd ../"
   ]
  },
  {
   "cell_type": "code",
   "execution_count": null,
   "metadata": {},
   "outputs": [],
   "source": [
    "import time\n",
    "\n",
    "from plasma.parallel_processing import communicators, queues\n",
    "from plasma.parallel_processing.communicators import TreeFlow\n",
    "from plasma.functional import partials, AutoPipe"
   ]
  },
  {
   "cell_type": "code",
   "execution_count": null,
   "metadata": {},
   "outputs": [],
   "source": [
    "def compute(x):\n",
    "    time.sleep(2)\n",
    "    return str(x)\n",
    "\n",
    "def compute2(x):\n",
    "    time.sleep(2)\n",
    "    return x + 'c'\n",
    "\n",
    "class ComputeClass(AutoPipe):\n",
    "\n",
    "    def __init__(self, hihi, haha):\n",
    "        super().__init__()\n",
    "    \n",
    "    def run(self, tmp):\n",
    "        return tmp + 'd'"
   ]
  },
  {
   "cell_type": "code",
   "execution_count": null,
   "metadata": {},
   "outputs": [],
   "source": [
    "out_queue= queues.TransferQueue()\n",
    "\n",
    "class Flow(TreeFlow):\n",
    "\n",
    "    def __init__(self):\n",
    "        super().__init__()\n",
    "\n",
    "        self.distributor = communicators.distributors.IteratorDistributor()\n",
    "        self.compute = compute\n",
    "        self.compute2 = compute2\n",
    "        self.compute3 = ComputeClass(1, 2)\n",
    "        self.printer1 = partials(print, 'step 1')\n",
    "        self.printer2 = partials(print, 'step 2')\n",
    "\n",
    "        self.chain(\n",
    "            (None, 'distributor', queues.ThreadQueue()),\n",
    "            ('distributor', 'compute', queues.ProcessQueue(5)),\n",
    "            ('compute', 'compute2', queues.ProcessQueue(5)),\n",
    "            ('compute', 'printer1', queues.TransferQueue()),\n",
    "            ('compute2', 'printer2', queues.TransferQueue()),\n",
    "            ('compute', 'compute3', queues.ProcessQueue()),\n",
    "            ('compute3', None, out_queue),\n",
    "            ('compute3', 'compute2'),\n",
    "        )\n",
    "\n",
    "flow = Flow()\n",
    "flow"
   ]
  },
  {
   "cell_type": "code",
   "execution_count": null,
   "metadata": {},
   "outputs": [],
   "source": [
    "with flow:\n",
    "   for i in range(10):\n",
    "      flow.put([i] * 2)"
   ]
  },
  {
   "cell_type": "code",
   "execution_count": 1,
   "metadata": {},
   "outputs": [
    {
     "name": "stdout",
     "output_type": "stream",
     "text": [
      "here\n"
     ]
    },
    {
     "ename": "Exception",
     "evalue": "test",
     "output_type": "error",
     "traceback": [
      "\u001b[0;31m---------------------------------------------------------------------------\u001b[0m",
      "\u001b[0;31mException\u001b[0m                                 Traceback (most recent call last)",
      "Cell \u001b[0;32mIn[1], line 4\u001b[0m\n\u001b[1;32m      2\u001b[0m     \u001b[38;5;28;01mraise\u001b[39;00m \u001b[38;5;167;01mException\u001b[39;00m(\u001b[38;5;124m'\u001b[39m\u001b[38;5;124mtest\u001b[39m\u001b[38;5;124m'\u001b[39m)\n\u001b[1;32m      3\u001b[0m \u001b[38;5;28;01mexcept\u001b[39;00m \u001b[38;5;167;01mException\u001b[39;00m \u001b[38;5;28;01mas\u001b[39;00m e:\n\u001b[0;32m----> 4\u001b[0m     \u001b[38;5;28;01mraise\u001b[39;00m e\n\u001b[1;32m      5\u001b[0m \u001b[38;5;28;01mfinally\u001b[39;00m:\n\u001b[1;32m      6\u001b[0m     \u001b[38;5;28mprint\u001b[39m(\u001b[38;5;124m'\u001b[39m\u001b[38;5;124mhere\u001b[39m\u001b[38;5;124m'\u001b[39m)\n",
      "Cell \u001b[0;32mIn[1], line 2\u001b[0m\n\u001b[1;32m      1\u001b[0m \u001b[38;5;28;01mtry\u001b[39;00m:\n\u001b[0;32m----> 2\u001b[0m     \u001b[38;5;28;01mraise\u001b[39;00m \u001b[38;5;167;01mException\u001b[39;00m(\u001b[38;5;124m'\u001b[39m\u001b[38;5;124mtest\u001b[39m\u001b[38;5;124m'\u001b[39m)\n\u001b[1;32m      3\u001b[0m \u001b[38;5;28;01mexcept\u001b[39;00m \u001b[38;5;167;01mException\u001b[39;00m \u001b[38;5;28;01mas\u001b[39;00m e:\n\u001b[1;32m      4\u001b[0m     \u001b[38;5;28;01mraise\u001b[39;00m e\n",
      "\u001b[0;31mException\u001b[0m: test"
     ]
    }
   ],
   "source": [
    "try:\n",
    "    raise Exception('test')\n",
    "except Exception as e:\n",
    "    raise e\n",
    "finally:\n",
    "    print('here')"
   ]
  },
  {
   "cell_type": "code",
   "execution_count": null,
   "metadata": {},
   "outputs": [],
   "source": []
  }
 ],
 "metadata": {
  "kernelspec": {
   "display_name": "Python 3",
   "language": "python",
   "name": "python3"
  },
  "language_info": {
   "codemirror_mode": {
    "name": "ipython",
    "version": 3
   },
   "file_extension": ".py",
   "mimetype": "text/x-python",
   "name": "python",
   "nbconvert_exporter": "python",
   "pygments_lexer": "ipython3",
   "version": "3.13.1"
  }
 },
 "nbformat": 4,
 "nbformat_minor": 2
}
