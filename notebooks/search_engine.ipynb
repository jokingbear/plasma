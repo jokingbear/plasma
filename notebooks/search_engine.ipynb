{
 "cells": [
  {
   "cell_type": "code",
   "execution_count": 1,
   "metadata": {},
   "outputs": [
    {
     "name": "stdout",
     "output_type": "stream",
     "text": [
      "/u02/thanh/workplace/plasma\n"
     ]
    }
   ],
   "source": [
    "%cd ../"
   ]
  },
  {
   "cell_type": "code",
   "execution_count": 2,
   "metadata": {},
   "outputs": [
    {
     "name": "stderr",
     "output_type": "stream",
     "text": [
      "/u02/thanh/workplace/plasma/.env/plasma/lib/python3.13/site-packages/tqdm/auto.py:21: TqdmWarning: IProgress not found. Please update jupyter and ipywidgets. See https://ipywidgets.readthedocs.io/en/stable/user_install.html\n",
      "  from .autonotebook import tqdm as notebook_tqdm\n"
     ]
    }
   ],
   "source": [
    "import plasma.search_engines as ses\n",
    "import pandas as pd\n",
    "import plasma.logging as plogging\n",
    "import numpy as np\n",
    "import plasma.functional as F\n",
    "\n",
    "from plasma.search_engines import GraphIndexer\n",
    "from tqdm.auto import tqdm\n",
    "from plasma.search_engines.indexer.column_standardizer import ColumnStandardizer"
   ]
  },
  {
   "cell_type": "code",
   "execution_count": 3,
   "metadata": {},
   "outputs": [],
   "source": [
    "#db = pd.read_feather('/u02/thanh/workplace/as.tpa/databases/medical_device_db_v1.feather')['device_name']\n",
    "db = ['CHỦ ĐẦU TƯ PHẢI THỰC HIỆN CÁC NỘI DUNG SAU ĐÂY:',\n",
    " '1. Phải hoàn toàn chịu trách nhiệm trước pháp luật nếu xâm phạm các quyền',\n",
    " 'hợp pháp của các chủ sở hữu liền kề.',\n",
    " '2. Phải thực hiện đúng các quy định của pháp luật về đất đai, về đầu tư xây',\n",
    " 'dựng và Giấy phép xây dựng này.',\n",
    " '3. Thực hiện thông báo khởi công xây dựng cho công trình theo quy định.',\n",
    " '4. Xuất trình Giấy phép xây dựng cho cơ quan có thẩm quyền khi được yêu',\n",
    " 'cầu theo quy định của pháp luật và treo biển báo tại địa điểm xây dựng theo quy',\n",
    " 'định.',\n",
    " '5. Khi điều chỉnh thiết kế làm thay đổi một trong các nội dung quy định tại',\n",
    " 'Khoản 1 Điều 98 Luật Xây dựng năm 2014 thì phải đề ng, hị điều chỉnh giấy phép',\n",
    " 'xây dựng và chờ quyết định của cơ quan cấp giấy phép.',\n",
    " '6. Phải có trách nhiệm thu gom, đổ rác thải xây dựng đúng với quy định',\n",
    " 'hoặc hợp đồng với Công ty Cổ phần Môi trường và Công trình đô thị Hiế để thực',\n",
    " 'hiện nhẳm đảm bảo vệ sinh môi trường cảnh quan đô thị.',\n",
    " 'ĐIỀU CHỈNH/GIA HẠN GIẤY PHÉP',\n",
    " '1. Nội dung điều chỉnh/gia hạn:',\n",
    " '2. Thời gian có hiệu lực của giấy phép:',\n",
    " 'Huế, ngày.',\n",
    " 'tháng',\n",
    " 'năm',\n",
    " 'TM. UỶ BAN NHÂN DÂN',\n",
    " 'CHỦ TỊCH',\n",
    " 'ỦY BAN NHÂN DÂN',\n",
    " 'CỘNG HOÀ XÃ HỘI CHỦ NGHĨA VIỆT NAM',\n",
    " 'THÀNH PHỐ HUẾ',\n",
    " 'Độc lập - Tự do - Hạnh phúc',\n",
    " 'Huế, ngày 23 tháng >năm 2024',\n",
    " 'GIẤY PHÉP XÂY DỰNG CÓ THỜI HẠN',\n",
    " 'Số 1460/GPXD',\n",
    " '(Sử dụng cho nhà ở riêng lẻ đô thị)',\n",
    " '1. Cấp cho: Ông Bà: NGUYỄN THÀNH LỄ, DANH THỊ SƠN',\n",
    " 'Địa chỉ: 12/40',\n",
    " 'Đường: Lịch Đợi',\n",
    " 'Phường: Xuân Phú',\n",
    " 'Thành phố: Huế',\n",
    " 'Tỉnh: Thừa Thiên Huế.',\n",
    " '2. Được phép xây dựng công trình: Nhà ở',\n",
    " 'Theo Hồ sơ thiết kế có ký hiệu: KT-01 đến KT-09.',\n",
    " 'Dọ: Ông Nguyễn Thành Lễ lập.',\n",
    " 'Gồm các nội dung sau:',\n",
    " 'Vị trí xây dựng: Thửa đất số: 168; Tờ bản đồ số: 33; Tại (số nhà): 12/40 ;',\n",
    " 'đường: Lịch Đợi, phường: Phường Đúc, thành phố Huế, tỉnh Thừa Thiên Huế.',\n",
    " 'Cốt nền xây dựng công trình: 0,45 m (so với cao độ mặt đường kiệt).',\n",
    " 'Mật độ xây dựng: 70,6 %, hệ số sử dụng đất: 1,.5.',\n",
    " 'Chỉ giới đường đỏ: Đường kiệt hựớng Đông Bắc rộng 4,39m ; Đường',\n",
    " 'kiệt hướng Đông Nam rộng 3,4m (dự kiến mở rộng 3, 5m).',\n",
    " 'Chỉ giới xây dựng: Công trình xây dựng lùi vào so với với ranh giới giữa',\n",
    " 'thửa đất và đường kiệt hướng Đông Bắc là 4, Ôm; trùng với chỉ giới đường kiệt',\n",
    " 'hướng Đông Nam- Theo Bản vẽ họa đồ vị trí: KT-01.',\n",
    " 'Diện tích xây dựng tầng một: 70,3 m2.',\n",
    " 'Tổng diện tích sàn: 149,4 m2.',\n",
    " 'Chiều cao công trình: 10 m; số tầng: 02 tầng.',\n",
    " '3. Giấy tờ về quyền sử dụng đất: Giấy chứng nhận quyền sử dụng đất',\n",
    " 'quyền sở hữu nhà ở và tài sản khác gắn liền với đất (Số DG 925876, cấp',\n",
    " 'ngày 13/11/2023).',\n",
    " '4. Công trình được tồn tại đến khi có quyết định thu hồi đất của cơ quan Nhà',\n",
    " 'nước có thẩm quyển. Hết thời hạn tồn tại của công trình hoặc Nhà nước giải phóng',\n",
    " 'mặt bằng để thực hiện quy hoạch thì Chủ đầu tư phải tự phá dỡ toàn bộ công trình',\n",
    " 'được cấp giấy phép xây dựng có thời hạn, nếu không tự phá dỡ thì bị cưỡng chế và',\n",
    " 'Chủ đầu tư phải tự chịu mọi chi phí cho việc thực hiện cưỡng chế.',\n",
    " '5. Chủ đầu tư phải tự dỡ bỏ công trình, không được đồi hỏi bồi thường phần',\n",
    " 'công trình xây dựng theo giấy phép xây dựng có thời hạn khi Nhà nước thực hiện',\n",
    " 'quy hoạch thẻo theo thời hạn ghi trong giấy phép được cấp.',\n",
    " '6. Giấy phép này có hiệu lực khởi công xây dựng trong thời hạn 12 tháng kể',\n",
    " 'từ ngày cấp; quá thời hạn trên thì phải đề nghị gia hạn giấy phép xây dựng./.4',\n",
    " 'Nơi nhận:',\n",
    " 'Như trên;. p',\n",
    " 'KT. CHỦ TỊCH',\n",
    " 'Phòng QLĐT;',\n",
    " 'Đội QLĐT;',\n",
    " 'PHÓ CHỦ TỊCH',\n",
    " 'Chi cục thuế Thành phố;',\n",
    " 'Cáo nan',\n",
    " 'CÔN',\n",
    " 'TÔ',\n",
    " '-UBND phường Phường Đúc;',\n",
    " 'Lưu VT.',\n",
    " '',\n",
    " 'TÔN',\n",
    " '02)',\n",
    " 'tườc%',\n",
    " 'Trương Đình Hạnh']\n",
    "#db"
   ]
  },
  {
   "cell_type": "code",
   "execution_count": 4,
   "metadata": {},
   "outputs": [],
   "source": [
    "new_engine = GraphIndexer(db, token_threshold=1)"
   ]
  },
  {
   "cell_type": "code",
   "execution_count": 5,
   "metadata": {},
   "outputs": [],
   "source": [
    "#query = 'hehe'\n",
    "query = 'Công trình xây dựng lùi vào so với với ranh giới giữa thửa đất và đường kiệt hướng Đông Bắc là 4, Ôm, trùng với chỉ giới đường kiệt hướng Đông Nam- Theo Bản vẽ họa đồ vị trí: KT-01'"
   ]
  },
  {
   "cell_type": "code",
   "execution_count": 6,
   "metadata": {},
   "outputs": [
    {
     "name": "stdout",
     "output_type": "stream",
     "text": [
      "TimeIO(name='', timer=Counter(start=datetime.datetime(2025, 10, 21, 12, 49, 8, 334016), end=datetime.datetime(2025, 10, 21, 12, 49, 8, 396709), duration=datetime.timedelta(microseconds=62693)))\n"
     ]
    },
    {
     "data": {
      "text/html": [
       "<div>\n",
       "<style scoped>\n",
       "    .dataframe tbody tr th:only-of-type {\n",
       "        vertical-align: middle;\n",
       "    }\n",
       "\n",
       "    .dataframe tbody tr th {\n",
       "        vertical-align: top;\n",
       "    }\n",
       "\n",
       "    .dataframe thead th {\n",
       "        text-align: right;\n",
       "    }\n",
       "</style>\n",
       "<table border=\"1\" class=\"dataframe\">\n",
       "  <thead>\n",
       "    <tr style=\"text-align: right;\">\n",
       "      <th></th>\n",
       "      <th></th>\n",
       "      <th>data_index</th>\n",
       "      <th>original</th>\n",
       "      <th>original_start</th>\n",
       "      <th>original_end</th>\n",
       "      <th>substring_matching_score</th>\n",
       "      <th>matched_len</th>\n",
       "      <th>coverage_score</th>\n",
       "      <th>harmonic_score</th>\n",
       "    </tr>\n",
       "    <tr>\n",
       "      <th>query_start_idx</th>\n",
       "      <th>query_end_idx</th>\n",
       "      <th></th>\n",
       "      <th></th>\n",
       "      <th></th>\n",
       "      <th></th>\n",
       "      <th></th>\n",
       "      <th></th>\n",
       "      <th></th>\n",
       "      <th></th>\n",
       "    </tr>\n",
       "  </thead>\n",
       "  <tbody>\n",
       "    <tr>\n",
       "      <th>0</th>\n",
       "      <th>53</th>\n",
       "      <td>47</td>\n",
       "      <td>Chỉ giới xây dựng: Công trình xây dựng lùi vào...</td>\n",
       "      <td>19</td>\n",
       "      <td>72</td>\n",
       "      <td>1.0</td>\n",
       "      <td>12</td>\n",
       "      <td>0.750000</td>\n",
       "      <td>0.857143</td>\n",
       "    </tr>\n",
       "    <tr>\n",
       "      <th>54</th>\n",
       "      <th>131</th>\n",
       "      <td>48</td>\n",
       "      <td>thửa đất và đường kiệt hướng Đông Bắc là 4, Ôm...</td>\n",
       "      <td>0</td>\n",
       "      <td>77</td>\n",
       "      <td>1.0</td>\n",
       "      <td>17</td>\n",
       "      <td>1.000000</td>\n",
       "      <td>1.000000</td>\n",
       "    </tr>\n",
       "    <tr>\n",
       "      <th>138</th>\n",
       "      <th>180</th>\n",
       "      <td>49</td>\n",
       "      <td>hướng Đông Nam- Theo Bản vẽ họa đồ vị trí: KT-01.</td>\n",
       "      <td>6</td>\n",
       "      <td>48</td>\n",
       "      <td>1.0</td>\n",
       "      <td>11</td>\n",
       "      <td>0.916667</td>\n",
       "      <td>0.956522</td>\n",
       "    </tr>\n",
       "  </tbody>\n",
       "</table>\n",
       "</div>"
      ],
      "text/plain": [
       "                               data_index  \\\n",
       "query_start_idx query_end_idx               \n",
       "0               53                     47   \n",
       "54              131                    48   \n",
       "138             180                    49   \n",
       "\n",
       "                                                                        original  \\\n",
       "query_start_idx query_end_idx                                                      \n",
       "0               53             Chỉ giới xây dựng: Công trình xây dựng lùi vào...   \n",
       "54              131            thửa đất và đường kiệt hướng Đông Bắc là 4, Ôm...   \n",
       "138             180            hướng Đông Nam- Theo Bản vẽ họa đồ vị trí: KT-01.   \n",
       "\n",
       "                               original_start  original_end  \\\n",
       "query_start_idx query_end_idx                                 \n",
       "0               53                         19            72   \n",
       "54              131                         0            77   \n",
       "138             180                         6            48   \n",
       "\n",
       "                               substring_matching_score  matched_len  \\\n",
       "query_start_idx query_end_idx                                          \n",
       "0               53                                  1.0           12   \n",
       "54              131                                 1.0           17   \n",
       "138             180                                 1.0           11   \n",
       "\n",
       "                               coverage_score  harmonic_score  \n",
       "query_start_idx query_end_idx                                  \n",
       "0               53                   0.750000        0.857143  \n",
       "54              131                  1.000000        1.000000  \n",
       "138             180                  0.916667        0.956522  "
      ]
     },
     "execution_count": 6,
     "metadata": {},
     "output_type": "execute_result"
    }
   ],
   "source": [
    "with plogging.Timer() as timer:\n",
    "    results = new_engine.run(query)\n",
    "results"
   ]
  },
  {
   "cell_type": "code",
   "execution_count": null,
   "metadata": {},
   "outputs": [],
   "source": []
  }
 ],
 "metadata": {
  "kernelspec": {
   "display_name": "Python 3",
   "language": "python",
   "name": "python3"
  },
  "language_info": {
   "codemirror_mode": {
    "name": "ipython",
    "version": 3
   },
   "file_extension": ".py",
   "mimetype": "text/x-python",
   "name": "python",
   "nbconvert_exporter": "python",
   "pygments_lexer": "ipython3",
   "version": "3.13.5"
  }
 },
 "nbformat": 4,
 "nbformat_minor": 2
}
