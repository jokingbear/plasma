{
 "cells": [
  {
   "cell_type": "code",
   "execution_count": 1,
   "metadata": {},
   "outputs": [
    {
     "name": "stdout",
     "output_type": "stream",
     "text": [
      "/u02/thanh/workplace/plasma\n"
     ]
    }
   ],
   "source": [
    "%cd ../"
   ]
  },
  {
   "cell_type": "code",
   "execution_count": 2,
   "metadata": {},
   "outputs": [
    {
     "name": "stderr",
     "output_type": "stream",
     "text": [
      "/u02/thanh/workplace/plasma/.env/plasma/lib/python3.13/site-packages/tqdm/auto.py:21: TqdmWarning: IProgress not found. Please update jupyter and ipywidgets. See https://ipywidgets.readthedocs.io/en/stable/user_install.html\n",
      "  from .autonotebook import tqdm as notebook_tqdm\n"
     ]
    }
   ],
   "source": [
    "import plasma.search_engines as ses\n",
    "import pandas as pd\n",
    "import plasma.logging as plogging\n",
    "import numpy as np\n",
    "\n",
    "from plasma.search_engines import GraphIndexer\n",
    "from tqdm.auto import tqdm"
   ]
  },
  {
   "cell_type": "code",
   "execution_count": 3,
   "metadata": {},
   "outputs": [
    {
     "data": {
      "text/plain": [
       "0                           ( họ) dụng cụ banh vén tổ chức\n",
       "1           ( họ) dụng cụ nạo xương, cắt xương, đựng xương\n",
       "2                        ( họ) hộp đựng dụng cụ phẫu thuật\n",
       "3        ( họ) thăm khám nha khoa (bao gồm: thám châm, ...\n",
       "4                       (bộ) catheter dẫn lưu đa chức năng\n",
       "                               ...                        \n",
       "67836              ứng dụng tính năng lịch sử rung tâm nhĩ\n",
       "67837                ứng dụng tính năng thiết bị trợ thính\n",
       "67838       ứng dụng tính năng thông báo ngừng thở khi ngủ\n",
       "67839                                 ứng dụng điện tâm đồ\n",
       "67840                                           “biomdcare\n",
       "Name: device_name, Length: 67841, dtype: object"
      ]
     },
     "execution_count": 3,
     "metadata": {},
     "output_type": "execute_result"
    }
   ],
   "source": [
    "db = pd.read_feather('/u02/thanh/workplace/as.tpa/databases/medical_device_db_v1.feather')['device_name']\n",
    "db"
   ]
  },
  {
   "cell_type": "code",
   "execution_count": 4,
   "metadata": {},
   "outputs": [],
   "source": [
    "new_engine = GraphIndexer(db)"
   ]
  },
  {
   "cell_type": "code",
   "execution_count": 5,
   "metadata": {},
   "outputs": [],
   "source": [
    "#query = 'hehe'\n",
    "query = 'Kìm luồn tĩnh mạch'"
   ]
  },
  {
   "cell_type": "code",
   "execution_count": 6,
   "metadata": {},
   "outputs": [
    {
     "name": "stdout",
     "output_type": "stream",
     "text": [
      "0:00:00.119675\n",
      "0:00:00.353115\n"
     ]
    },
    {
     "data": {
      "text/html": [
       "<div>\n",
       "<style scoped>\n",
       "    .dataframe tbody tr th:only-of-type {\n",
       "        vertical-align: middle;\n",
       "    }\n",
       "\n",
       "    .dataframe tbody tr th {\n",
       "        vertical-align: top;\n",
       "    }\n",
       "\n",
       "    .dataframe thead th {\n",
       "        text-align: right;\n",
       "    }\n",
       "</style>\n",
       "<table border=\"1\" class=\"dataframe\">\n",
       "  <thead>\n",
       "    <tr style=\"text-align: right;\">\n",
       "      <th></th>\n",
       "      <th></th>\n",
       "      <th>data_index</th>\n",
       "      <th>original</th>\n",
       "      <th>original_start</th>\n",
       "      <th>original_end</th>\n",
       "      <th>substring_matching_score</th>\n",
       "      <th>matched_len</th>\n",
       "      <th>coverage_score</th>\n",
       "      <th>harmonic_score</th>\n",
       "    </tr>\n",
       "    <tr>\n",
       "      <th>query_start_idx</th>\n",
       "      <th>query_end_idx</th>\n",
       "      <th></th>\n",
       "      <th></th>\n",
       "      <th></th>\n",
       "      <th></th>\n",
       "      <th></th>\n",
       "      <th></th>\n",
       "      <th></th>\n",
       "      <th></th>\n",
       "    </tr>\n",
       "  </thead>\n",
       "  <tbody>\n",
       "    <tr>\n",
       "      <th rowspan=\"5\" valign=\"top\">0</th>\n",
       "      <th>3</th>\n",
       "      <td>37893</td>\n",
       "      <td>kìm gắp</td>\n",
       "      <td>0</td>\n",
       "      <td>3</td>\n",
       "      <td>1.0</td>\n",
       "      <td>1</td>\n",
       "      <td>0.50</td>\n",
       "      <td>0.666667</td>\n",
       "    </tr>\n",
       "    <tr>\n",
       "      <th>3</th>\n",
       "      <td>37917</td>\n",
       "      <td>kìm kẹp</td>\n",
       "      <td>0</td>\n",
       "      <td>3</td>\n",
       "      <td>1.0</td>\n",
       "      <td>1</td>\n",
       "      <td>0.50</td>\n",
       "      <td>0.666667</td>\n",
       "    </tr>\n",
       "    <tr>\n",
       "      <th>3</th>\n",
       "      <td>38047</td>\n",
       "      <td>kìm uốn</td>\n",
       "      <td>0</td>\n",
       "      <td>3</td>\n",
       "      <td>1.0</td>\n",
       "      <td>1</td>\n",
       "      <td>0.50</td>\n",
       "      <td>0.666667</td>\n",
       "    </tr>\n",
       "    <tr>\n",
       "      <th>3</th>\n",
       "      <td>37868</td>\n",
       "      <td>kìm cắt</td>\n",
       "      <td>0</td>\n",
       "      <td>3</td>\n",
       "      <td>1.0</td>\n",
       "      <td>1</td>\n",
       "      <td>0.50</td>\n",
       "      <td>0.666667</td>\n",
       "    </tr>\n",
       "    <tr>\n",
       "      <th>3</th>\n",
       "      <td>38053</td>\n",
       "      <td>kìm điện</td>\n",
       "      <td>0</td>\n",
       "      <td>3</td>\n",
       "      <td>1.0</td>\n",
       "      <td>1</td>\n",
       "      <td>0.50</td>\n",
       "      <td>0.666667</td>\n",
       "    </tr>\n",
       "    <tr>\n",
       "      <th rowspan=\"5\" valign=\"top\">4</th>\n",
       "      <th>18</th>\n",
       "      <td>37057</td>\n",
       "      <td>kim luồn tĩnh mạch</td>\n",
       "      <td>4</td>\n",
       "      <td>18</td>\n",
       "      <td>1.0</td>\n",
       "      <td>3</td>\n",
       "      <td>0.75</td>\n",
       "      <td>0.857143</td>\n",
       "    </tr>\n",
       "    <tr>\n",
       "      <th>18</th>\n",
       "      <td>37032</td>\n",
       "      <td>kim luồn  tĩnh mạch</td>\n",
       "      <td>4</td>\n",
       "      <td>18</td>\n",
       "      <td>1.0</td>\n",
       "      <td>3</td>\n",
       "      <td>0.75</td>\n",
       "      <td>0.857143</td>\n",
       "    </tr>\n",
       "    <tr>\n",
       "      <th>18</th>\n",
       "      <td>37211</td>\n",
       "      <td>kim luồn tĩnh mạch.</td>\n",
       "      <td>4</td>\n",
       "      <td>18</td>\n",
       "      <td>1.0</td>\n",
       "      <td>3</td>\n",
       "      <td>0.75</td>\n",
       "      <td>0.857143</td>\n",
       "    </tr>\n",
       "    <tr>\n",
       "      <th>18</th>\n",
       "      <td>32411</td>\n",
       "      <td>họ kim luồn tĩnh mạch</td>\n",
       "      <td>7</td>\n",
       "      <td>21</td>\n",
       "      <td>1.0</td>\n",
       "      <td>3</td>\n",
       "      <td>0.60</td>\n",
       "      <td>0.750000</td>\n",
       "    </tr>\n",
       "    <tr>\n",
       "      <th>18</th>\n",
       "      <td>37059</td>\n",
       "      <td>kim luồn tĩnh mạch (catheter)</td>\n",
       "      <td>4</td>\n",
       "      <td>18</td>\n",
       "      <td>1.0</td>\n",
       "      <td>3</td>\n",
       "      <td>0.60</td>\n",
       "      <td>0.750000</td>\n",
       "    </tr>\n",
       "  </tbody>\n",
       "</table>\n",
       "</div>"
      ],
      "text/plain": [
       "                               data_index                       original  \\\n",
       "query_start_idx query_end_idx                                              \n",
       "0               3                   37893                        kìm gắp   \n",
       "                3                   37917                        kìm kẹp   \n",
       "                3                   38047                        kìm uốn   \n",
       "                3                   37868                        kìm cắt   \n",
       "                3                   38053                       kìm điện   \n",
       "4               18                  37057             kim luồn tĩnh mạch   \n",
       "                18                  37032            kim luồn  tĩnh mạch   \n",
       "                18                  37211            kim luồn tĩnh mạch.   \n",
       "                18                  32411          họ kim luồn tĩnh mạch   \n",
       "                18                  37059  kim luồn tĩnh mạch (catheter)   \n",
       "\n",
       "                               original_start  original_end  \\\n",
       "query_start_idx query_end_idx                                 \n",
       "0               3                           0             3   \n",
       "                3                           0             3   \n",
       "                3                           0             3   \n",
       "                3                           0             3   \n",
       "                3                           0             3   \n",
       "4               18                          4            18   \n",
       "                18                          4            18   \n",
       "                18                          4            18   \n",
       "                18                          7            21   \n",
       "                18                          4            18   \n",
       "\n",
       "                               substring_matching_score  matched_len  \\\n",
       "query_start_idx query_end_idx                                          \n",
       "0               3                                   1.0            1   \n",
       "                3                                   1.0            1   \n",
       "                3                                   1.0            1   \n",
       "                3                                   1.0            1   \n",
       "                3                                   1.0            1   \n",
       "4               18                                  1.0            3   \n",
       "                18                                  1.0            3   \n",
       "                18                                  1.0            3   \n",
       "                18                                  1.0            3   \n",
       "                18                                  1.0            3   \n",
       "\n",
       "                               coverage_score  harmonic_score  \n",
       "query_start_idx query_end_idx                                  \n",
       "0               3                        0.50        0.666667  \n",
       "                3                        0.50        0.666667  \n",
       "                3                        0.50        0.666667  \n",
       "                3                        0.50        0.666667  \n",
       "                3                        0.50        0.666667  \n",
       "4               18                       0.75        0.857143  \n",
       "                18                       0.75        0.857143  \n",
       "                18                       0.75        0.857143  \n",
       "                18                       0.60        0.750000  \n",
       "                18                       0.60        0.750000  "
      ]
     },
     "execution_count": 6,
     "metadata": {},
     "output_type": "execute_result"
    }
   ],
   "source": [
    "with plogging.Timer() as timer:\n",
    "    results = new_engine.run(query)\n",
    "results"
   ]
  },
  {
   "cell_type": "code",
   "execution_count": null,
   "metadata": {},
   "outputs": [],
   "source": []
  }
 ],
 "metadata": {
  "kernelspec": {
   "display_name": "Python 3",
   "language": "python",
   "name": "python3"
  },
  "language_info": {
   "codemirror_mode": {
    "name": "ipython",
    "version": 3
   },
   "file_extension": ".py",
   "mimetype": "text/x-python",
   "name": "python",
   "nbconvert_exporter": "python",
   "pygments_lexer": "ipython3",
   "version": "3.13.5"
  }
 },
 "nbformat": 4,
 "nbformat_minor": 2
}
