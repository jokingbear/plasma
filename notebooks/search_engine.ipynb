{
 "cells": [
  {
   "cell_type": "code",
   "execution_count": 1,
   "metadata": {},
   "outputs": [
    {
     "name": "stdout",
     "output_type": "stream",
     "text": [
      "/u02/thanh/workplace/plasma\n"
     ]
    }
   ],
   "source": [
    "%cd ../"
   ]
  },
  {
   "cell_type": "code",
   "execution_count": 2,
   "metadata": {},
   "outputs": [],
   "source": [
    "import plasma.search_engines as ses\n",
    "import pandas as pd\n",
    "import plasma.logging as plogging\n",
    "import numpy as np\n",
    "\n",
    "from plasma.search_engines import GraphIndexer, GraphIndexer2"
   ]
  },
  {
   "cell_type": "code",
   "execution_count": 3,
   "metadata": {},
   "outputs": [],
   "source": [
    "db = ['Đái tháo đường hay còn gọi là tiểu đường, là bệnh rối loạn chuyển hóa đặc trưng với biểu hiện lượng đường ở trong máu luôn ở mức cao hơn so với bình thường do cơ thể thiếu hụt về tiết insulin hoặc đề kháng với insulin hoặc cả 2, dẫn đến rối loạn quan trọng về chuyển hóa đường, đạm, mỡ, chất khoáng. (1)']"
   ]
  },
  {
   "cell_type": "code",
   "execution_count": 4,
   "metadata": {},
   "outputs": [],
   "source": [
    "#query = 'hehe'\n",
    "query = '7 thg 6, 2021 ... Đái tháo đường là bệnh rối loạn chuyển hóa đặc trưng với biểu hiện lượng đường ở trong máu luôn ở mức cao hơn so với bình thường Tìm hiểu để\\xa0...'"
   ]
  },
  {
   "cell_type": "code",
   "execution_count": 5,
   "metadata": {},
   "outputs": [],
   "source": [
    "new_engine = GraphIndexer2(db)"
   ]
  },
  {
   "cell_type": "code",
   "execution_count": 6,
   "metadata": {},
   "outputs": [
    {
     "name": "stdout",
     "output_type": "stream",
     "text": [
      "0:00:00.047009\n"
     ]
    },
    {
     "data": {
      "text/html": [
       "<div>\n",
       "<style scoped>\n",
       "    .dataframe tbody tr th:only-of-type {\n",
       "        vertical-align: middle;\n",
       "    }\n",
       "\n",
       "    .dataframe tbody tr th {\n",
       "        vertical-align: top;\n",
       "    }\n",
       "\n",
       "    .dataframe thead th {\n",
       "        text-align: right;\n",
       "    }\n",
       "</style>\n",
       "<table border=\"1\" class=\"dataframe\">\n",
       "  <thead>\n",
       "    <tr style=\"text-align: right;\">\n",
       "      <th></th>\n",
       "      <th></th>\n",
       "      <th>data_index</th>\n",
       "      <th>original</th>\n",
       "      <th>original_start</th>\n",
       "      <th>original_end</th>\n",
       "      <th>substring_matching_score</th>\n",
       "      <th>matched_len</th>\n",
       "      <th>coverage_score</th>\n",
       "      <th>harmonic_score</th>\n",
       "    </tr>\n",
       "    <tr>\n",
       "      <th>query_start_idx</th>\n",
       "      <th>query_end_idx</th>\n",
       "      <th></th>\n",
       "      <th></th>\n",
       "      <th></th>\n",
       "      <th></th>\n",
       "      <th></th>\n",
       "      <th></th>\n",
       "      <th></th>\n",
       "      <th></th>\n",
       "    </tr>\n",
       "  </thead>\n",
       "  <tbody>\n",
       "    <tr>\n",
       "      <th>18</th>\n",
       "      <th>146</th>\n",
       "      <td>0</td>\n",
       "      <td>Đái tháo đường hay còn gọi là tiểu đường, là b...</td>\n",
       "      <td>35</td>\n",
       "      <td>155</td>\n",
       "      <td>1.00</td>\n",
       "      <td>26</td>\n",
       "      <td>0.400000</td>\n",
       "      <td>0.571429</td>\n",
       "    </tr>\n",
       "    <tr>\n",
       "      <th rowspan=\"2\" valign=\"top\">151</th>\n",
       "      <th>155</th>\n",
       "      <td>0</td>\n",
       "      <td>Đái tháo đường hay còn gọi là tiểu đường, là b...</td>\n",
       "      <td>30</td>\n",
       "      <td>34</td>\n",
       "      <td>0.75</td>\n",
       "      <td>1</td>\n",
       "      <td>0.015385</td>\n",
       "      <td>0.030151</td>\n",
       "    </tr>\n",
       "    <tr>\n",
       "      <th>155</th>\n",
       "      <td>0</td>\n",
       "      <td>Đái tháo đường hay còn gọi là tiểu đường, là b...</td>\n",
       "      <td>84</td>\n",
       "      <td>88</td>\n",
       "      <td>0.75</td>\n",
       "      <td>1</td>\n",
       "      <td>0.015385</td>\n",
       "      <td>0.030151</td>\n",
       "    </tr>\n",
       "  </tbody>\n",
       "</table>\n",
       "</div>"
      ],
      "text/plain": [
       "                               data_index  \\\n",
       "query_start_idx query_end_idx               \n",
       "18              146                     0   \n",
       "151             155                     0   \n",
       "                155                     0   \n",
       "\n",
       "                                                                        original  \\\n",
       "query_start_idx query_end_idx                                                      \n",
       "18              146            Đái tháo đường hay còn gọi là tiểu đường, là b...   \n",
       "151             155            Đái tháo đường hay còn gọi là tiểu đường, là b...   \n",
       "                155            Đái tháo đường hay còn gọi là tiểu đường, là b...   \n",
       "\n",
       "                               original_start  original_end  \\\n",
       "query_start_idx query_end_idx                                 \n",
       "18              146                        35           155   \n",
       "151             155                        30            34   \n",
       "                155                        84            88   \n",
       "\n",
       "                               substring_matching_score  matched_len  \\\n",
       "query_start_idx query_end_idx                                          \n",
       "18              146                                1.00           26   \n",
       "151             155                                0.75            1   \n",
       "                155                                0.75            1   \n",
       "\n",
       "                               coverage_score  harmonic_score  \n",
       "query_start_idx query_end_idx                                  \n",
       "18              146                  0.400000        0.571429  \n",
       "151             155                  0.015385        0.030151  \n",
       "                155                  0.015385        0.030151  "
      ]
     },
     "execution_count": 6,
     "metadata": {},
     "output_type": "execute_result"
    }
   ],
   "source": [
    "with plogging.Timer(log_func=None) as timer:\n",
    "    results = new_engine.run(query)\n",
    "results"
   ]
  },
  {
   "cell_type": "code",
   "execution_count": 7,
   "metadata": {},
   "outputs": [
    {
     "data": {
      "text/plain": [
       "'Đái tháo đường là bệnh rối loạn chuyển hóa đặc trưng với biểu hiện lượng đường ở trong máu luôn ở mức cao hơn so với bình thường'"
      ]
     },
     "execution_count": 7,
     "metadata": {},
     "output_type": "execute_result"
    }
   ],
   "source": [
    "query[18:146]"
   ]
  },
  {
   "cell_type": "code",
   "execution_count": null,
   "metadata": {},
   "outputs": [],
   "source": []
  }
 ],
 "metadata": {
  "kernelspec": {
   "display_name": "Python 3",
   "language": "python",
   "name": "python3"
  },
  "language_info": {
   "codemirror_mode": {
    "name": "ipython",
    "version": 3
   },
   "file_extension": ".py",
   "mimetype": "text/x-python",
   "name": "python",
   "nbconvert_exporter": "python",
   "pygments_lexer": "ipython3",
   "version": "3.13.5"
  }
 },
 "nbformat": 4,
 "nbformat_minor": 2
}
