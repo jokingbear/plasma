{
 "cells": [
  {
   "cell_type": "code",
   "execution_count": 1,
   "metadata": {},
   "outputs": [
    {
     "name": "stdout",
     "output_type": "stream",
     "text": [
      "/u02/thanh/workplace/plasma\n"
     ]
    }
   ],
   "source": [
    "%cd ../"
   ]
  },
  {
   "cell_type": "code",
   "execution_count": 2,
   "metadata": {},
   "outputs": [],
   "source": [
    "import plasma.search_engines as ses\n",
    "import pandas as pd\n",
    "import plasma.logging as plogging\n",
    "import numpy as np\n",
    "\n",
    "from plasma.search_engines import GraphIndexer"
   ]
  },
  {
   "cell_type": "code",
   "execution_count": 3,
   "metadata": {},
   "outputs": [
    {
     "data": {
      "text/plain": [
       "0        Kim luồn tĩnh mạch có cánh, có cổng tiêm thuốc...\n",
       "1        Bộ xét nghiệm IVD ACTH ( ACTH (03255751190_ACT...\n",
       "2                  Bộ xét nghiệm IVD nồng độ cồn trong máu\n",
       "3                                    Mặt nạ thở oxy có túi\n",
       "4                             Môi trường nuôi cấy vi khuẩn\n",
       "                               ...                        \n",
       "70432    Đường dây nối dài xả thải tự động dùng cho máy...\n",
       "70433                                      α-Amylase CC FS\n",
       "70434                                               γδCult\n",
       "70435                                          γδCult Mini\n",
       "70436                                           “Biomdcare\n",
       "Name: medical_device_name, Length: 70437, dtype: object"
      ]
     },
     "execution_count": 3,
     "metadata": {},
     "output_type": "execute_result"
    }
   ],
   "source": [
    "db = pd.read_feather('test_db.feather')['medical_device_name']\n",
    "db"
   ]
  },
  {
   "cell_type": "code",
   "execution_count": 4,
   "metadata": {},
   "outputs": [],
   "source": [
    "new_engine = GraphIndexer(db)"
   ]
  },
  {
   "cell_type": "code",
   "execution_count": 5,
   "metadata": {},
   "outputs": [],
   "source": [
    "#query = 'hehe'\n",
    "query = 'STERIMAR Sulphur'"
   ]
  },
  {
   "cell_type": "code",
   "execution_count": 6,
   "metadata": {},
   "outputs": [
    {
     "name": "stdout",
     "output_type": "stream",
     "text": [
      "0:00:00.208073\n"
     ]
    },
    {
     "data": {
      "text/html": [
       "<div>\n",
       "<style scoped>\n",
       "    .dataframe tbody tr th:only-of-type {\n",
       "        vertical-align: middle;\n",
       "    }\n",
       "\n",
       "    .dataframe tbody tr th {\n",
       "        vertical-align: top;\n",
       "    }\n",
       "\n",
       "    .dataframe thead th {\n",
       "        text-align: right;\n",
       "    }\n",
       "</style>\n",
       "<table border=\"1\" class=\"dataframe\">\n",
       "  <thead>\n",
       "    <tr style=\"text-align: right;\">\n",
       "      <th></th>\n",
       "      <th></th>\n",
       "      <th>data_index</th>\n",
       "      <th>original</th>\n",
       "      <th>original_start</th>\n",
       "      <th>original_end</th>\n",
       "      <th>substring_matching_score</th>\n",
       "      <th>matched_len</th>\n",
       "      <th>coverage_score</th>\n",
       "      <th>harmonic_score</th>\n",
       "    </tr>\n",
       "    <tr>\n",
       "      <th>query_start_idx</th>\n",
       "      <th>query_end_idx</th>\n",
       "      <th></th>\n",
       "      <th></th>\n",
       "      <th></th>\n",
       "      <th></th>\n",
       "      <th></th>\n",
       "      <th></th>\n",
       "      <th></th>\n",
       "      <th></th>\n",
       "    </tr>\n",
       "  </thead>\n",
       "  <tbody>\n",
       "    <tr>\n",
       "      <th>0</th>\n",
       "      <th>16</th>\n",
       "      <td>57556</td>\n",
       "      <td>STERIMAR Sulphur 50ml/ 100ml</td>\n",
       "      <td>0</td>\n",
       "      <td>16</td>\n",
       "      <td>1.0</td>\n",
       "      <td>2</td>\n",
       "      <td>0.5</td>\n",
       "      <td>0.666667</td>\n",
       "    </tr>\n",
       "  </tbody>\n",
       "</table>\n",
       "</div>"
      ],
      "text/plain": [
       "                               data_index                      original  \\\n",
       "query_start_idx query_end_idx                                             \n",
       "0               16                  57556  STERIMAR Sulphur 50ml/ 100ml   \n",
       "\n",
       "                               original_start  original_end  \\\n",
       "query_start_idx query_end_idx                                 \n",
       "0               16                          0            16   \n",
       "\n",
       "                               substring_matching_score  matched_len  \\\n",
       "query_start_idx query_end_idx                                          \n",
       "0               16                                  1.0            2   \n",
       "\n",
       "                               coverage_score  harmonic_score  \n",
       "query_start_idx query_end_idx                                  \n",
       "0               16                        0.5        0.666667  "
      ]
     },
     "execution_count": 6,
     "metadata": {},
     "output_type": "execute_result"
    }
   ],
   "source": [
    "with plogging.Timer(log_func=None) as timer:\n",
    "    results = new_engine.run(query)\n",
    "results"
   ]
  },
  {
   "cell_type": "code",
   "execution_count": null,
   "metadata": {},
   "outputs": [],
   "source": []
  }
 ],
 "metadata": {
  "kernelspec": {
   "display_name": "Python 3",
   "language": "python",
   "name": "python3"
  },
  "language_info": {
   "codemirror_mode": {
    "name": "ipython",
    "version": 3
   },
   "file_extension": ".py",
   "mimetype": "text/x-python",
   "name": "python",
   "nbconvert_exporter": "python",
   "pygments_lexer": "ipython3",
   "version": "3.13.5"
  }
 },
 "nbformat": 4,
 "nbformat_minor": 2
}
