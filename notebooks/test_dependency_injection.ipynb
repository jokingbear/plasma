{
 "cells": [
  {
   "cell_type": "code",
   "execution_count": 1,
   "metadata": {},
   "outputs": [
    {
     "name": "stdout",
     "output_type": "stream",
     "text": [
      "/u02/thanh/workplace/plasma\n"
     ]
    }
   ],
   "source": [
    "%cd ../"
   ]
  },
  {
   "cell_type": "code",
   "execution_count": 2,
   "metadata": {},
   "outputs": [
    {
     "name": "stderr",
     "output_type": "stream",
     "text": [
      "/u02/thanh/workplace/plasma/.env/RnD/lib/python3.13/site-packages/tqdm/auto.py:21: TqdmWarning: IProgress not found. Please update jupyter and ipywidgets. See https://ipywidgets.readthedocs.io/en/stable/user_install.html\n",
      "  from .autonotebook import tqdm as notebook_tqdm\n"
     ]
    }
   ],
   "source": [
    "import plasma.functional as F\n",
    "\n",
    "from plasma.meta.object_graph import Manager"
   ]
  },
  {
   "cell_type": "code",
   "execution_count": 3,
   "metadata": {},
   "outputs": [],
   "source": [
    "class HUHU(F.AutoPipe):\n",
    "\n",
    "    def __init__(self, name, age, test=5):\n",
    "        super().__init__()\n",
    "        self.name = name\n",
    "        self.age = age\n",
    "        self.test = test"
   ]
  },
  {
   "cell_type": "code",
   "execution_count": 4,
   "metadata": {},
   "outputs": [],
   "source": [
    "class HEHE(F.AutoPipe):\n",
    "\n",
    "    def __init__(self, huhu, bee) -> None:\n",
    "        super().__init__()\n",
    "        self.huhu = huhu"
   ]
  },
  {
   "cell_type": "code",
   "execution_count": 5,
   "metadata": {},
   "outputs": [],
   "source": [
    "class HAHA(F.AutoPipe):\n",
    "\n",
    "    def __init__(self, hehe:HEHE, huhu:HUHU, test_factory:dict) -> None:\n",
    "        super().__init__()\n",
    "        print(test_factory)\n",
    "        self.hehe = hehe\n",
    "        self.huhu = huhu"
   ]
  },
  {
   "cell_type": "code",
   "execution_count": 6,
   "metadata": {},
   "outputs": [],
   "source": [
    "injector = Manager()\n",
    "injector2 = Manager()"
   ]
  },
  {
   "cell_type": "code",
   "execution_count": 7,
   "metadata": {},
   "outputs": [
    {
     "data": {
      "text/plain": [
       "DependencyFactory(\n",
       "\tname=test_factory,\n",
       "\tegistered_names=[]\n",
       ")"
      ]
     },
     "execution_count": 7,
     "metadata": {},
     "output_type": "execute_result"
    }
   ],
   "source": [
    "dep_factory = injector2.init_factory('test_factory')\n",
    "dep_factory"
   ]
  },
  {
   "cell_type": "code",
   "execution_count": 8,
   "metadata": {},
   "outputs": [],
   "source": [
    "@dep_factory.register('bee')\n",
    "class Bee:\n",
    "    \n",
    "    def __init__(self, wings=2, need=1):\n",
    "        pass\n",
    "\n",
    "@dep_factory.register('bop')\n",
    "class Bop:\n",
    "    \n",
    "    def __init__(self, unkown):\n",
    "        pass"
   ]
  },
  {
   "cell_type": "code",
   "execution_count": 9,
   "metadata": {},
   "outputs": [
    {
     "data": {
      "text/plain": [
       "|->haha\n",
       "  |->hehe: HEHE\n",
       "    |->huhu: HUHU\n",
       "      |->name\n",
       "      |->age\n",
       "      |->test = int\n",
       "    |->bee\n",
       "      |->wings = int\n",
       "      |->need = int\n",
       "  |->huhu: HUHU\n",
       "    |->name\n",
       "    |->age\n",
       "    |->test = int\n",
       "  |->test_factory: DependencyFactory\n",
       "    |->bee\n",
       "      |->wings = int\n",
       "      |->need = int\n",
       "    |->bop\n",
       "      |->unkown\n",
       "----------------------------------------------------------------------------------------------------\n",
       "|->hihi\n",
       "  |->huhu: HUHU\n",
       "    |->name\n",
       "    |->age\n",
       "    |->test = int\n",
       "  |->bee\n",
       "    |->wings = int\n",
       "    |->need = int\n",
       "----------------------------------------------------------------------------------------------------"
      ]
     },
     "execution_count": 9,
     "metadata": {},
     "output_type": "execute_result"
    }
   ],
   "source": [
    "injector\\\n",
    "    .add_dependency('huhu', HUHU)\\\n",
    "    .add_dependency('hehe', HEHE)\\\n",
    "    .add_dependency('hihi', HEHE)\n",
    "\n",
    "injector2\\\n",
    "    .add_dependency('haha', HAHA)\\\n",
    "    .merge(injector)"
   ]
  },
  {
   "cell_type": "code",
   "execution_count": 10,
   "metadata": {},
   "outputs": [
    {
     "data": {
      "text/plain": [
       "{'wings': 2,\n",
       " 'need': 1,\n",
       " 'unkown': plasma.meta.object_graph.readable_manager.NotInitalized,\n",
       " 'name': plasma.meta.object_graph.readable_manager.NotInitalized,\n",
       " 'age': plasma.meta.object_graph.readable_manager.NotInitalized,\n",
       " 'test': 5}"
      ]
     },
     "execution_count": 10,
     "metadata": {},
     "output_type": "execute_result"
    }
   ],
   "source": [
    "injector2.entries"
   ]
  },
  {
   "cell_type": "code",
   "execution_count": 11,
   "metadata": {},
   "outputs": [
    {
     "name": "stdout",
     "output_type": "stream",
     "text": [
      "{'bee': <__main__.Bee object at 0x719a2eb81d30>, 'bop': <__main__.Bop object at 0x719a2eb81e80>}\n"
     ]
    },
    {
     "data": {
      "text/plain": [
       "HAHA(\n",
       "  hehe=HEHE(\n",
       "    huhu=8,\n",
       "  ),\n",
       "  huhu=8,\n",
       ")"
      ]
     },
     "execution_count": 11,
     "metadata": {},
     "output_type": "execute_result"
    }
   ],
   "source": [
    "obj, = injector2.run('haha', huhu=8, unkown=8, name='huhu')\n",
    "obj"
   ]
  },
  {
   "cell_type": "code",
   "execution_count": null,
   "metadata": {},
   "outputs": [],
   "source": []
  }
 ],
 "metadata": {
  "kernelspec": {
   "display_name": "Python 3",
   "language": "python",
   "name": "python3"
  },
  "language_info": {
   "codemirror_mode": {
    "name": "ipython",
    "version": 3
   },
   "file_extension": ".py",
   "mimetype": "text/x-python",
   "name": "python",
   "nbconvert_exporter": "python",
   "pygments_lexer": "ipython3",
   "version": "3.13.5"
  }
 },
 "nbformat": 4,
 "nbformat_minor": 2
}
