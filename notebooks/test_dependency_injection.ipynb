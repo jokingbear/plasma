{
 "cells": [
  {
   "cell_type": "code",
   "execution_count": null,
   "metadata": {},
   "outputs": [],
   "source": [
    "%cd ../"
   ]
  },
  {
   "cell_type": "code",
   "execution_count": null,
   "metadata": {},
   "outputs": [],
   "source": [
    "import plasma.functional as F\n",
    "\n",
    "from plasma.meta.object_graph import ContextManager, Manager"
   ]
  },
  {
   "cell_type": "code",
   "execution_count": null,
   "metadata": {},
   "outputs": [],
   "source": [
    "class Handler(F.AutoPipe):\n",
    "\n",
    "    def __init__(self, name, age, test=5):\n",
    "        super().__init__()\n",
    "        self.name = name\n",
    "        self.age = age\n",
    "        self.test = test"
   ]
  },
  {
   "cell_type": "code",
   "execution_count": null,
   "metadata": {},
   "outputs": [],
   "source": [
    "class Flow(F.AutoPipe):\n",
    "\n",
    "    def __init__(self, handler, bee) -> None:\n",
    "        super().__init__()\n",
    "        self.handler = handler"
   ]
  },
  {
   "cell_type": "code",
   "execution_count": null,
   "metadata": {},
   "outputs": [],
   "source": [
    "class Service(F.AutoPipe):\n",
    "\n",
    "    def __init__(self, flow:Flow, handler:Handler, test_factory:dict) -> None:\n",
    "        super().__init__()\n",
    "        print(test_factory)\n",
    "        self.flow = flow\n",
    "        self.handler = handler"
   ]
  },
  {
   "cell_type": "code",
   "execution_count": null,
   "metadata": {},
   "outputs": [],
   "source": [
    "class AnotherHandler(F.AutoPipe):\n",
    "    \n",
    "    def __init__(self, test_factory:dict):\n",
    "        super().__init__()\n",
    "        \n",
    "        self.test_factory = test_factory"
   ]
  },
  {
   "cell_type": "code",
   "execution_count": null,
   "metadata": {},
   "outputs": [],
   "source": [
    "manager =  ContextManager()\n",
    "manager"
   ]
  },
  {
   "cell_type": "code",
   "execution_count": null,
   "metadata": {},
   "outputs": [],
   "source": [
    "service_manager = manager\\\n",
    "    .context('service_components')\\\n",
    "        .add_dependency('main', Service)\\\n",
    "        .add_dependency('another_handler', AnotherHandler)\n",
    "\n",
    "service_manager"
   ]
  },
  {
   "cell_type": "code",
   "execution_count": null,
   "metadata": {},
   "outputs": [],
   "source": [
    "factory = service_manager.factory('test_factory')\n",
    "factory['hehe'] = 1\n",
    "\n",
    "service_manager"
   ]
  },
  {
   "cell_type": "code",
   "execution_count": null,
   "metadata": {},
   "outputs": [],
   "source": [
    "package_manager = manager\\\n",
    "    .context('package')\\\n",
    "        .add_dependency('flow', Flow)\\\n",
    "        .add_dependency('handler', Handler)\n",
    "package_manager           "
   ]
  },
  {
   "cell_type": "code",
   "execution_count": null,
   "metadata": {},
   "outputs": [],
   "source": [
    "service_manager.link_name(package_manager)"
   ]
  },
  {
   "cell_type": "code",
   "execution_count": null,
   "metadata": {},
   "outputs": [],
   "source": [
    "main, another_handler = service_manager\\\n",
    "                              .run('main', 'another_handler',\n",
    "                                   package={\n",
    "                                        'name': 'test', \n",
    "                                        'age': 12, \n",
    "                                        'test': 'test', \n",
    "                                        'bee': 'buzz buzz'\n",
    "                                        })"
   ]
  },
  {
   "cell_type": "code",
   "execution_count": null,
   "metadata": {},
   "outputs": [],
   "source": [
    "another_handler"
   ]
  },
  {
   "cell_type": "code",
   "execution_count": null,
   "metadata": {},
   "outputs": [],
   "source": []
  }
 ],
 "metadata": {
  "kernelspec": {
   "display_name": "Python 3",
   "language": "python",
   "name": "python3"
  },
  "language_info": {
   "codemirror_mode": {
    "name": "ipython",
    "version": 3
   },
   "file_extension": ".py",
   "mimetype": "text/x-python",
   "name": "python",
   "nbconvert_exporter": "python",
   "pygments_lexer": "ipython3",
   "version": "3.13.5"
  }
 },
 "nbformat": 4,
 "nbformat_minor": 2
}
