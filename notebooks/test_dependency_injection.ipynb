{
 "cells": [
  {
   "cell_type": "code",
   "execution_count": 1,
   "metadata": {},
   "outputs": [
    {
     "name": "stdout",
     "output_type": "stream",
     "text": [
      "/u02/thanh/workplace/plasma\n"
     ]
    }
   ],
   "source": [
    "%cd ../"
   ]
  },
  {
   "cell_type": "code",
   "execution_count": 2,
   "metadata": {},
   "outputs": [
    {
     "name": "stderr",
     "output_type": "stream",
     "text": [
      "/u02/thanh/workplace/plasma/.env/RnD/lib/python3.13/site-packages/tqdm/auto.py:21: TqdmWarning: IProgress not found. Please update jupyter and ipywidgets. See https://ipywidgets.readthedocs.io/en/stable/user_install.html\n",
      "  from .autonotebook import tqdm as notebook_tqdm\n"
     ]
    }
   ],
   "source": [
    "import plasma.functional as F\n",
    "\n",
    "from plasma.meta.object_graph import ContextManager, Manager"
   ]
  },
  {
   "cell_type": "code",
   "execution_count": 3,
   "metadata": {},
   "outputs": [],
   "source": [
    "class Handler(F.AutoPipe):\n",
    "\n",
    "    def __init__(self, name, age, test=5):\n",
    "        super().__init__()\n",
    "        self.name = name\n",
    "        self.age = age\n",
    "        self.test = test"
   ]
  },
  {
   "cell_type": "code",
   "execution_count": 4,
   "metadata": {},
   "outputs": [],
   "source": [
    "class Flow(F.AutoPipe):\n",
    "\n",
    "    def __init__(self, handler, bee) -> None:\n",
    "        super().__init__()\n",
    "        self.handler = handler"
   ]
  },
  {
   "cell_type": "code",
   "execution_count": 5,
   "metadata": {},
   "outputs": [],
   "source": [
    "class Service(F.AutoPipe):\n",
    "\n",
    "    def __init__(self, flow:Flow, handler:Handler, test_factory:dict) -> None:\n",
    "        super().__init__()\n",
    "        print(test_factory)\n",
    "        self.flow = flow\n",
    "        self.handler = handler"
   ]
  },
  {
   "cell_type": "code",
   "execution_count": 6,
   "metadata": {},
   "outputs": [
    {
     "data": {
      "text/plain": []
     },
     "execution_count": 6,
     "metadata": {},
     "output_type": "execute_result"
    }
   ],
   "source": [
    "manager =  ContextManager()\n",
    "manager"
   ]
  },
  {
   "cell_type": "code",
   "execution_count": 7,
   "metadata": {},
   "outputs": [
    {
     "data": {
      "text/plain": [
       "service_components\n",
       "  |-> main\n",
       "    |-> flow: Flow\n",
       "    |-> handler: Handler\n",
       "    |-> test_factory: dict\n",
       "----------------------------------------------------------------------------------------------------"
      ]
     },
     "execution_count": 7,
     "metadata": {},
     "output_type": "execute_result"
    }
   ],
   "source": [
    "service_manager = manager\\\n",
    "    .context('service_components')\\\n",
    "        .add_dependency('main', Service)\n",
    "service_manager"
   ]
  },
  {
   "cell_type": "code",
   "execution_count": 8,
   "metadata": {},
   "outputs": [
    {
     "data": {
      "text/plain": [
       "service_components\n",
       "  |-> main\n",
       "    |-> flow: Flow\n",
       "    |-> handler: Handler\n",
       "    |-> test_factory: DependencyFactory\n",
       "      |-> hehe = int\n",
       "----------------------------------------------------------------------------------------------------"
      ]
     },
     "execution_count": 8,
     "metadata": {},
     "output_type": "execute_result"
    }
   ],
   "source": [
    "factory = service_manager.factory('test_factory')\n",
    "factory['hehe'] = 1\n",
    "\n",
    "service_manager"
   ]
  },
  {
   "cell_type": "code",
   "execution_count": 9,
   "metadata": {},
   "outputs": [
    {
     "data": {
      "text/plain": [
       "package\n",
       "  |-> flow\n",
       "    |-> handler\n",
       "      |-> name\n",
       "      |-> age\n",
       "      |-> test\n",
       "    |-> bee\n",
       "----------------------------------------------------------------------------------------------------"
      ]
     },
     "execution_count": 9,
     "metadata": {},
     "output_type": "execute_result"
    }
   ],
   "source": [
    "package_manager = manager\\\n",
    "    .context('package')\\\n",
    "        .add_dependency('flow', Flow)\\\n",
    "        .add_dependency('handler', Handler)\n",
    "package_manager           "
   ]
  },
  {
   "cell_type": "code",
   "execution_count": 10,
   "metadata": {},
   "outputs": [
    {
     "data": {
      "text/plain": [
       "service_components\n",
       "  |-> main\n",
       "    |-> flow: Flow --> package.flow...\n",
       "    |-> handler: Handler --> package.handler...\n",
       "    |-> test_factory: DependencyFactory\n",
       "      |-> hehe = int\n",
       "----------------------------------------------------------------------------------------------------"
      ]
     },
     "execution_count": 10,
     "metadata": {},
     "output_type": "execute_result"
    }
   ],
   "source": [
    "service_manager.link_name(package_manager)"
   ]
  },
  {
   "cell_type": "code",
   "execution_count": 11,
   "metadata": {},
   "outputs": [
    {
     "name": "stdout",
     "output_type": "stream",
     "text": [
      "{'hehe': 1}\n"
     ]
    }
   ],
   "source": [
    "main, = service_manager\\\n",
    "            .run('main', \n",
    "                 package={\n",
    "                 'name': 'test', \n",
    "                 'age': 12, \n",
    "                 'test': 'test', \n",
    "                 'bee': 'buzz buzz'\n",
    "                 })"
   ]
  },
  {
   "cell_type": "code",
   "execution_count": 12,
   "metadata": {},
   "outputs": [
    {
     "data": {
      "text/plain": [
       "Service(\n",
       "  flow=Flow(\n",
       "    handler=Handler(\n",
       "      name='test',\n",
       "      age=12,\n",
       "      test='test',\n",
       "    ),\n",
       "  ),\n",
       "  handler=Handler(\n",
       "    name='test',\n",
       "    age=12,\n",
       "    test='test',\n",
       "  ),\n",
       ")"
      ]
     },
     "execution_count": 12,
     "metadata": {},
     "output_type": "execute_result"
    }
   ],
   "source": [
    "main"
   ]
  },
  {
   "cell_type": "code",
   "execution_count": null,
   "metadata": {},
   "outputs": [],
   "source": []
  }
 ],
 "metadata": {
  "kernelspec": {
   "display_name": "Python 3",
   "language": "python",
   "name": "python3"
  },
  "language_info": {
   "codemirror_mode": {
    "name": "ipython",
    "version": 3
   },
   "file_extension": ".py",
   "mimetype": "text/x-python",
   "name": "python",
   "nbconvert_exporter": "python",
   "pygments_lexer": "ipython3",
   "version": "3.13.5"
  }
 },
 "nbformat": 4,
 "nbformat_minor": 2
}
