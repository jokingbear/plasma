{
 "cells": [
  {
   "cell_type": "code",
   "execution_count": 1,
   "metadata": {},
   "outputs": [
    {
     "name": "stdout",
     "output_type": "stream",
     "text": [
      "/u02/thanh/workplace/plasma\n"
     ]
    }
   ],
   "source": [
    "%cd ../"
   ]
  },
  {
   "cell_type": "code",
   "execution_count": 2,
   "metadata": {},
   "outputs": [
    {
     "name": "stderr",
     "output_type": "stream",
     "text": [
      "/u02/thanh/workplace/plasma/.env/RnD/lib/python3.13/site-packages/tqdm/auto.py:21: TqdmWarning: IProgress not found. Please update jupyter and ipywidgets. See https://ipywidgets.readthedocs.io/en/stable/user_install.html\n",
      "  from .autonotebook import tqdm as notebook_tqdm\n"
     ]
    }
   ],
   "source": [
    "import plasma.functional as F\n",
    "\n",
    "from plasma.meta.object_graph import Manager"
   ]
  },
  {
   "cell_type": "code",
   "execution_count": 3,
   "metadata": {},
   "outputs": [],
   "source": [
    "class HUHU(F.AutoPipe):\n",
    "\n",
    "    def __init__(self, name, age, test=5):\n",
    "        super().__init__()\n",
    "        self.name = name\n",
    "        self.age = age\n",
    "        self.test = test"
   ]
  },
  {
   "cell_type": "code",
   "execution_count": 4,
   "metadata": {},
   "outputs": [],
   "source": [
    "class HEHE(F.AutoPipe):\n",
    "\n",
    "    def __init__(self, huhu) -> None:\n",
    "        super().__init__()\n",
    "        self.huhu = huhu"
   ]
  },
  {
   "cell_type": "code",
   "execution_count": 5,
   "metadata": {},
   "outputs": [],
   "source": [
    "class HAHA(F.AutoPipe):\n",
    "\n",
    "    def __init__(self, hehe:HEHE, huhu:HUHU) -> None:\n",
    "        super().__init__()\n",
    "        self.hehe = hehe\n",
    "        self.huhu = huhu"
   ]
  },
  {
   "cell_type": "code",
   "execution_count": 6,
   "metadata": {},
   "outputs": [],
   "source": [
    "def wrapper_provider(name, obj):\n",
    "    \n",
    "    if name in {'huhu', 'hehe'}:\n",
    "        obj.check = True\n",
    "    \n",
    "    return obj     "
   ]
  },
  {
   "cell_type": "code",
   "execution_count": 7,
   "metadata": {},
   "outputs": [],
   "source": [
    "injector = Manager()\n",
    "injector2 = Manager()"
   ]
  },
  {
   "cell_type": "code",
   "execution_count": 8,
   "metadata": {},
   "outputs": [
    {
     "data": {
      "text/plain": [
       "DependencyFactory(\n",
       "\tname=test_factory,\n",
       "\tegistered_names=[]\n",
       ")"
      ]
     },
     "execution_count": 8,
     "metadata": {},
     "output_type": "execute_result"
    }
   ],
   "source": [
    "dep_factory = injector2.init_factory('test_factory')\n",
    "dep_factory"
   ]
  },
  {
   "cell_type": "code",
   "execution_count": 9,
   "metadata": {},
   "outputs": [],
   "source": [
    "@dep_factory.register('bee')\n",
    "class Bee:\n",
    "    \n",
    "    def __init__(self, wings=2, need=1):\n",
    "        pass\n",
    "\n",
    "@dep_factory.register('bop')\n",
    "class Bop:\n",
    "    \n",
    "    def __init__(self, unkown):\n",
    "        pass"
   ]
  },
  {
   "cell_type": "code",
   "execution_count": 10,
   "metadata": {},
   "outputs": [
    {
     "data": {
      "text/plain": [
       "|->test_factory: DependencyFactory\n",
       "  |->bee\n",
       "    |->wings = int\n",
       "    |->need = int\n",
       "  |->bop\n",
       "    |->unkown\n",
       "----------------------------------------------------------------------------------------------------\n",
       "|->haha\n",
       "  |->hehe: HEHE\n",
       "    |->huhu: HUHU\n",
       "      |->name\n",
       "      |->age\n",
       "      |->test = int\n",
       "  |->huhu: HUHU\n",
       "    |->name\n",
       "    |->age\n",
       "    |->test = int\n",
       "----------------------------------------------------------------------------------------------------\n",
       "|->hihi\n",
       "  |->huhu: HUHU\n",
       "    |->name\n",
       "    |->age\n",
       "    |->test = int\n",
       "----------------------------------------------------------------------------------------------------"
      ]
     },
     "execution_count": 10,
     "metadata": {},
     "output_type": "execute_result"
    }
   ],
   "source": [
    "injector\\\n",
    "    .add_dependency('huhu', HUHU)\\\n",
    "    .add_dependency('hehe', HEHE)\\\n",
    "    .add_dependency('hihi', HEHE)\n",
    "\n",
    "injector2\\\n",
    "    .add_dependency('haha', HAHA)\\\n",
    "    .add_wrapper(wrapper_provider)\\\n",
    "    .merge(injector)"
   ]
  },
  {
   "cell_type": "code",
   "execution_count": null,
   "metadata": {},
   "outputs": [],
   "source": [
    "injector2.entries"
   ]
  },
  {
   "cell_type": "code",
   "execution_count": null,
   "metadata": {},
   "outputs": [],
   "source": [
    "obj, = injector2.run('haha', huhu=8)\n",
    "obj"
   ]
  },
  {
   "cell_type": "code",
   "execution_count": null,
   "metadata": {},
   "outputs": [],
   "source": [
    "obj.hehe.check"
   ]
  },
  {
   "cell_type": "code",
   "execution_count": null,
   "metadata": {},
   "outputs": [],
   "source": []
  }
 ],
 "metadata": {
  "kernelspec": {
   "display_name": "Python 3",
   "language": "python",
   "name": "python3"
  },
  "language_info": {
   "codemirror_mode": {
    "name": "ipython",
    "version": 3
   },
   "file_extension": ".py",
   "mimetype": "text/x-python",
   "name": "python",
   "nbconvert_exporter": "python",
   "pygments_lexer": "ipython3",
   "version": "3.13.5"
  }
 },
 "nbformat": 4,
 "nbformat_minor": 2
}
