{
 "cells": [
  {
   "cell_type": "code",
   "execution_count": 1,
   "metadata": {},
   "outputs": [
    {
     "name": "stdout",
     "output_type": "stream",
     "text": [
      "/u02/thanh/workplace/plasma\n"
     ]
    }
   ],
   "source": [
    "%cd ../"
   ]
  },
  {
   "cell_type": "code",
   "execution_count": 2,
   "metadata": {},
   "outputs": [
    {
     "name": "stderr",
     "output_type": "stream",
     "text": [
      "/u02/thanh/workplace/plasma/.env/RnD/lib/python3.13/site-packages/tqdm/auto.py:21: TqdmWarning: IProgress not found. Please update jupyter and ipywidgets. See https://ipywidgets.readthedocs.io/en/stable/user_install.html\n",
      "  from .autonotebook import tqdm as notebook_tqdm\n"
     ]
    }
   ],
   "source": [
    "import plasma.functional as F\n",
    "\n",
    "from plasma.meta.object_graph import Manager"
   ]
  },
  {
   "cell_type": "code",
   "execution_count": 3,
   "metadata": {},
   "outputs": [],
   "source": [
    "class HUHU(F.AutoPipe):\n",
    "\n",
    "    def __init__(self, name, age, test=5):\n",
    "        super().__init__()\n",
    "        self.name = name\n",
    "        self.age = age\n",
    "        self.test = test"
   ]
  },
  {
   "cell_type": "code",
   "execution_count": 4,
   "metadata": {},
   "outputs": [],
   "source": [
    "class HEHE(F.AutoPipe):\n",
    "\n",
    "    def __init__(self, huhu) -> None:\n",
    "        super().__init__()\n",
    "        self.huhu = huhu"
   ]
  },
  {
   "cell_type": "code",
   "execution_count": 5,
   "metadata": {},
   "outputs": [],
   "source": [
    "class HAHA(F.AutoPipe):\n",
    "\n",
    "    def __init__(self, hehe, huhu) -> None:\n",
    "        super().__init__()\n",
    "        self.hehe = hehe\n",
    "        self.huhu = huhu"
   ]
  },
  {
   "cell_type": "code",
   "execution_count": 6,
   "metadata": {},
   "outputs": [],
   "source": [
    "def wrapper_provider(name, obj):\n",
    "    \n",
    "    if name in {'huhu', 'hehe'}:\n",
    "        obj.check = True\n",
    "    \n",
    "    return obj     "
   ]
  },
  {
   "cell_type": "code",
   "execution_count": 7,
   "metadata": {},
   "outputs": [
    {
     "data": {
      "text/plain": [
       "hihi\n",
       "   |--huhu\n",
       "      |--name\n",
       "      |--age\n",
       "      |--test=<class 'int'>\n",
       "----------------------------------------------------------------------------------------------------\n",
       "haha\n",
       "   |--hehe\n",
       "      |--huhu\n",
       "         |--name\n",
       "         |--age\n",
       "         |--test=<class 'int'>\n",
       "   |--huhu\n",
       "      |--name\n",
       "      |--age\n",
       "      |--test=<class 'int'>\n",
       "----------------------------------------------------------------------------------------------------\n",
       "new_huhu\n",
       "   |--name\n",
       "   |--age\n",
       "   |--test=<class 'int'>\n",
       "----------------------------------------------------------------------------------------------------"
      ]
     },
     "execution_count": 7,
     "metadata": {},
     "output_type": "execute_result"
    }
   ],
   "source": [
    "injector = Manager()\n",
    "injector\\\n",
    "    .add_dependency('huhu', HUHU)\\\n",
    "    .add_dependency('hehe', HEHE)\\\n",
    "    .add_dependency('hihi', HEHE)\\\n",
    "    .add_dependency('haha', HAHA)\\\n",
    "    .duplicate('huhu', 'new_huhu')\\\n",
    "    .add_wrapper(wrapper_provider)"
   ]
  },
  {
   "cell_type": "code",
   "execution_count": 9,
   "metadata": {},
   "outputs": [
    {
     "data": {
      "text/plain": [
       "HAHA(\n",
       "  hehe=HEHE(\n",
       "    huhu=8,\n",
       "    check=True,\n",
       "  ),\n",
       "  huhu=8,\n",
       ")"
      ]
     },
     "execution_count": 9,
     "metadata": {},
     "output_type": "execute_result"
    }
   ],
   "source": [
    "obj, = injector.run('haha', huhu=8)\n",
    "obj"
   ]
  },
  {
   "cell_type": "code",
   "execution_count": 10,
   "metadata": {},
   "outputs": [
    {
     "data": {
      "text/plain": [
       "True"
      ]
     },
     "execution_count": 10,
     "metadata": {},
     "output_type": "execute_result"
    }
   ],
   "source": [
    "obj.hehe.check"
   ]
  },
  {
   "cell_type": "code",
   "execution_count": null,
   "metadata": {},
   "outputs": [],
   "source": []
  }
 ],
 "metadata": {
  "kernelspec": {
   "display_name": "Python 3",
   "language": "python",
   "name": "python3"
  },
  "language_info": {
   "codemirror_mode": {
    "name": "ipython",
    "version": 3
   },
   "file_extension": ".py",
   "mimetype": "text/x-python",
   "name": "python",
   "nbconvert_exporter": "python",
   "pygments_lexer": "ipython3",
   "version": "3.13.5"
  }
 },
 "nbformat": 4,
 "nbformat_minor": 2
}
