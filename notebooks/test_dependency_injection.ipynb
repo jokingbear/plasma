{
 "cells": [
  {
   "cell_type": "code",
   "execution_count": 14,
   "metadata": {},
   "outputs": [
    {
     "name": "stdout",
     "output_type": "stream",
     "text": [
      "/u02/thanh/workplace\n"
     ]
    }
   ],
   "source": [
    "%cd ../"
   ]
  },
  {
   "cell_type": "code",
   "execution_count": 15,
   "metadata": {},
   "outputs": [],
   "source": [
    "import plasma.functional as F\n",
    "\n",
    "from plasma.meta.object_graph import ContextManager, Manager"
   ]
  },
  {
   "cell_type": "code",
   "execution_count": 16,
   "metadata": {},
   "outputs": [],
   "source": [
    "class Handler(F.AutoPipe):\n",
    "\n",
    "    def __init__(self, name, age, test=5):\n",
    "        super().__init__()\n",
    "        self.name = name\n",
    "        self.age = age\n",
    "        self.test = test"
   ]
  },
  {
   "cell_type": "code",
   "execution_count": 17,
   "metadata": {},
   "outputs": [],
   "source": [
    "class Flow(F.AutoPipe):\n",
    "\n",
    "    def __init__(self, handler, bee) -> None:\n",
    "        super().__init__()\n",
    "        self.handler = handler"
   ]
  },
  {
   "cell_type": "code",
   "execution_count": 18,
   "metadata": {},
   "outputs": [],
   "source": [
    "class Service(F.AutoPipe):\n",
    "\n",
    "    def __init__(self, flow:Flow, handler:Handler, test_factory:dict) -> None:\n",
    "        super().__init__()\n",
    "        print(test_factory)\n",
    "        self.flow = flow\n",
    "        self.handler = handler"
   ]
  },
  {
   "cell_type": "code",
   "execution_count": 19,
   "metadata": {},
   "outputs": [],
   "source": [
    "class AnotherHandler(F.AutoPipe):\n",
    "    \n",
    "    def __init__(self, test_factory:dict):\n",
    "        super().__init__()\n",
    "        \n",
    "        self.test_factory = test_factory"
   ]
  },
  {
   "cell_type": "code",
   "execution_count": 20,
   "metadata": {},
   "outputs": [
    {
     "data": {
      "text/plain": []
     },
     "execution_count": 20,
     "metadata": {},
     "output_type": "execute_result"
    }
   ],
   "source": [
    "manager =  ContextManager()\n",
    "manager"
   ]
  },
  {
   "cell_type": "code",
   "execution_count": 21,
   "metadata": {},
   "outputs": [
    {
     "data": {
      "text/plain": [
       "service_components\n",
       "  |-> main\n",
       "    |-> flow: Flow\n",
       "    |-> handler: Handler\n",
       "    |-> test_factory: dict\n",
       "----------------------------------------------------------------------------------------------------\n",
       "service_components\n",
       "  |-> another_handler\n",
       "    |-> test_factory\n",
       "----------------------------------------------------------------------------------------------------"
      ]
     },
     "execution_count": 21,
     "metadata": {},
     "output_type": "execute_result"
    }
   ],
   "source": [
    "service_manager = manager\\\n",
    "    .context('service_components')\\\n",
    "        .add_dependency('main', Service)\\\n",
    "        .add_dependency('another_handler', AnotherHandler)\n",
    "\n",
    "service_manager"
   ]
  },
  {
   "cell_type": "code",
   "execution_count": 22,
   "metadata": {},
   "outputs": [
    {
     "data": {
      "text/plain": [
       "service_components\n",
       "  |-> main\n",
       "    |-> flow: Flow\n",
       "    |-> handler: Handler\n",
       "    |-> test_factory: DependencyFactory\n",
       "      |-> hehe = int\n",
       "----------------------------------------------------------------------------------------------------\n",
       "service_components\n",
       "  |-> another_handler\n",
       "    |-> test_factory...\n",
       "----------------------------------------------------------------------------------------------------"
      ]
     },
     "execution_count": 22,
     "metadata": {},
     "output_type": "execute_result"
    }
   ],
   "source": [
    "factory = service_manager.factory('test_factory')\n",
    "factory['hehe'] = 1\n",
    "\n",
    "service_manager"
   ]
  },
  {
   "cell_type": "code",
   "execution_count": 23,
   "metadata": {},
   "outputs": [
    {
     "data": {
      "text/plain": [
       "plasma.meta.object_graph.contexts.opened.Required"
      ]
     },
     "execution_count": 23,
     "metadata": {},
     "output_type": "execute_result"
    }
   ],
   "source": [
    "main, *_ = service_manager.inputs('main', 'another_handler')\n",
    "main"
   ]
  },
  {
   "cell_type": "code",
   "execution_count": 24,
   "metadata": {},
   "outputs": [
    {
     "data": {
      "text/plain": [
       "package\n",
       "  |-> flow\n",
       "    |-> handler\n",
       "      |-> name\n",
       "      |-> age\n",
       "      |-> test = int\n",
       "    |-> bee\n",
       "----------------------------------------------------------------------------------------------------"
      ]
     },
     "execution_count": 24,
     "metadata": {},
     "output_type": "execute_result"
    }
   ],
   "source": [
    "package_manager = manager\\\n",
    "    .context('package')\\\n",
    "        .add_dependency('flow', Flow)\\\n",
    "        .add_dependency('handler', Handler)\n",
    "package_manager           "
   ]
  },
  {
   "cell_type": "code",
   "execution_count": 25,
   "metadata": {},
   "outputs": [
    {
     "data": {
      "text/plain": [
       "service_components\n",
       "  |-> main\n",
       "    |-> flow: Flow --> package.flow...\n",
       "    |-> handler: Handler --> package.handler...\n",
       "    |-> test_factory: DependencyFactory\n",
       "      |-> hehe = int\n",
       "----------------------------------------------------------------------------------------------------\n",
       "service_components\n",
       "  |-> another_handler\n",
       "    |-> test_factory...\n",
       "----------------------------------------------------------------------------------------------------"
      ]
     },
     "execution_count": 25,
     "metadata": {},
     "output_type": "execute_result"
    }
   ],
   "source": [
    "service_manager.link_name(package_manager)"
   ]
  },
  {
   "cell_type": "code",
   "execution_count": 27,
   "metadata": {},
   "outputs": [
    {
     "data": {
      "text/plain": [
       "{\n",
       "  \"package\": {\n",
       "    \"name\": Required,\n",
       "    \"age\": Required,\n",
       "    \"test\": 5,\n",
       "    \"bee\": Required\n",
       "  },\n",
       "  \"hehe\": 1\n",
       "}"
      ]
     },
     "execution_count": 27,
     "metadata": {},
     "output_type": "execute_result"
    }
   ],
   "source": [
    "inputs = service_manager.inputs('main', 'another_handler')\n",
    "inputs"
   ]
  },
  {
   "cell_type": "code",
   "execution_count": null,
   "metadata": {},
   "outputs": [],
   "source": [
    "main, another_handler = service_manager\\\n",
    "                              .run('main', 'another_handler',\n",
    "                                   package={\n",
    "                                        'name': 'test', \n",
    "                                        'age': 12, \n",
    "                                        'test': 'test', \n",
    "                                        'bee': 'buzz buzz'\n",
    "                                        })"
   ]
  },
  {
   "cell_type": "code",
   "execution_count": null,
   "metadata": {},
   "outputs": [],
   "source": [
    "another_handler"
   ]
  },
  {
   "cell_type": "code",
   "execution_count": null,
   "metadata": {},
   "outputs": [],
   "source": []
  }
 ],
 "metadata": {
  "kernelspec": {
   "display_name": "Python 3",
   "language": "python",
   "name": "python3"
  },
  "language_info": {
   "codemirror_mode": {
    "name": "ipython",
    "version": 3
   },
   "file_extension": ".py",
   "mimetype": "text/x-python",
   "name": "python",
   "nbconvert_exporter": "python",
   "pygments_lexer": "ipython3",
   "version": "3.13.5"
  }
 },
 "nbformat": 4,
 "nbformat_minor": 2
}
