{
 "cells": [
  {
   "cell_type": "code",
   "execution_count": 1,
   "metadata": {},
   "outputs": [
    {
     "name": "stdout",
     "output_type": "stream",
     "text": [
      "/u02/thanh/workplace/plasma\n"
     ]
    }
   ],
   "source": [
    "%cd ../"
   ]
  },
  {
   "cell_type": "code",
   "execution_count": 2,
   "metadata": {},
   "outputs": [],
   "source": [
    "import plasma.functional as F\n",
    "\n",
    "from plasma.meta.object_graph import ContextManager, Inputs"
   ]
  },
  {
   "cell_type": "code",
   "execution_count": 3,
   "metadata": {},
   "outputs": [],
   "source": [
    "class Handler(F.AutoPipe):\n",
    "\n",
    "    def __init__(self, name, age, test=5):\n",
    "        super().__init__()\n",
    "        self.name = name\n",
    "        self.age = age\n",
    "        self.test = test"
   ]
  },
  {
   "cell_type": "code",
   "execution_count": 4,
   "metadata": {},
   "outputs": [],
   "source": [
    "class Flow(F.AutoPipe):\n",
    "\n",
    "    def __init__(self, handler, bee) -> None:\n",
    "        super().__init__()\n",
    "        self.handler = handler"
   ]
  },
  {
   "cell_type": "code",
   "execution_count": 5,
   "metadata": {},
   "outputs": [],
   "source": [
    "class Service(F.AutoPipe):\n",
    "\n",
    "    def __init__(self, flow:Flow, handler:Handler, test_factory:dict, check:int) -> None:\n",
    "        super().__init__()\n",
    "        print(test_factory)\n",
    "        self.flow = flow\n",
    "        self.handler = handler"
   ]
  },
  {
   "cell_type": "code",
   "execution_count": 6,
   "metadata": {},
   "outputs": [],
   "source": [
    "class AnotherHandler(F.AutoPipe):\n",
    "    \n",
    "    def __init__(self, test_factory:dict, check:int, check2:int):\n",
    "        super().__init__()\n",
    "        \n",
    "        self.test_factory = test_factory"
   ]
  },
  {
   "cell_type": "code",
   "execution_count": 7,
   "metadata": {},
   "outputs": [
    {
     "data": {
      "text/plain": []
     },
     "execution_count": 7,
     "metadata": {},
     "output_type": "execute_result"
    }
   ],
   "source": [
    "manager =  ContextManager()\n",
    "manager"
   ]
  },
  {
   "cell_type": "code",
   "execution_count": 8,
   "metadata": {},
   "outputs": [
    {
     "data": {
      "text/plain": [
       "service_components\n",
       "  |-> main\n",
       "    |-> flow: Flow\n",
       "    |-> handler: Handler\n",
       "    |-> test_factory: dict\n",
       "    |-> check: int\n",
       "------------------------------------------\n",
       "service_components\n",
       "  |-> another_handler\n",
       "    |-> test_factory\n",
       "    |-> check\n",
       "    |-> check2: int\n",
       "------------------------------------------"
      ]
     },
     "execution_count": 8,
     "metadata": {},
     "output_type": "execute_result"
    }
   ],
   "source": [
    "service_manager = manager\\\n",
    "    .context('service_components')\\\n",
    "        .add_dependency('main', Service)\\\n",
    "        .add_dependency('another_handler', AnotherHandler)\n",
    "\n",
    "service_manager"
   ]
  },
  {
   "cell_type": "code",
   "execution_count": 9,
   "metadata": {},
   "outputs": [
    {
     "data": {
      "text/plain": [
       "service_components\n",
       "  |-> main\n",
       "    |-> flow: Flow\n",
       "    |-> handler: Handler\n",
       "    |-> test_factory: DependencyFactory\n",
       "      |-> (8, 6) = str\n",
       "    |-> check: int\n",
       "------------------------------------------\n",
       "service_components\n",
       "  |-> another_handler\n",
       "    |-> test_factory...\n",
       "    |-> check\n",
       "    |-> check2: int\n",
       "------------------------------------------"
      ]
     },
     "execution_count": 9,
     "metadata": {},
     "output_type": "execute_result"
    }
   ],
   "source": [
    "factory = service_manager.factory('test_factory')\n",
    "factory[8, 6] = 'hehe'\n",
    "\n",
    "service_manager"
   ]
  },
  {
   "cell_type": "code",
   "execution_count": 10,
   "metadata": {},
   "outputs": [
    {
     "data": {
      "text/plain": [
       "{\n",
       "    check: Required,\n",
       "    check2: Required,\n",
       "    flow: Required,\n",
       "    handler: Required,\n",
       "}"
      ]
     },
     "execution_count": 10,
     "metadata": {},
     "output_type": "execute_result"
    }
   ],
   "source": [
    "service_manager.inputs('main', 'another_handler')"
   ]
  },
  {
   "cell_type": "code",
   "execution_count": 11,
   "metadata": {},
   "outputs": [
    {
     "data": {
      "text/plain": [
       "package\n",
       "  |-> flow\n",
       "    |-> handler\n",
       "      |-> name\n",
       "      |-> age\n",
       "      |-> test = int\n",
       "    |-> bee\n",
       "------------------------------------------"
      ]
     },
     "execution_count": 11,
     "metadata": {},
     "output_type": "execute_result"
    }
   ],
   "source": [
    "package_manager = manager\\\n",
    "    .context('package')\\\n",
    "        .add_dependency('flow', Flow)\\\n",
    "        .add_dependency('handler', Handler)\n",
    "package_manager           "
   ]
  },
  {
   "cell_type": "code",
   "execution_count": 12,
   "metadata": {},
   "outputs": [
    {
     "data": {
      "text/plain": [
       "service_components\n",
       "  |-> main\n",
       "    |-> flow: Flow --> package.flow...\n",
       "    |-> handler: Handler --> package.handler...\n",
       "    |-> test_factory: DependencyFactory\n",
       "      |-> (8, 6) = str\n",
       "    |-> check: int\n",
       "------------------------------------------\n",
       "service_components\n",
       "  |-> another_handler\n",
       "    |-> test_factory...\n",
       "    |-> check\n",
       "    |-> check2: int\n",
       "------------------------------------------"
      ]
     },
     "execution_count": 12,
     "metadata": {},
     "output_type": "execute_result"
    }
   ],
   "source": [
    "service_manager.link_name(package_manager)"
   ]
  },
  {
   "cell_type": "code",
   "execution_count": 13,
   "metadata": {},
   "outputs": [
    {
     "data": {
      "text/plain": [
       "{\n",
       "    package: {\n",
       "        age: Required,\n",
       "        bee: Required,\n",
       "        name: Required,\n",
       "    },\n",
       "    check: Required,\n",
       "    check2: Required,\n",
       "}"
      ]
     },
     "execution_count": 13,
     "metadata": {},
     "output_type": "execute_result"
    }
   ],
   "source": [
    "requirements = service_manager.inputs('main', 'another_handler')\n",
    "requirements"
   ]
  },
  {
   "cell_type": "code",
   "execution_count": 14,
   "metadata": {},
   "outputs": [],
   "source": [
    "class TestInputs2:...\n",
    "\n",
    "\n",
    "class TestInputs(Inputs):\n",
    "    check:int\n",
    "    check2:int\n",
    "    package:TestInputs2\n",
    "\n",
    "\n",
    "class TestInputs2(Inputs):\n",
    "    age:int\n",
    "    bee:str\n",
    "    name:str"
   ]
  },
  {
   "cell_type": "code",
   "execution_count": 15,
   "metadata": {},
   "outputs": [
    {
     "data": {
      "text/plain": [
       "{\n",
       "  check: 8,\n",
       "  check2: 12,\n",
       "  package: {\n",
       "    age: 32,\n",
       "    bee: \"buzzbuzz\",\n",
       "    name: \"tèo\"\n",
       "  }\n",
       "}"
      ]
     },
     "execution_count": 15,
     "metadata": {},
     "output_type": "execute_result"
    }
   ],
   "source": [
    "inputs = TestInputs({'check': 8, 'check2': 12, 'package': {'age': 32, 'bee': 'buzzbuzz', 'name': 'tèo'}})\n",
    "inputs "
   ]
  },
  {
   "cell_type": "code",
   "execution_count": 16,
   "metadata": {},
   "outputs": [
    {
     "name": "stdout",
     "output_type": "stream",
     "text": [
      "service_components\n",
      "  |->\u001b[92m main\n",
      "\u001b[0m    |-> flow: Flow -->\u001b[96m package.\u001b[0mflow...\n",
      "    |-> handler: Handler -->\u001b[96m package.\u001b[0mhandler...\n",
      "    |-> test_factory: DependencyFactory\n",
      "      |-> \u001b[93m(8, 6)\u001b[0m = str\n",
      "    |->\u001b[91m check:\u001b[0m int\n",
      "------------------------------------------\n",
      "service_components\n",
      "  |->\u001b[92m another_handler\n",
      "\u001b[0m    |-> test_factory...\n",
      "    |->\u001b[91m check\n",
      "\u001b[0m    |->\u001b[91m check2:\u001b[0m int\n",
      "------------------------------------------\n",
      "{(8, 6): 'hehe'}\n"
     ]
    }
   ],
   "source": [
    "main, handler = inputs.init(service_manager, 'main', 'another_handler')"
   ]
  },
  {
   "cell_type": "code",
   "execution_count": 17,
   "metadata": {},
   "outputs": [
    {
     "data": {
      "text/plain": [
       "Service(\n",
       "  flow=Flow(\n",
       "    handler=Handler(\n",
       "      name='tèo',\n",
       "      age=32,\n",
       "      test=5,\n",
       "    ),\n",
       "  ),\n",
       "  handler=Handler(\n",
       "    name='tèo',\n",
       "    age=32,\n",
       "    test=5,\n",
       "  ),\n",
       ")"
      ]
     },
     "execution_count": 17,
     "metadata": {},
     "output_type": "execute_result"
    }
   ],
   "source": [
    "main"
   ]
  },
  {
   "cell_type": "code",
   "execution_count": 18,
   "metadata": {},
   "outputs": [
    {
     "data": {
      "text/plain": [
       "AnotherHandler(\n",
       "  test_factory={(8, 6): 'hehe'},\n",
       ")"
      ]
     },
     "execution_count": 18,
     "metadata": {},
     "output_type": "execute_result"
    }
   ],
   "source": [
    "handler"
   ]
  },
  {
   "cell_type": "code",
   "execution_count": null,
   "metadata": {},
   "outputs": [],
   "source": []
  }
 ],
 "metadata": {
  "kernelspec": {
   "display_name": "Python 3",
   "language": "python",
   "name": "python3"
  },
  "language_info": {
   "codemirror_mode": {
    "name": "ipython",
    "version": 3
   },
   "file_extension": ".py",
   "mimetype": "text/x-python",
   "name": "python",
   "nbconvert_exporter": "python",
   "pygments_lexer": "ipython3",
   "version": "3.13.5"
  }
 },
 "nbformat": 4,
 "nbformat_minor": 2
}
