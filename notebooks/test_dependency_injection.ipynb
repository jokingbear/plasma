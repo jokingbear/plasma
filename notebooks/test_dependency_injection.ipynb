{
 "cells": [
  {
   "cell_type": "code",
   "execution_count": 1,
   "metadata": {},
   "outputs": [
    {
     "name": "stdout",
     "output_type": "stream",
     "text": [
      "/u02/thanh/workplace/plasma\n"
     ]
    }
   ],
   "source": [
    "%cd ../"
   ]
  },
  {
   "cell_type": "code",
   "execution_count": 2,
   "metadata": {},
   "outputs": [
    {
     "name": "stderr",
     "output_type": "stream",
     "text": [
      "/u02/thanh/workplace/plasma/.env/RnD/lib/python3.13/site-packages/tqdm/auto.py:21: TqdmWarning: IProgress not found. Please update jupyter and ipywidgets. See https://ipywidgets.readthedocs.io/en/stable/user_install.html\n",
      "  from .autonotebook import tqdm as notebook_tqdm\n"
     ]
    }
   ],
   "source": [
    "import plasma.functional as F\n",
    "\n",
    "from plasma.meta.object_graph import ContextManager, Manager"
   ]
  },
  {
   "cell_type": "code",
   "execution_count": 3,
   "metadata": {},
   "outputs": [],
   "source": [
    "class HUHU(F.AutoPipe):\n",
    "\n",
    "    def __init__(self, name, age, test=5):\n",
    "        super().__init__()\n",
    "        self.name = name\n",
    "        self.age = age\n",
    "        self.test = test"
   ]
  },
  {
   "cell_type": "code",
   "execution_count": 4,
   "metadata": {},
   "outputs": [],
   "source": [
    "class HEHE(F.AutoPipe):\n",
    "\n",
    "    def __init__(self, huhu, bee) -> None:\n",
    "        super().__init__()\n",
    "        self.huhu = huhu"
   ]
  },
  {
   "cell_type": "code",
   "execution_count": 5,
   "metadata": {},
   "outputs": [],
   "source": [
    "class HAHA(F.AutoPipe):\n",
    "\n",
    "    def __init__(self, hehe:HEHE, huhu:HUHU, test_factory:dict) -> None:\n",
    "        super().__init__()\n",
    "        print(test_factory)\n",
    "        self.hehe = hehe\n",
    "        self.huhu = huhu"
   ]
  },
  {
   "cell_type": "code",
   "execution_count": 6,
   "metadata": {},
   "outputs": [
    {
     "data": {
      "text/plain": []
     },
     "execution_count": 6,
     "metadata": {},
     "output_type": "execute_result"
    }
   ],
   "source": [
    "manager =  ContextManager()\n",
    "manager"
   ]
  },
  {
   "cell_type": "code",
   "execution_count": 7,
   "metadata": {},
   "outputs": [
    {
     "ename": "AttributeError",
     "evalue": "'MultiDiGraph' object has no attribute 'add_context'",
     "output_type": "error",
     "traceback": [
      "\u001b[31m---------------------------------------------------------------------------\u001b[39m",
      "\u001b[31mAttributeError\u001b[39m                            Traceback (most recent call last)",
      "\u001b[36mCell\u001b[39m\u001b[36m \u001b[39m\u001b[32mIn[7]\u001b[39m\u001b[32m, line 2\u001b[39m\n\u001b[32m      1\u001b[39m \u001b[43mmanager\u001b[49m\u001b[43m\\\u001b[49m\n\u001b[32m----> \u001b[39m\u001b[32m2\u001b[39m \u001b[43m    \u001b[49m\u001b[43m.\u001b[49m\u001b[43minit_context\u001b[49m\u001b[43m(\u001b[49m\u001b[33;43m'\u001b[39;49m\u001b[33;43mtest\u001b[39;49m\u001b[33;43m'\u001b[39;49m\u001b[43m)\u001b[49m\\\n\u001b[32m      3\u001b[39m         .add_dependency(\u001b[33m'\u001b[39m\u001b[33mhaha\u001b[39m\u001b[33m'\u001b[39m, HAHA)\n",
      "\u001b[36mFile \u001b[39m\u001b[32m/u02/thanh/workplace/plasma/plasma/meta/object_graph/managed.py:16\u001b[39m, in \u001b[36mContextManager.init_context\u001b[39m\u001b[34m(self, context)\u001b[39m\n\u001b[32m     15\u001b[39m \u001b[38;5;28;01mdef\u001b[39;00m\u001b[38;5;250m \u001b[39m\u001b[34minit_context\u001b[39m(\u001b[38;5;28mself\u001b[39m, context:Hashable):\n\u001b[32m---> \u001b[39m\u001b[32m16\u001b[39m     \u001b[38;5;28;01mreturn\u001b[39;00m \u001b[43mManagedContext\u001b[49m\u001b[43m(\u001b[49m\u001b[38;5;28;43mself\u001b[39;49m\u001b[43m.\u001b[49m\u001b[43m_graph\u001b[49m\u001b[43m,\u001b[49m\u001b[43m \u001b[49m\u001b[43mcontext\u001b[49m\u001b[43m)\u001b[49m\n",
      "\u001b[36mFile \u001b[39m\u001b[32m/u02/thanh/workplace/plasma/plasma/meta/object_graph/contexts/base.py:21\u001b[39m, in \u001b[36mBase.__init__\u001b[39m\u001b[34m(self, graph, name)\u001b[39m\n\u001b[32m     18\u001b[39m     parent_path = path.parent\n\u001b[32m     19\u001b[39m     name = parent_path.name\n\u001b[32m---> \u001b[39m\u001b[32m21\u001b[39m \u001b[43mgraph\u001b[49m\u001b[43m.\u001b[49m\u001b[43madd_context\u001b[49m(name)\n\u001b[32m     22\u001b[39m \u001b[38;5;28mself\u001b[39m.graph = graph\n\u001b[32m     23\u001b[39m \u001b[38;5;28mself\u001b[39m.name = name\n",
      "\u001b[31mAttributeError\u001b[39m: 'MultiDiGraph' object has no attribute 'add_context'"
     ]
    }
   ],
   "source": [
    "manager\\\n",
    "    .init_context('test')\\\n",
    "        .add_dependency('haha', HAHA)"
   ]
  },
  {
   "cell_type": "code",
   "execution_count": null,
   "metadata": {},
   "outputs": [],
   "source": [
    "manager\\\n",
    "    .init_context('test2')\\\n",
    "    .add_dependency('huhu', HUHU)\\\n",
    "        .manager\\\n",
    "            .link(['test.huhu', 'test2.huhu'])\n",
    "                "
   ]
  },
  {
   "cell_type": "code",
   "execution_count": null,
   "metadata": {},
   "outputs": [],
   "source": []
  }
 ],
 "metadata": {
  "kernelspec": {
   "display_name": "Python 3",
   "language": "python",
   "name": "python3"
  },
  "language_info": {
   "codemirror_mode": {
    "name": "ipython",
    "version": 3
   },
   "file_extension": ".py",
   "mimetype": "text/x-python",
   "name": "python",
   "nbconvert_exporter": "python",
   "pygments_lexer": "ipython3",
   "version": "3.13.5"
  }
 },
 "nbformat": 4,
 "nbformat_minor": 2
}
