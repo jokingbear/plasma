{
 "cells": [
  {
   "cell_type": "code",
   "execution_count": 1,
   "id": "41e0740a",
   "metadata": {},
   "outputs": [
    {
     "name": "stdout",
     "output_type": "stream",
     "text": [
      "/u02/thanh/workplace/plasma\n"
     ]
    }
   ],
   "source": [
    "%cd .."
   ]
  },
  {
   "cell_type": "code",
   "execution_count": 2,
   "id": "a20b3aa0",
   "metadata": {},
   "outputs": [],
   "source": [
    "import plasma.functional as F"
   ]
  },
  {
   "cell_type": "code",
   "execution_count": 3,
   "id": "7372924b",
   "metadata": {},
   "outputs": [],
   "source": [
    "class Test(F.AutoPipe):\n",
    "\n",
    "    def run(self, x:list[int]):\n",
    "        return x * 2"
   ]
  },
  {
   "cell_type": "code",
   "execution_count": 4,
   "id": "d69ce5c6",
   "metadata": {},
   "outputs": [],
   "source": [
    "a = Test()"
   ]
  },
  {
   "cell_type": "code",
   "execution_count": 5,
   "id": "b9b01437",
   "metadata": {},
   "outputs": [
    {
     "data": {
      "text/plain": [
       "4"
      ]
     },
     "execution_count": 5,
     "metadata": {},
     "output_type": "execute_result"
    }
   ],
   "source": [
    "a(2)"
   ]
  },
  {
   "cell_type": "code",
   "execution_count": null,
   "id": "d4353ad8",
   "metadata": {},
   "outputs": [],
   "source": []
  }
 ],
 "metadata": {
  "kernelspec": {
   "display_name": "Python 3",
   "language": "python",
   "name": "python3"
  },
  "language_info": {
   "codemirror_mode": {
    "name": "ipython",
    "version": 3
   },
   "file_extension": ".py",
   "mimetype": "text/x-python",
   "name": "python",
   "nbconvert_exporter": "python",
   "pygments_lexer": "ipython3",
   "version": "3.13.5"
  }
 },
 "nbformat": 4,
 "nbformat_minor": 5
}
