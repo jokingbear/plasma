{
 "cells": [
  {
   "cell_type": "code",
   "execution_count": 1,
   "id": "41e0740a",
   "metadata": {},
   "outputs": [
    {
     "name": "stdout",
     "output_type": "stream",
     "text": [
      "/u02/thanh/workplace/plasma\n"
     ]
    }
   ],
   "source": [
    "%cd .."
   ]
  },
  {
   "cell_type": "code",
   "execution_count": 2,
   "id": "a20b3aa0",
   "metadata": {},
   "outputs": [
    {
     "name": "stderr",
     "output_type": "stream",
     "text": [
      "/u02/thanh/workplace/plasma/.env/RnD/lib/python3.13/site-packages/tqdm/auto.py:21: TqdmWarning: IProgress not found. Please update jupyter and ipywidgets. See https://ipywidgets.readthedocs.io/en/stable/user_install.html\n",
      "  from .autonotebook import tqdm as notebook_tqdm\n"
     ]
    }
   ],
   "source": [
    "import plasma.functional as F"
   ]
  },
  {
   "cell_type": "code",
   "execution_count": 3,
   "id": "7372924b",
   "metadata": {},
   "outputs": [
    {
     "name": "stderr",
     "output_type": "stream",
     "text": [
      "/tmp/ipykernel_3638599/2579671288.py:1: DeprecationWarning: use typing.Callable instead\n",
      "  class Test(F.SimplePipe):\n"
     ]
    }
   ],
   "source": [
    "class Test(F.SimplePipe):\n",
    "\n",
    "    def run(self, x:list[int]):\n",
    "        return x"
   ]
  },
  {
   "cell_type": "code",
   "execution_count": 4,
   "id": "d69ce5c6",
   "metadata": {},
   "outputs": [],
   "source": [
    "a = Test()"
   ]
  },
  {
   "cell_type": "code",
   "execution_count": 16,
   "id": "b79f7eb8",
   "metadata": {},
   "outputs": [],
   "source": [
    "import inspect\n",
    "import typing"
   ]
  },
  {
   "cell_type": "code",
   "execution_count": 6,
   "id": "445f2815",
   "metadata": {},
   "outputs": [
    {
     "data": {
      "text/plain": [
       "True"
      ]
     },
     "execution_count": 6,
     "metadata": {},
     "output_type": "execute_result"
    }
   ],
   "source": [
    "callable(a)"
   ]
  },
  {
   "cell_type": "code",
   "execution_count": 7,
   "id": "490f0d11",
   "metadata": {},
   "outputs": [],
   "source": [
    "b = inspect.signature(a)"
   ]
  },
  {
   "cell_type": "code",
   "execution_count": 10,
   "id": "7d342173",
   "metadata": {},
   "outputs": [
    {
     "data": {
      "text/plain": [
       "'list'"
      ]
     },
     "execution_count": 10,
     "metadata": {},
     "output_type": "execute_result"
    }
   ],
   "source": [
    "b.parameters['x'].annotation.__name__"
   ]
  },
  {
   "cell_type": "code",
   "execution_count": 26,
   "id": "30b00b55",
   "metadata": {},
   "outputs": [],
   "source": [
    "def render_annotation(t:type):\n",
    "    args = typing.get_args(t)\n",
    "    \n",
    "    if len(args) == 0:\n",
    "        return t.__name__\n",
    "    else:\n",
    "        txt = []\n",
    "        for a in args:\n",
    "            if isinstance(a, list):\n",
    "                rendered_args = [render_annotation(temp) for temp in a]\n",
    "                txt.append('[' + ', '.join(rendered_args) + ']')\n",
    "            else:\n",
    "                txt.append(render_annotation(a))\n",
    "        txt = ','.join(txt)\n",
    "        return f'{t.__name__}[{txt}]' "
   ]
  },
  {
   "cell_type": "code",
   "execution_count": null,
   "id": "62581e80",
   "metadata": {},
   "outputs": [
    {
     "data": {
      "text/plain": [
       "'Callable[[int, str],dict]'"
      ]
     },
     "execution_count": 27,
     "metadata": {},
     "output_type": "execute_result"
    }
   ],
   "source": [
    "render_annotation(typing.Callable[[int, str], dict])"
   ]
  },
  {
   "cell_type": "code",
   "execution_count": null,
   "id": "659f4f29",
   "metadata": {},
   "outputs": [],
   "source": []
  }
 ],
 "metadata": {
  "kernelspec": {
   "display_name": "Python 3",
   "language": "python",
   "name": "python3"
  },
  "language_info": {
   "codemirror_mode": {
    "name": "ipython",
    "version": 3
   },
   "file_extension": ".py",
   "mimetype": "text/x-python",
   "name": "python",
   "nbconvert_exporter": "python",
   "pygments_lexer": "ipython3",
   "version": "3.13.5"
  }
 },
 "nbformat": 4,
 "nbformat_minor": 5
}
