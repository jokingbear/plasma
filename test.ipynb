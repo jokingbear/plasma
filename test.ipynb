{
 "cells": [
  {
   "cell_type": "code",
   "execution_count": 3,
   "metadata": {},
   "outputs": [
    {
     "name": "stdout",
     "output_type": "stream",
     "text": [
      "viêm phổi\n",
      "{'GraphMatcher._compare_tokens': '0.05s'}\n",
      "{'GraphMatcher._analyze_path': '0.03s'}\n"
     ]
    },
    {
     "name": "stderr",
     "output_type": "stream",
     "text": [
      "mapping database: 100%|██████████| 5/5 [00:00<00:00, 90.16it/s]"
     ]
    },
    {
     "name": "stdout",
     "output_type": "stream",
     "text": [
      "{'GraphMatcher._map_data': '0.15s'}\n",
      "{'GraphMatcher._standardize_data': '0.07s'}\n",
      "{'GraphMatcher.run': '0.31s'}\n"
     ]
    },
    {
     "name": "stderr",
     "output_type": "stream",
     "text": [
      "\n"
     ]
    },
    {
     "data": {
      "text/html": [
       "<div>\n",
       "<style scoped>\n",
       "    .dataframe tbody tr th:only-of-type {\n",
       "        vertical-align: middle;\n",
       "    }\n",
       "\n",
       "    .dataframe tbody tr th {\n",
       "        vertical-align: top;\n",
       "    }\n",
       "\n",
       "    .dataframe thead th {\n",
       "        text-align: right;\n",
       "    }\n",
       "</style>\n",
       "<table border=\"1\" class=\"dataframe\">\n",
       "  <thead>\n",
       "    <tr style=\"text-align: right;\">\n",
       "      <th></th>\n",
       "      <th></th>\n",
       "      <th>data_index</th>\n",
       "      <th>original_text</th>\n",
       "      <th>substring_matching_score</th>\n",
       "      <th>word_coverage_score</th>\n",
       "      <th>matched_len</th>\n",
       "    </tr>\n",
       "    <tr>\n",
       "      <th>query_start_index</th>\n",
       "      <th>query_end_index</th>\n",
       "      <th></th>\n",
       "      <th></th>\n",
       "      <th></th>\n",
       "      <th></th>\n",
       "      <th></th>\n",
       "    </tr>\n",
       "  </thead>\n",
       "  <tbody>\n",
       "    <tr>\n",
       "      <th rowspan=\"5\" valign=\"top\">0</th>\n",
       "      <th>9</th>\n",
       "      <td>8999</td>\n",
       "      <td>Cúm và viêm phổi</td>\n",
       "      <td>1.0</td>\n",
       "      <td>0.5</td>\n",
       "      <td>9</td>\n",
       "    </tr>\n",
       "    <tr>\n",
       "      <th>9</th>\n",
       "      <td>9019</td>\n",
       "      <td>Viêm phổi do adenovirus</td>\n",
       "      <td>1.0</td>\n",
       "      <td>0.5</td>\n",
       "      <td>9</td>\n",
       "    </tr>\n",
       "    <tr>\n",
       "      <th>9</th>\n",
       "      <td>9040</td>\n",
       "      <td>Viêm phổi do Pseudomonas</td>\n",
       "      <td>1.0</td>\n",
       "      <td>0.5</td>\n",
       "      <td>9</td>\n",
       "    </tr>\n",
       "    <tr>\n",
       "      <th>9</th>\n",
       "      <td>9060</td>\n",
       "      <td>Viêm phổi do chlamydia</td>\n",
       "      <td>1.0</td>\n",
       "      <td>0.5</td>\n",
       "      <td>9</td>\n",
       "    </tr>\n",
       "    <tr>\n",
       "      <th>9</th>\n",
       "      <td>16843</td>\n",
       "      <td>Viêm phổi bẩm sinh</td>\n",
       "      <td>1.0</td>\n",
       "      <td>0.5</td>\n",
       "      <td>9</td>\n",
       "    </tr>\n",
       "  </tbody>\n",
       "</table>\n",
       "</div>"
      ],
      "text/plain": [
       "                                   data_index             original_text  \\\n",
       "query_start_index query_end_index                                         \n",
       "0                 9                      8999          Cúm và viêm phổi   \n",
       "                  9                      9019   Viêm phổi do adenovirus   \n",
       "                  9                      9040  Viêm phổi do Pseudomonas   \n",
       "                  9                      9060    Viêm phổi do chlamydia   \n",
       "                  9                     16843        Viêm phổi bẩm sinh   \n",
       "\n",
       "                                   substring_matching_score  \\\n",
       "query_start_index query_end_index                             \n",
       "0                 9                                     1.0   \n",
       "                  9                                     1.0   \n",
       "                  9                                     1.0   \n",
       "                  9                                     1.0   \n",
       "                  9                                     1.0   \n",
       "\n",
       "                                   word_coverage_score  matched_len  \n",
       "query_start_index query_end_index                                    \n",
       "0                 9                                0.5            9  \n",
       "                  9                                0.5            9  \n",
       "                  9                                0.5            9  \n",
       "                  9                                0.5            9  \n",
       "                  9                                0.5            9  "
      ]
     },
     "execution_count": 3,
     "metadata": {},
     "output_type": "execute_result"
    }
   ],
   "source": [
    "import plasma.search_engines as ses\n",
    "import pandas as pd\n",
    "\n",
    "\n",
    "df = pd.read_feather('/home/thanh/development/u02/thanhhm/xproject/as/databases/icd10.feather')\n",
    "engine = ses.GraphMatcher(\n",
    "    df['name'], \n",
    "    group_splitter='([^:\\n;?!.()]+)',\n",
    "    top_k=5\n",
    ")\n",
    "\n",
    "query = 'viêm phổi'\n",
    "results = engine.run(query)\n",
    "results"
   ]
  },
  {
   "cell_type": "code",
   "execution_count": null,
   "metadata": {},
   "outputs": [],
   "source": []
  }
 ],
 "metadata": {
  "kernelspec": {
   "display_name": "Python 3",
   "language": "python",
   "name": "python3"
  },
  "language_info": {
   "codemirror_mode": {
    "name": "ipython",
    "version": 3
   },
   "file_extension": ".py",
   "mimetype": "text/x-python",
   "name": "python",
   "nbconvert_exporter": "python",
   "pygments_lexer": "ipython3",
   "version": "3.12.2"
  }
 },
 "nbformat": 4,
 "nbformat_minor": 2
}
