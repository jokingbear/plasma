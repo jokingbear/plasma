{
 "cells": [
  {
   "cell_type": "code",
   "execution_count": 1,
   "metadata": {},
   "outputs": [],
   "source": [
    "import aioftp"
   ]
  },
  {
   "cell_type": "code",
   "execution_count": 2,
   "metadata": {},
   "outputs": [],
   "source": [
    "client = aioftp.Client()"
   ]
  },
  {
   "cell_type": "code",
   "execution_count": 3,
   "metadata": {},
   "outputs": [
    {
     "ename": "gaierror",
     "evalue": "[Errno 8] nodename nor servname provided, or not known",
     "output_type": "error",
     "traceback": [
      "\u001b[0;31m---------------------------------------------------------------------------\u001b[0m",
      "\u001b[0;31mgaierror\u001b[0m                                  Traceback (most recent call last)",
      "\u001b[1;32m/Users/vinbrain/Desktop/research-idea/test.ipynb Cell 3\u001b[0m in \u001b[0;36m<cell line: 1>\u001b[0;34m()\u001b[0m\n\u001b[0;32m----> <a href='vscode-notebook-cell:/Users/vinbrain/Desktop/research-idea/test.ipynb#W2sZmlsZQ%3D%3D?line=0'>1</a>\u001b[0m \u001b[39mawait\u001b[39;00m client\u001b[39m.\u001b[39mconnect(\u001b[39m\"\u001b[39m\u001b[39mftp://puredl@141.24.24.111:50021\u001b[39m\u001b[39m\"\u001b[39m)\n\u001b[1;32m      <a href='vscode-notebook-cell:/Users/vinbrain/Desktop/research-idea/test.ipynb#W2sZmlsZQ%3D%3D?line=1'>2</a>\u001b[0m \u001b[39mawait\u001b[39;00m client\u001b[39m.\u001b[39mlogin(\u001b[39m\"\u001b[39m\u001b[39mpuredl\u001b[39m\u001b[39m\"\u001b[39m, \u001b[39m\"\u001b[39m\u001b[39mF#365\u001b[39m\u001b[39m%\u001b[39m\u001b[39m!z\u001b[39m\u001b[39m\"\u001b[39m)\n",
      "File \u001b[0;32m/opt/homebrew/lib/python3.9/site-packages/aioftp/client.py:627\u001b[0m, in \u001b[0;36mClient.connect\u001b[0;34m(self, host, port)\u001b[0m\n\u001b[1;32m    615\u001b[0m \u001b[39masync\u001b[39;00m \u001b[39mdef\u001b[39;00m \u001b[39mconnect\u001b[39m(\u001b[39mself\u001b[39m, host, port\u001b[39m=\u001b[39mDEFAULT_PORT):\n\u001b[1;32m    616\u001b[0m     \u001b[39m\"\"\"\u001b[39;00m\n\u001b[1;32m    617\u001b[0m \u001b[39m    :py:func:`asyncio.coroutine`\u001b[39;00m\n\u001b[1;32m    618\u001b[0m \n\u001b[0;32m   (...)\u001b[0m\n\u001b[1;32m    625\u001b[0m \u001b[39m    :type port: :py:class:`int`\u001b[39;00m\n\u001b[1;32m    626\u001b[0m \u001b[39m    \"\"\"\u001b[39;00m\n\u001b[0;32m--> 627\u001b[0m     \u001b[39mawait\u001b[39;00m \u001b[39msuper\u001b[39m()\u001b[39m.\u001b[39mconnect(host, port)\n\u001b[1;32m    628\u001b[0m     code, info \u001b[39m=\u001b[39m \u001b[39mawait\u001b[39;00m \u001b[39mself\u001b[39m\u001b[39m.\u001b[39mcommand(\u001b[39mNone\u001b[39;00m, \u001b[39m\"\u001b[39m\u001b[39m220\u001b[39m\u001b[39m\"\u001b[39m, \u001b[39m\"\u001b[39m\u001b[39m120\u001b[39m\u001b[39m\"\u001b[39m)\n\u001b[1;32m    629\u001b[0m     \u001b[39mreturn\u001b[39;00m info\n",
      "File \u001b[0;32m/opt/homebrew/lib/python3.9/site-packages/aioftp/client.py:142\u001b[0m, in \u001b[0;36mBaseClient.connect\u001b[0;34m(self, host, port)\u001b[0m\n\u001b[1;32m    140\u001b[0m \u001b[39mself\u001b[39m\u001b[39m.\u001b[39mserver_host \u001b[39m=\u001b[39m host\n\u001b[1;32m    141\u001b[0m \u001b[39mself\u001b[39m\u001b[39m.\u001b[39mserver_port \u001b[39m=\u001b[39m port\n\u001b[0;32m--> 142\u001b[0m reader, writer \u001b[39m=\u001b[39m \u001b[39mawait\u001b[39;00m asyncio\u001b[39m.\u001b[39mwait_for(\n\u001b[1;32m    143\u001b[0m     \u001b[39mself\u001b[39m\u001b[39m.\u001b[39m_open_connection(host, port),\n\u001b[1;32m    144\u001b[0m     \u001b[39mself\u001b[39m\u001b[39m.\u001b[39mconnection_timeout,\n\u001b[1;32m    145\u001b[0m )\n\u001b[1;32m    146\u001b[0m \u001b[39mself\u001b[39m\u001b[39m.\u001b[39mstream \u001b[39m=\u001b[39m ThrottleStreamIO(\n\u001b[1;32m    147\u001b[0m     reader,\n\u001b[1;32m    148\u001b[0m     writer,\n\u001b[1;32m    149\u001b[0m     throttles\u001b[39m=\u001b[39m{\u001b[39m\"\u001b[39m\u001b[39m_\u001b[39m\u001b[39m\"\u001b[39m: \u001b[39mself\u001b[39m\u001b[39m.\u001b[39mthrottle},\n\u001b[1;32m    150\u001b[0m     timeout\u001b[39m=\u001b[39m\u001b[39mself\u001b[39m\u001b[39m.\u001b[39msocket_timeout,\n\u001b[1;32m    151\u001b[0m )\n",
      "File \u001b[0;32m/opt/homebrew/Cellar/python@3.9/3.9.9/Frameworks/Python.framework/Versions/3.9/lib/python3.9/asyncio/tasks.py:442\u001b[0m, in \u001b[0;36mwait_for\u001b[0;34m(fut, timeout, loop)\u001b[0m\n\u001b[1;32m    437\u001b[0m     warnings\u001b[39m.\u001b[39mwarn(\u001b[39m\"\u001b[39m\u001b[39mThe loop argument is deprecated since Python 3.8, \u001b[39m\u001b[39m\"\u001b[39m\n\u001b[1;32m    438\u001b[0m                   \u001b[39m\"\u001b[39m\u001b[39mand scheduled for removal in Python 3.10.\u001b[39m\u001b[39m\"\u001b[39m,\n\u001b[1;32m    439\u001b[0m                   \u001b[39mDeprecationWarning\u001b[39;00m, stacklevel\u001b[39m=\u001b[39m\u001b[39m2\u001b[39m)\n\u001b[1;32m    441\u001b[0m \u001b[39mif\u001b[39;00m timeout \u001b[39mis\u001b[39;00m \u001b[39mNone\u001b[39;00m:\n\u001b[0;32m--> 442\u001b[0m     \u001b[39mreturn\u001b[39;00m \u001b[39mawait\u001b[39;00m fut\n\u001b[1;32m    444\u001b[0m \u001b[39mif\u001b[39;00m timeout \u001b[39m<\u001b[39m\u001b[39m=\u001b[39m \u001b[39m0\u001b[39m:\n\u001b[1;32m    445\u001b[0m     fut \u001b[39m=\u001b[39m ensure_future(fut, loop\u001b[39m=\u001b[39mloop)\n",
      "File \u001b[0;32m/opt/homebrew/Cellar/python@3.9/3.9.9/Frameworks/Python.framework/Versions/3.9/lib/python3.9/asyncio/streams.py:52\u001b[0m, in \u001b[0;36mopen_connection\u001b[0;34m(host, port, loop, limit, **kwds)\u001b[0m\n\u001b[1;32m     50\u001b[0m reader \u001b[39m=\u001b[39m StreamReader(limit\u001b[39m=\u001b[39mlimit, loop\u001b[39m=\u001b[39mloop)\n\u001b[1;32m     51\u001b[0m protocol \u001b[39m=\u001b[39m StreamReaderProtocol(reader, loop\u001b[39m=\u001b[39mloop)\n\u001b[0;32m---> 52\u001b[0m transport, _ \u001b[39m=\u001b[39m \u001b[39mawait\u001b[39;00m loop\u001b[39m.\u001b[39mcreate_connection(\n\u001b[1;32m     53\u001b[0m     \u001b[39mlambda\u001b[39;00m: protocol, host, port, \u001b[39m*\u001b[39m\u001b[39m*\u001b[39mkwds)\n\u001b[1;32m     54\u001b[0m writer \u001b[39m=\u001b[39m StreamWriter(transport, protocol, reader, loop)\n\u001b[1;32m     55\u001b[0m \u001b[39mreturn\u001b[39;00m reader, writer\n",
      "File \u001b[0;32m/opt/homebrew/Cellar/python@3.9/3.9.9/Frameworks/Python.framework/Versions/3.9/lib/python3.9/asyncio/base_events.py:1017\u001b[0m, in \u001b[0;36mBaseEventLoop.create_connection\u001b[0;34m(self, protocol_factory, host, port, ssl, family, proto, flags, sock, local_addr, server_hostname, ssl_handshake_timeout, happy_eyeballs_delay, interleave)\u001b[0m\n\u001b[1;32m   1013\u001b[0m \u001b[39mif\u001b[39;00m sock \u001b[39mis\u001b[39;00m \u001b[39mnot\u001b[39;00m \u001b[39mNone\u001b[39;00m:\n\u001b[1;32m   1014\u001b[0m     \u001b[39mraise\u001b[39;00m \u001b[39mValueError\u001b[39;00m(\n\u001b[1;32m   1015\u001b[0m         \u001b[39m'\u001b[39m\u001b[39mhost/port and sock can not be specified at the same time\u001b[39m\u001b[39m'\u001b[39m)\n\u001b[0;32m-> 1017\u001b[0m infos \u001b[39m=\u001b[39m \u001b[39mawait\u001b[39;00m \u001b[39mself\u001b[39m\u001b[39m.\u001b[39m_ensure_resolved(\n\u001b[1;32m   1018\u001b[0m     (host, port), family\u001b[39m=\u001b[39mfamily,\n\u001b[1;32m   1019\u001b[0m     \u001b[39mtype\u001b[39m\u001b[39m=\u001b[39msocket\u001b[39m.\u001b[39mSOCK_STREAM, proto\u001b[39m=\u001b[39mproto, flags\u001b[39m=\u001b[39mflags, loop\u001b[39m=\u001b[39m\u001b[39mself\u001b[39m)\n\u001b[1;32m   1020\u001b[0m \u001b[39mif\u001b[39;00m \u001b[39mnot\u001b[39;00m infos:\n\u001b[1;32m   1021\u001b[0m     \u001b[39mraise\u001b[39;00m \u001b[39mOSError\u001b[39;00m(\u001b[39m'\u001b[39m\u001b[39mgetaddrinfo() returned empty list\u001b[39m\u001b[39m'\u001b[39m)\n",
      "File \u001b[0;32m/opt/homebrew/Cellar/python@3.9/3.9.9/Frameworks/Python.framework/Versions/3.9/lib/python3.9/asyncio/base_events.py:1396\u001b[0m, in \u001b[0;36mBaseEventLoop._ensure_resolved\u001b[0;34m(self, address, family, type, proto, flags, loop)\u001b[0m\n\u001b[1;32m   1394\u001b[0m     \u001b[39mreturn\u001b[39;00m [info]\n\u001b[1;32m   1395\u001b[0m \u001b[39melse\u001b[39;00m:\n\u001b[0;32m-> 1396\u001b[0m     \u001b[39mreturn\u001b[39;00m \u001b[39mawait\u001b[39;00m loop\u001b[39m.\u001b[39mgetaddrinfo(host, port, family\u001b[39m=\u001b[39mfamily, \u001b[39mtype\u001b[39m\u001b[39m=\u001b[39m\u001b[39mtype\u001b[39m,\n\u001b[1;32m   1397\u001b[0m                                   proto\u001b[39m=\u001b[39mproto, flags\u001b[39m=\u001b[39mflags)\n",
      "File \u001b[0;32m/opt/homebrew/Cellar/python@3.9/3.9.9/Frameworks/Python.framework/Versions/3.9/lib/python3.9/asyncio/base_events.py:856\u001b[0m, in \u001b[0;36mBaseEventLoop.getaddrinfo\u001b[0;34m(self, host, port, family, type, proto, flags)\u001b[0m\n\u001b[1;32m    853\u001b[0m \u001b[39melse\u001b[39;00m:\n\u001b[1;32m    854\u001b[0m     getaddr_func \u001b[39m=\u001b[39m socket\u001b[39m.\u001b[39mgetaddrinfo\n\u001b[0;32m--> 856\u001b[0m \u001b[39mreturn\u001b[39;00m \u001b[39mawait\u001b[39;00m \u001b[39mself\u001b[39m\u001b[39m.\u001b[39mrun_in_executor(\n\u001b[1;32m    857\u001b[0m     \u001b[39mNone\u001b[39;00m, getaddr_func, host, port, family, \u001b[39mtype\u001b[39m, proto, flags)\n",
      "File \u001b[0;32m/opt/homebrew/Cellar/python@3.9/3.9.9/Frameworks/Python.framework/Versions/3.9/lib/python3.9/concurrent/futures/thread.py:58\u001b[0m, in \u001b[0;36m_WorkItem.run\u001b[0;34m(self)\u001b[0m\n\u001b[1;32m     55\u001b[0m     \u001b[39mreturn\u001b[39;00m\n\u001b[1;32m     57\u001b[0m \u001b[39mtry\u001b[39;00m:\n\u001b[0;32m---> 58\u001b[0m     result \u001b[39m=\u001b[39m \u001b[39mself\u001b[39;49m\u001b[39m.\u001b[39;49mfn(\u001b[39m*\u001b[39;49m\u001b[39mself\u001b[39;49m\u001b[39m.\u001b[39;49margs, \u001b[39m*\u001b[39;49m\u001b[39m*\u001b[39;49m\u001b[39mself\u001b[39;49m\u001b[39m.\u001b[39;49mkwargs)\n\u001b[1;32m     59\u001b[0m \u001b[39mexcept\u001b[39;00m \u001b[39mBaseException\u001b[39;00m \u001b[39mas\u001b[39;00m exc:\n\u001b[1;32m     60\u001b[0m     \u001b[39mself\u001b[39m\u001b[39m.\u001b[39mfuture\u001b[39m.\u001b[39mset_exception(exc)\n",
      "File \u001b[0;32m/opt/homebrew/Cellar/python@3.9/3.9.9/Frameworks/Python.framework/Versions/3.9/lib/python3.9/socket.py:954\u001b[0m, in \u001b[0;36mgetaddrinfo\u001b[0;34m(host, port, family, type, proto, flags)\u001b[0m\n\u001b[1;32m    951\u001b[0m \u001b[39m# We override this function since we want to translate the numeric family\u001b[39;00m\n\u001b[1;32m    952\u001b[0m \u001b[39m# and socket type values to enum constants.\u001b[39;00m\n\u001b[1;32m    953\u001b[0m addrlist \u001b[39m=\u001b[39m []\n\u001b[0;32m--> 954\u001b[0m \u001b[39mfor\u001b[39;00m res \u001b[39min\u001b[39;00m _socket\u001b[39m.\u001b[39;49mgetaddrinfo(host, port, family, \u001b[39mtype\u001b[39;49m, proto, flags):\n\u001b[1;32m    955\u001b[0m     af, socktype, proto, canonname, sa \u001b[39m=\u001b[39m res\n\u001b[1;32m    956\u001b[0m     addrlist\u001b[39m.\u001b[39mappend((_intenum_converter(af, AddressFamily),\n\u001b[1;32m    957\u001b[0m                      _intenum_converter(socktype, SocketKind),\n\u001b[1;32m    958\u001b[0m                      proto, canonname, sa))\n",
      "\u001b[0;31mgaierror\u001b[0m: [Errno 8] nodename nor servname provided, or not known"
     ]
    }
   ],
   "source": [
    "await client.connect(\"ftp://puredl@141.24.24.111:50021\")\n",
    "await client.login(\"puredl\", \"F#365%!z\")"
   ]
  },
  {
   "cell_type": "code",
   "execution_count": 4,
   "metadata": {},
   "outputs": [
    {
     "data": {
      "text/plain": [
       "<Process name='Process-2' pid=73520 parent=73316 stopped exitcode=1>"
      ]
     },
     "execution_count": 4,
     "metadata": {},
     "output_type": "execute_result"
    }
   ],
   "source": [
    "p"
   ]
  },
  {
   "cell_type": "code",
   "execution_count": null,
   "metadata": {},
   "outputs": [],
   "source": []
  }
 ],
 "metadata": {
  "kernelspec": {
   "display_name": "Python 3.9.9 64-bit",
   "language": "python",
   "name": "python3"
  },
  "language_info": {
   "codemirror_mode": {
    "name": "ipython",
    "version": 3
   },
   "file_extension": ".py",
   "mimetype": "text/x-python",
   "name": "python",
   "nbconvert_exporter": "python",
   "pygments_lexer": "ipython3",
   "version": "3.9.9"
  },
  "vscode": {
   "interpreter": {
    "hash": "b0fa6594d8f4cbf19f97940f81e996739fb7646882a419484c72d19e05852a7e"
   }
  }
 },
 "nbformat": 4,
 "nbformat_minor": 4
}
